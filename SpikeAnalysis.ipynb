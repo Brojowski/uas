{
 "cells": [
  {
   "cell_type": "code",
   "execution_count": 1,
   "metadata": {},
   "outputs": [],
   "source": [
    "import os\n",
    "import csv"
   ]
  },
  {
   "cell_type": "code",
   "execution_count": 2,
   "metadata": {},
   "outputs": [],
   "source": [
    "class DataPoint:\n",
    "    def __init__(self, time, pwm, voltage, current, rpm, power, escTemp, motorTemp, ambTemp='0'):\n",
    "        self.time = time\n",
    "        self.pwm = pwm\n",
    "        self.voltage = voltage\n",
    "        self.current = current\n",
    "        self.rpm = rpm\n",
    "        self.power = power\n",
    "        self.escTemp = escTemp\n",
    "        self.ambTemp = ambTemp\n",
    "        self.motorTemp = motorTemp\n",
    "        \n",
    "    def __repr__(self):\n",
    "        return self.__str__()\n",
    "    \n",
    "    def __str__(self):\n",
    "        return  '< ' + self.time + ', ' + self.pwm + ', ' + self.voltage + ', ' + self.current + ', ' + self.rpm + ', ' + self.power + ', ' + self.escTemp + ', ' + self.motorTemp + ', ' + self.ambTemp  +  ' >'\n",
    "\n",
    "    \n",
    "def dataPointFrom(row):\n",
    "    if len(row) > 17:\n",
    "        # Data since the ambient temp sensor\n",
    "        return DataPoint(row[0], row[1], row[5], row[6], row[7], row[8], row[13], row[15], row[14])\n",
    "    else:\n",
    "        # Data before the ambient temp sensor\n",
    "        return DataPoint(row[0], row[1], row[5], row[6], row[7], row[8], row[13], row[14])\n",
    "        \n",
    "# For a CSV file, get all the rows\n",
    "def getRows(folder, dataFile):\n",
    "    #print(dataFile)\n",
    "    with open(folder + '/' + dataFile) as rawData:\n",
    "        data = csv.reader(rawData)\n",
    "        next(data) # skip the header line\n",
    "        return [dataPointFrom(row) for row in data]"
   ]
  },
  {
   "cell_type": "code",
   "execution_count": 3,
   "metadata": {
    "scrolled": true
   },
   "outputs": [],
   "source": [
    "# Find data files where the min value is the same as a 3 cycle test\n",
    "def possibleCycleTest(folder, dataFiles):\n",
    "    cyclePossible = []\n",
    "\n",
    "    for dataFile in dataFiles:\n",
    "        dataRun = getRows(folder, dataFile)\n",
    "        minPwm = min(map(lambda x: x.pwm, dataRun))\n",
    "        if (minPwm == '1000'):\n",
    "            cyclePossible.append(dataFile)\n",
    "    return cyclePossible"
   ]
  },
  {
   "cell_type": "code",
   "execution_count": 4,
   "metadata": {},
   "outputs": [],
   "source": [
    "#run = getRows(dataFiles[15])\n",
    "#run = getRows('EqTest_2019-10-16_103716.csv')\n",
    "#run = getRows('EqTest_2019-10-08_143736.csv')\n",
    "#run"
   ]
  },
  {
   "cell_type": "code",
   "execution_count": 5,
   "metadata": {},
   "outputs": [],
   "source": [
    "# First two rows\n",
    "#run[0 : 2]"
   ]
  },
  {
   "cell_type": "code",
   "execution_count": 6,
   "metadata": {},
   "outputs": [],
   "source": [
    "# Last 2 rows\n",
    "#run[len(run)-2 : len(run)]"
   ]
  },
  {
   "cell_type": "code",
   "execution_count": null,
   "metadata": {},
   "outputs": [],
   "source": [
    "spikeSamples = 240\n",
    "\n",
    "def getSpikes(test, run):\n",
    "    tempSpikes = dict()\n",
    "    for i in range(1, len(run)-2):\n",
    "        change = run[i:i+2]\n",
    "        if (change[0].pwm == '2000' and change[1].pwm == '1000'):\n",
    "            tempSpikes[test + ':' + str(i)] = run[i-spikeSamples : i+spikeSamples]\n",
    "    \n",
    "    return tempSpikes"
   ]
  },
  {
   "cell_type": "code",
   "execution_count": null,
   "metadata": {},
   "outputs": [],
   "source": [
    "import matplotlib.pyplot as plt\n",
    "import holoviews as hv\n",
    "import bokeh\n",
    "from bokeh.plotting import *\n",
    "import ipywidgets\n",
    "output_notebook()\n",
    "\n",
    "def plotTempSpikes(tempSpikes):\n",
    "    for k in tempSpikes.keys():\n",
    "        ts = tempSpikes[k]\n",
    "        time0 = float(ts[spikeSamples].time)\n",
    "        time = [float(pt.time)-time0 for pt in ts]\n",
    "        temp0 = float(ts[spikeSamples].motorTemp)\n",
    "        temp = [float(pt.motorTemp)-temp0 for pt in ts]\n",
    "        plt.plot(time, temp)\n",
    "        # Plot individual graphs\n",
    "        #plot = figure(title=k, x_range=(-spikeSamples, spikeSamples), y_range=(-10,20), plot_width=400, plot_height=400)\n",
    "        #plot.circle(x='time', y='temp', source=ColumnDataSource(dict(time=time, temp=temp)))\n",
    "        #show(plot)\n",
    "        "
   ]
  },
  {
   "cell_type": "code",
   "execution_count": null,
   "metadata": {},
   "outputs": [],
   "source": [
    "def plotCycleTestsForFolder(folder):\n",
    "    # Get all the CSV files\n",
    "    dataFiles = list(filter(lambda x: 'csv' in x, os.listdir(folder)))\n",
    "    \n",
    "\n",
    "    cyclePossible = possibleCycleTest(folder, dataFiles)\n",
    "    removedDataSources =[\n",
    "        'EqTest_2019-09-24_112709.csv',\n",
    "        'tiny-3cycle-100%-part4.csv', # Only has flat segement\n",
    "        'tiny-3cycle-70_100-combined.csv' # Has flat seg from tiny-3cycle-100%-part4 and no new data\n",
    "    ]\n",
    "    cyclePossible = list(filter(lambda x: x not in removedDataSources, cyclePossible))\n",
    "    \n",
    "    for cycleTest in cyclePossible:\n",
    "        cycleRows = getRows(folder, cycleTest)\n",
    "        cycleSpikes = getSpikes(cycleTest, cycleRows)\n",
    "        plotTempSpikes(cycleSpikes)"
   ]
  },
  {
   "cell_type": "code",
   "execution_count": null,
   "metadata": {},
   "outputs": [],
   "source": [
    "plotCycleTestsForFolder('data_and_control')\n",
    "#plt.savefig('allData', dpi=1000)"
   ]
  },
  {
   "cell_type": "code",
   "execution_count": null,
   "metadata": {},
   "outputs": [],
   "source": [
    "plotCycleTestsForFolder('eq_proof')\n",
    "#plt.savefig('cleanedData', dpi=1000)"
   ]
  },
  {
   "cell_type": "code",
   "execution_count": null,
   "metadata": {},
   "outputs": [],
   "source": []
  },
  {
   "cell_type": "code",
   "execution_count": null,
   "metadata": {},
   "outputs": [],
   "source": []
  }
 ],
 "metadata": {
  "kernelspec": {
   "display_name": "Python 3",
   "language": "python",
   "name": "python3"
  },
  "language_info": {
   "codemirror_mode": {
    "name": "ipython",
    "version": 3
   },
   "file_extension": ".py",
   "mimetype": "text/x-python",
   "name": "python",
   "nbconvert_exporter": "python",
   "pygments_lexer": "ipython3",
   "version": "3.7.3"
  }
 },
 "nbformat": 4,
 "nbformat_minor": 2
}
