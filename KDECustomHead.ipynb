{
 "cells": [
  {
   "cell_type": "markdown",
   "metadata": {},
   "source": [
    "# KDE Custom Motor Head\n",
    "\n",
    "**Goal:** The KDE motor overheats while running. If we increase airflow over the coils, can we improve the runtime of the motor add different power settings?\n",
    "\n",
    "For our 3D printed part, running it with a prop would tear it apart. Therefore, initial tests should be run with a prop. The main goal of a test should be to show that the rates of temperature change are reduced with the custom head.\n",
    "\n",
    "The KDE website states that their components are designed to have a 5 mph windowflow when they are run. However, we can not measure the effect the fan's airflow provides. As a result, we should use a strict upper and lower bound on temperature.\n",
    "\n",
    "## Test Structure\n",
    "\n",
    "The test will consist of decreasing throttle steps with cooling in between. \n",
    "Initially, the motor will be heated to the starting temperature.\n",
    "Then the motor will be run at the max throttle until the end of a time period, or the thermal safety cutoff is hit. \n",
    "The motor will sit to cool back down to the starting temperature before the next throttle setting lower than max is run.\n",
    "\n",
    "```\n",
    "Throttle:\n",
    " .----.\n",
    " |    |   .----.   \n",
    " |    |   |    |   .----.\n",
    " |    |   |    |   |    |   .----.\n",
    "_|    |___|    |___|    |___|    |___\n",
    "\n",
    "```\n",
    "\n",
    "## Test Parameters\n",
    "| Param | Value | Reason |\n",
    "|---|--|---|\n",
    "| **Start temp**          | 95 \\*F      |\n",
    "| **Safety Cutoff temp**  | 115 \\*F     |\n",
    "| **Max PWM**             | 2000        | 100%\n",
    "| **Min PWM**             | 1200        | 20%\n",
    "| **Heating Time**        | 5 mins      | pretty good at separating runaway in KDE-Levels\n",
    "| **PWM Step**            | -100        | 10% throttle\n"
   ]
  },
  {
   "cell_type": "code",
   "execution_count": null,
   "metadata": {},
   "outputs": [],
   "source": []
  }
 ],
 "metadata": {
  "kernelspec": {
   "display_name": "Python 3",
   "language": "python",
   "name": "python3"
  },
  "language_info": {
   "codemirror_mode": {
    "name": "ipython",
    "version": 3
   },
   "file_extension": ".py",
   "mimetype": "text/x-python",
   "name": "python",
   "nbconvert_exporter": "python",
   "pygments_lexer": "ipython3",
   "version": "3.7.4"
  }
 },
 "nbformat": 4,
 "nbformat_minor": 4
}
