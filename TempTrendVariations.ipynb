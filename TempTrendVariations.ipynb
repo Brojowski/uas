{
 "cells": [
  {
   "cell_type": "code",
   "execution_count": 1,
   "metadata": {},
   "outputs": [
    {
     "data": {
      "text/html": [
       "\n",
       "    <div class=\"bk-root\">\n",
       "        <a href=\"https://bokeh.pydata.org\" target=\"_blank\" class=\"bk-logo bk-logo-small bk-logo-notebook\"></a>\n",
       "        <span id=\"1001\">Loading BokehJS ...</span>\n",
       "    </div>"
      ]
     },
     "metadata": {},
     "output_type": "display_data"
    },
    {
     "data": {
      "application/javascript": [
       "\n",
       "(function(root) {\n",
       "  function now() {\n",
       "    return new Date();\n",
       "  }\n",
       "\n",
       "  var force = true;\n",
       "\n",
       "  if (typeof root._bokeh_onload_callbacks === \"undefined\" || force === true) {\n",
       "    root._bokeh_onload_callbacks = [];\n",
       "    root._bokeh_is_loading = undefined;\n",
       "  }\n",
       "\n",
       "  var JS_MIME_TYPE = 'application/javascript';\n",
       "  var HTML_MIME_TYPE = 'text/html';\n",
       "  var EXEC_MIME_TYPE = 'application/vnd.bokehjs_exec.v0+json';\n",
       "  var CLASS_NAME = 'output_bokeh rendered_html';\n",
       "\n",
       "  /**\n",
       "   * Render data to the DOM node\n",
       "   */\n",
       "  function render(props, node) {\n",
       "    var script = document.createElement(\"script\");\n",
       "    node.appendChild(script);\n",
       "  }\n",
       "\n",
       "  /**\n",
       "   * Handle when an output is cleared or removed\n",
       "   */\n",
       "  function handleClearOutput(event, handle) {\n",
       "    var cell = handle.cell;\n",
       "\n",
       "    var id = cell.output_area._bokeh_element_id;\n",
       "    var server_id = cell.output_area._bokeh_server_id;\n",
       "    // Clean up Bokeh references\n",
       "    if (id != null && id in Bokeh.index) {\n",
       "      Bokeh.index[id].model.document.clear();\n",
       "      delete Bokeh.index[id];\n",
       "    }\n",
       "\n",
       "    if (server_id !== undefined) {\n",
       "      // Clean up Bokeh references\n",
       "      var cmd = \"from bokeh.io.state import curstate; print(curstate().uuid_to_server['\" + server_id + \"'].get_sessions()[0].document.roots[0]._id)\";\n",
       "      cell.notebook.kernel.execute(cmd, {\n",
       "        iopub: {\n",
       "          output: function(msg) {\n",
       "            var id = msg.content.text.trim();\n",
       "            if (id in Bokeh.index) {\n",
       "              Bokeh.index[id].model.document.clear();\n",
       "              delete Bokeh.index[id];\n",
       "            }\n",
       "          }\n",
       "        }\n",
       "      });\n",
       "      // Destroy server and session\n",
       "      var cmd = \"import bokeh.io.notebook as ion; ion.destroy_server('\" + server_id + \"')\";\n",
       "      cell.notebook.kernel.execute(cmd);\n",
       "    }\n",
       "  }\n",
       "\n",
       "  /**\n",
       "   * Handle when a new output is added\n",
       "   */\n",
       "  function handleAddOutput(event, handle) {\n",
       "    var output_area = handle.output_area;\n",
       "    var output = handle.output;\n",
       "\n",
       "    // limit handleAddOutput to display_data with EXEC_MIME_TYPE content only\n",
       "    if ((output.output_type != \"display_data\") || (!output.data.hasOwnProperty(EXEC_MIME_TYPE))) {\n",
       "      return\n",
       "    }\n",
       "\n",
       "    var toinsert = output_area.element.find(\".\" + CLASS_NAME.split(' ')[0]);\n",
       "\n",
       "    if (output.metadata[EXEC_MIME_TYPE][\"id\"] !== undefined) {\n",
       "      toinsert[toinsert.length - 1].firstChild.textContent = output.data[JS_MIME_TYPE];\n",
       "      // store reference to embed id on output_area\n",
       "      output_area._bokeh_element_id = output.metadata[EXEC_MIME_TYPE][\"id\"];\n",
       "    }\n",
       "    if (output.metadata[EXEC_MIME_TYPE][\"server_id\"] !== undefined) {\n",
       "      var bk_div = document.createElement(\"div\");\n",
       "      bk_div.innerHTML = output.data[HTML_MIME_TYPE];\n",
       "      var script_attrs = bk_div.children[0].attributes;\n",
       "      for (var i = 0; i < script_attrs.length; i++) {\n",
       "        toinsert[toinsert.length - 1].firstChild.setAttribute(script_attrs[i].name, script_attrs[i].value);\n",
       "      }\n",
       "      // store reference to server id on output_area\n",
       "      output_area._bokeh_server_id = output.metadata[EXEC_MIME_TYPE][\"server_id\"];\n",
       "    }\n",
       "  }\n",
       "\n",
       "  function register_renderer(events, OutputArea) {\n",
       "\n",
       "    function append_mime(data, metadata, element) {\n",
       "      // create a DOM node to render to\n",
       "      var toinsert = this.create_output_subarea(\n",
       "        metadata,\n",
       "        CLASS_NAME,\n",
       "        EXEC_MIME_TYPE\n",
       "      );\n",
       "      this.keyboard_manager.register_events(toinsert);\n",
       "      // Render to node\n",
       "      var props = {data: data, metadata: metadata[EXEC_MIME_TYPE]};\n",
       "      render(props, toinsert[toinsert.length - 1]);\n",
       "      element.append(toinsert);\n",
       "      return toinsert\n",
       "    }\n",
       "\n",
       "    /* Handle when an output is cleared or removed */\n",
       "    events.on('clear_output.CodeCell', handleClearOutput);\n",
       "    events.on('delete.Cell', handleClearOutput);\n",
       "\n",
       "    /* Handle when a new output is added */\n",
       "    events.on('output_added.OutputArea', handleAddOutput);\n",
       "\n",
       "    /**\n",
       "     * Register the mime type and append_mime function with output_area\n",
       "     */\n",
       "    OutputArea.prototype.register_mime_type(EXEC_MIME_TYPE, append_mime, {\n",
       "      /* Is output safe? */\n",
       "      safe: true,\n",
       "      /* Index of renderer in `output_area.display_order` */\n",
       "      index: 0\n",
       "    });\n",
       "  }\n",
       "\n",
       "  // register the mime type if in Jupyter Notebook environment and previously unregistered\n",
       "  if (root.Jupyter !== undefined) {\n",
       "    var events = require('base/js/events');\n",
       "    var OutputArea = require('notebook/js/outputarea').OutputArea;\n",
       "\n",
       "    if (OutputArea.prototype.mime_types().indexOf(EXEC_MIME_TYPE) == -1) {\n",
       "      register_renderer(events, OutputArea);\n",
       "    }\n",
       "  }\n",
       "\n",
       "  \n",
       "  if (typeof (root._bokeh_timeout) === \"undefined\" || force === true) {\n",
       "    root._bokeh_timeout = Date.now() + 5000;\n",
       "    root._bokeh_failed_load = false;\n",
       "  }\n",
       "\n",
       "  var NB_LOAD_WARNING = {'data': {'text/html':\n",
       "     \"<div style='background-color: #fdd'>\\n\"+\n",
       "     \"<p>\\n\"+\n",
       "     \"BokehJS does not appear to have successfully loaded. If loading BokehJS from CDN, this \\n\"+\n",
       "     \"may be due to a slow or bad network connection. Possible fixes:\\n\"+\n",
       "     \"</p>\\n\"+\n",
       "     \"<ul>\\n\"+\n",
       "     \"<li>re-rerun `output_notebook()` to attempt to load from CDN again, or</li>\\n\"+\n",
       "     \"<li>use INLINE resources instead, as so:</li>\\n\"+\n",
       "     \"</ul>\\n\"+\n",
       "     \"<code>\\n\"+\n",
       "     \"from bokeh.resources import INLINE\\n\"+\n",
       "     \"output_notebook(resources=INLINE)\\n\"+\n",
       "     \"</code>\\n\"+\n",
       "     \"</div>\"}};\n",
       "\n",
       "  function display_loaded() {\n",
       "    var el = document.getElementById(\"1001\");\n",
       "    if (el != null) {\n",
       "      el.textContent = \"BokehJS is loading...\";\n",
       "    }\n",
       "    if (root.Bokeh !== undefined) {\n",
       "      if (el != null) {\n",
       "        el.textContent = \"BokehJS \" + root.Bokeh.version + \" successfully loaded.\";\n",
       "      }\n",
       "    } else if (Date.now() < root._bokeh_timeout) {\n",
       "      setTimeout(display_loaded, 100)\n",
       "    }\n",
       "  }\n",
       "\n",
       "\n",
       "  function run_callbacks() {\n",
       "    try {\n",
       "      root._bokeh_onload_callbacks.forEach(function(callback) {\n",
       "        if (callback != null)\n",
       "          callback();\n",
       "      });\n",
       "    } finally {\n",
       "      delete root._bokeh_onload_callbacks\n",
       "    }\n",
       "    console.debug(\"Bokeh: all callbacks have finished\");\n",
       "  }\n",
       "\n",
       "  function load_libs(css_urls, js_urls, callback) {\n",
       "    if (css_urls == null) css_urls = [];\n",
       "    if (js_urls == null) js_urls = [];\n",
       "\n",
       "    root._bokeh_onload_callbacks.push(callback);\n",
       "    if (root._bokeh_is_loading > 0) {\n",
       "      console.debug(\"Bokeh: BokehJS is being loaded, scheduling callback at\", now());\n",
       "      return null;\n",
       "    }\n",
       "    if (js_urls == null || js_urls.length === 0) {\n",
       "      run_callbacks();\n",
       "      return null;\n",
       "    }\n",
       "    console.debug(\"Bokeh: BokehJS not loaded, scheduling load and callback at\", now());\n",
       "    root._bokeh_is_loading = css_urls.length + js_urls.length;\n",
       "\n",
       "    function on_load() {\n",
       "      root._bokeh_is_loading--;\n",
       "      if (root._bokeh_is_loading === 0) {\n",
       "        console.debug(\"Bokeh: all BokehJS libraries/stylesheets loaded\");\n",
       "        run_callbacks()\n",
       "      }\n",
       "    }\n",
       "\n",
       "    function on_error() {\n",
       "      console.error(\"failed to load \" + url);\n",
       "    }\n",
       "\n",
       "    for (var i = 0; i < css_urls.length; i++) {\n",
       "      var url = css_urls[i];\n",
       "      const element = document.createElement(\"link\");\n",
       "      element.onload = on_load;\n",
       "      element.onerror = on_error;\n",
       "      element.rel = \"stylesheet\";\n",
       "      element.type = \"text/css\";\n",
       "      element.href = url;\n",
       "      console.debug(\"Bokeh: injecting link tag for BokehJS stylesheet: \", url);\n",
       "      document.body.appendChild(element);\n",
       "    }\n",
       "\n",
       "    for (var i = 0; i < js_urls.length; i++) {\n",
       "      var url = js_urls[i];\n",
       "      var element = document.createElement('script');\n",
       "      element.onload = on_load;\n",
       "      element.onerror = on_error;\n",
       "      element.async = false;\n",
       "      element.src = url;\n",
       "      console.debug(\"Bokeh: injecting script tag for BokehJS library: \", url);\n",
       "      document.head.appendChild(element);\n",
       "    }\n",
       "  };var element = document.getElementById(\"1001\");\n",
       "  if (element == null) {\n",
       "    console.error(\"Bokeh: ERROR: autoload.js configured with elementid '1001' but no matching script tag was found. \")\n",
       "    return false;\n",
       "  }\n",
       "\n",
       "  function inject_raw_css(css) {\n",
       "    const element = document.createElement(\"style\");\n",
       "    element.appendChild(document.createTextNode(css));\n",
       "    document.body.appendChild(element);\n",
       "  }\n",
       "\n",
       "  var js_urls = [\"https://cdn.pydata.org/bokeh/release/bokeh-1.3.4.min.js\", \"https://cdn.pydata.org/bokeh/release/bokeh-widgets-1.3.4.min.js\", \"https://cdn.pydata.org/bokeh/release/bokeh-tables-1.3.4.min.js\", \"https://cdn.pydata.org/bokeh/release/bokeh-gl-1.3.4.min.js\"];\n",
       "  var css_urls = [];\n",
       "\n",
       "  var inline_js = [\n",
       "    function(Bokeh) {\n",
       "      Bokeh.set_log_level(\"info\");\n",
       "    },\n",
       "    \n",
       "    function(Bokeh) {\n",
       "      \n",
       "    },\n",
       "    function(Bokeh) {} // ensure no trailing comma for IE\n",
       "  ];\n",
       "\n",
       "  function run_inline_js() {\n",
       "    \n",
       "    if ((root.Bokeh !== undefined) || (force === true)) {\n",
       "      for (var i = 0; i < inline_js.length; i++) {\n",
       "        inline_js[i].call(root, root.Bokeh);\n",
       "      }if (force === true) {\n",
       "        display_loaded();\n",
       "      }} else if (Date.now() < root._bokeh_timeout) {\n",
       "      setTimeout(run_inline_js, 100);\n",
       "    } else if (!root._bokeh_failed_load) {\n",
       "      console.log(\"Bokeh: BokehJS failed to load within specified timeout.\");\n",
       "      root._bokeh_failed_load = true;\n",
       "    } else if (force !== true) {\n",
       "      var cell = $(document.getElementById(\"1001\")).parents('.cell').data().cell;\n",
       "      cell.output_area.append_execute_result(NB_LOAD_WARNING)\n",
       "    }\n",
       "\n",
       "  }\n",
       "\n",
       "  if (root._bokeh_is_loading === 0) {\n",
       "    console.debug(\"Bokeh: BokehJS loaded, going straight to plotting\");\n",
       "    run_inline_js();\n",
       "  } else {\n",
       "    load_libs(css_urls, js_urls, function() {\n",
       "      console.debug(\"Bokeh: BokehJS plotting callback run at\", now());\n",
       "      run_inline_js();\n",
       "    });\n",
       "  }\n",
       "}(window));"
      ],
      "application/vnd.bokehjs_load.v0+json": "\n(function(root) {\n  function now() {\n    return new Date();\n  }\n\n  var force = true;\n\n  if (typeof root._bokeh_onload_callbacks === \"undefined\" || force === true) {\n    root._bokeh_onload_callbacks = [];\n    root._bokeh_is_loading = undefined;\n  }\n\n  \n\n  \n  if (typeof (root._bokeh_timeout) === \"undefined\" || force === true) {\n    root._bokeh_timeout = Date.now() + 5000;\n    root._bokeh_failed_load = false;\n  }\n\n  var NB_LOAD_WARNING = {'data': {'text/html':\n     \"<div style='background-color: #fdd'>\\n\"+\n     \"<p>\\n\"+\n     \"BokehJS does not appear to have successfully loaded. If loading BokehJS from CDN, this \\n\"+\n     \"may be due to a slow or bad network connection. Possible fixes:\\n\"+\n     \"</p>\\n\"+\n     \"<ul>\\n\"+\n     \"<li>re-rerun `output_notebook()` to attempt to load from CDN again, or</li>\\n\"+\n     \"<li>use INLINE resources instead, as so:</li>\\n\"+\n     \"</ul>\\n\"+\n     \"<code>\\n\"+\n     \"from bokeh.resources import INLINE\\n\"+\n     \"output_notebook(resources=INLINE)\\n\"+\n     \"</code>\\n\"+\n     \"</div>\"}};\n\n  function display_loaded() {\n    var el = document.getElementById(\"1001\");\n    if (el != null) {\n      el.textContent = \"BokehJS is loading...\";\n    }\n    if (root.Bokeh !== undefined) {\n      if (el != null) {\n        el.textContent = \"BokehJS \" + root.Bokeh.version + \" successfully loaded.\";\n      }\n    } else if (Date.now() < root._bokeh_timeout) {\n      setTimeout(display_loaded, 100)\n    }\n  }\n\n\n  function run_callbacks() {\n    try {\n      root._bokeh_onload_callbacks.forEach(function(callback) {\n        if (callback != null)\n          callback();\n      });\n    } finally {\n      delete root._bokeh_onload_callbacks\n    }\n    console.debug(\"Bokeh: all callbacks have finished\");\n  }\n\n  function load_libs(css_urls, js_urls, callback) {\n    if (css_urls == null) css_urls = [];\n    if (js_urls == null) js_urls = [];\n\n    root._bokeh_onload_callbacks.push(callback);\n    if (root._bokeh_is_loading > 0) {\n      console.debug(\"Bokeh: BokehJS is being loaded, scheduling callback at\", now());\n      return null;\n    }\n    if (js_urls == null || js_urls.length === 0) {\n      run_callbacks();\n      return null;\n    }\n    console.debug(\"Bokeh: BokehJS not loaded, scheduling load and callback at\", now());\n    root._bokeh_is_loading = css_urls.length + js_urls.length;\n\n    function on_load() {\n      root._bokeh_is_loading--;\n      if (root._bokeh_is_loading === 0) {\n        console.debug(\"Bokeh: all BokehJS libraries/stylesheets loaded\");\n        run_callbacks()\n      }\n    }\n\n    function on_error() {\n      console.error(\"failed to load \" + url);\n    }\n\n    for (var i = 0; i < css_urls.length; i++) {\n      var url = css_urls[i];\n      const element = document.createElement(\"link\");\n      element.onload = on_load;\n      element.onerror = on_error;\n      element.rel = \"stylesheet\";\n      element.type = \"text/css\";\n      element.href = url;\n      console.debug(\"Bokeh: injecting link tag for BokehJS stylesheet: \", url);\n      document.body.appendChild(element);\n    }\n\n    for (var i = 0; i < js_urls.length; i++) {\n      var url = js_urls[i];\n      var element = document.createElement('script');\n      element.onload = on_load;\n      element.onerror = on_error;\n      element.async = false;\n      element.src = url;\n      console.debug(\"Bokeh: injecting script tag for BokehJS library: \", url);\n      document.head.appendChild(element);\n    }\n  };var element = document.getElementById(\"1001\");\n  if (element == null) {\n    console.error(\"Bokeh: ERROR: autoload.js configured with elementid '1001' but no matching script tag was found. \")\n    return false;\n  }\n\n  function inject_raw_css(css) {\n    const element = document.createElement(\"style\");\n    element.appendChild(document.createTextNode(css));\n    document.body.appendChild(element);\n  }\n\n  var js_urls = [\"https://cdn.pydata.org/bokeh/release/bokeh-1.3.4.min.js\", \"https://cdn.pydata.org/bokeh/release/bokeh-widgets-1.3.4.min.js\", \"https://cdn.pydata.org/bokeh/release/bokeh-tables-1.3.4.min.js\", \"https://cdn.pydata.org/bokeh/release/bokeh-gl-1.3.4.min.js\"];\n  var css_urls = [];\n\n  var inline_js = [\n    function(Bokeh) {\n      Bokeh.set_log_level(\"info\");\n    },\n    \n    function(Bokeh) {\n      \n    },\n    function(Bokeh) {} // ensure no trailing comma for IE\n  ];\n\n  function run_inline_js() {\n    \n    if ((root.Bokeh !== undefined) || (force === true)) {\n      for (var i = 0; i < inline_js.length; i++) {\n        inline_js[i].call(root, root.Bokeh);\n      }if (force === true) {\n        display_loaded();\n      }} else if (Date.now() < root._bokeh_timeout) {\n      setTimeout(run_inline_js, 100);\n    } else if (!root._bokeh_failed_load) {\n      console.log(\"Bokeh: BokehJS failed to load within specified timeout.\");\n      root._bokeh_failed_load = true;\n    } else if (force !== true) {\n      var cell = $(document.getElementById(\"1001\")).parents('.cell').data().cell;\n      cell.output_area.append_execute_result(NB_LOAD_WARNING)\n    }\n\n  }\n\n  if (root._bokeh_is_loading === 0) {\n    console.debug(\"Bokeh: BokehJS loaded, going straight to plotting\");\n    run_inline_js();\n  } else {\n    load_libs(css_urls, js_urls, function() {\n      console.debug(\"Bokeh: BokehJS plotting callback run at\", now());\n      run_inline_js();\n    });\n  }\n}(window));"
     },
     "metadata": {},
     "output_type": "display_data"
    }
   ],
   "source": [
    "import math\n",
    "from analysis_tools import *\n",
    "import bokeh\n",
    "from bokeh.plotting import *\n",
    "output_notebook()\n",
    "import matplotlib.pyplot as plt"
   ]
  },
  {
   "cell_type": "code",
   "execution_count": 2,
   "metadata": {},
   "outputs": [],
   "source": [
    "runs = runsFromFolder('data_and_control')"
   ]
  },
  {
   "cell_type": "code",
   "execution_count": 3,
   "metadata": {},
   "outputs": [],
   "source": [
    "l = list(filter(lambda r: '1500_2019-12-04' in r.file, runs))[0]"
   ]
  },
  {
   "cell_type": "code",
   "execution_count": 4,
   "metadata": {},
   "outputs": [
    {
     "data": {
      "text/html": [
       "\n",
       "\n",
       "\n",
       "\n",
       "\n",
       "\n",
       "  <div class=\"bk-root\" id=\"1f797c89-e9a9-4369-8ae0-5957ed7e1a38\" data-root-id=\"1002\"></div>\n"
      ]
     },
     "metadata": {},
     "output_type": "display_data"
    },
    {
     "data": {
      "application/javascript": [
       "(function(root) {\n",
       "  function embed_document(root) {\n",
       "    \n",
       "  var docs_json = {\"203c1a1e-c52c-4a05-bc33-14781b0bb361\":{\"roots\":{\"references\":[{\"attributes\":{\"below\":[{\"id\":\"1011\",\"type\":\"LinearAxis\"}],\"center\":[{\"id\":\"1015\",\"type\":\"Grid\"},{\"id\":\"1020\",\"type\":\"Grid\"}],\"left\":[{\"id\":\"1016\",\"type\":\"LinearAxis\"}],\"renderers\":[{\"id\":\"1037\",\"type\":\"GlyphRenderer\"},{\"id\":\"1042\",\"type\":\"GlyphRenderer\"}],\"title\":{\"id\":\"1044\",\"type\":\"Title\"},\"toolbar\":{\"id\":\"1027\",\"type\":\"Toolbar\"},\"x_range\":{\"id\":\"1003\",\"type\":\"DataRange1d\"},\"x_scale\":{\"id\":\"1007\",\"type\":\"LinearScale\"},\"y_range\":{\"id\":\"1005\",\"type\":\"DataRange1d\"},\"y_scale\":{\"id\":\"1009\",\"type\":\"LinearScale\"}},\"id\":\"1002\",\"subtype\":\"Figure\",\"type\":\"Plot\"},{\"attributes\":{\"ticker\":{\"id\":\"1012\",\"type\":\"BasicTicker\"}},\"id\":\"1015\",\"type\":\"Grid\"},{\"attributes\":{},\"id\":\"1046\",\"type\":\"BasicTickFormatter\"},{\"attributes\":{},\"id\":\"1026\",\"type\":\"HelpTool\"},{\"attributes\":{},\"id\":\"1012\",\"type\":\"BasicTicker\"},{\"attributes\":{\"source\":{\"id\":\"1034\",\"type\":\"ColumnDataSource\"}},\"id\":\"1038\",\"type\":\"CDSView\"},{\"attributes\":{\"dimension\":1,\"ticker\":{\"id\":\"1017\",\"type\":\"BasicTicker\"}},\"id\":\"1020\",\"type\":\"Grid\"},{\"attributes\":{},\"id\":\"1050\",\"type\":\"Selection\"},{\"attributes\":{},\"id\":\"1017\",\"type\":\"BasicTicker\"},{\"attributes\":{\"active_drag\":\"auto\",\"active_inspect\":\"auto\",\"active_multi\":null,\"active_scroll\":\"auto\",\"active_tap\":\"auto\",\"tools\":[{\"id\":\"1021\",\"type\":\"PanTool\"},{\"id\":\"1022\",\"type\":\"WheelZoomTool\"},{\"id\":\"1023\",\"type\":\"BoxZoomTool\"},{\"id\":\"1024\",\"type\":\"SaveTool\"},{\"id\":\"1025\",\"type\":\"ResetTool\"},{\"id\":\"1026\",\"type\":\"HelpTool\"}]},\"id\":\"1027\",\"type\":\"Toolbar\"},{\"attributes\":{\"text\":\"\"},\"id\":\"1044\",\"type\":\"Title\"},{\"attributes\":{\"callback\":null,\"data\":{\"x\":[0.24524424999998878,0.25326375000010015,0.7490165000000969,1.2546527500001017,1.7559472500001199,2.2743597500000847,2.764439250000066,3.265463250000123,3.751495000000065,4.239109250000107,4.731586750000086,5.25207925000008,5.743710750000075,6.245879500000075,6.743459750000087,7.254395000000112,7.769174250000098,8.272003250000079,8.78577400000008,9.295072750000061,9.79561450000006,10.303234250000095,10.797077750000089,11.324188500000059,11.837286250000096,12.338446750000083,12.827880000000084,13.325953250000092,13.811034250000068,14.309760000000102,14.796394250000095,15.291761250000041,15.795332750000085,16.29297325000011,16.789878750000067,17.298846500000092,17.79923725000011,18.30345850000008,18.805348500000093,19.322575250000114,19.8303855000001,20.349236250000107,20.864208250000107,21.36509400000009,21.869112500000103,22.354917000000107,22.829218250000107,23.320557500000042,23.83615650000009,24.346552500000083,24.862600750000112,25.384952750000135,25.886111250000095,26.398553500000116,26.902583250000077,27.398359000000113,27.90154950000008,28.42866100000007,28.952805750000106,29.4742380000001,29.97092925000008,30.46855650000011,30.97748850000007,31.484902250000108,31.986693500000097,32.47991850000009,32.99046350000011,33.507333500000115,34.02468575000011,34.527694000000125,35.02138450000005,35.51522750000006,36.018972500000096,36.53876625000011,37.0492072500001,37.586106750000084,38.09649950000008,38.6142810000001,39.132684500000074,39.654467750000094,40.1670755000001,40.68407100000012,41.2173160000001,41.73998850000011,42.25090500000012,42.77711475000012,43.29890175000011,43.810977000000086,44.31396500000006,44.84023125000009,45.369543250000085,45.8914695000001,46.40555850000011,46.93820625000008,47.475693500000084,48.027714750000115,48.55260050000011,49.07595475000009,49.60364000000007,50.12822725000007,50.67277825000012,51.19913500000011,51.70853800000007,52.22957125000009,52.737920000000166,53.254831250000066,53.76630075000012,54.30824525000012,54.839831250000074,55.34979350000011,55.85615975000011,56.373013000000086,56.90019400000009,57.42260450000009,57.92837175000009,58.43457550000012,58.96237500000008,59.49286250000009,60.02291325000012,60.540929250000076,61.05395675000009,61.578056000000096,62.0797932500001,62.6085520000001,63.14047650000008,63.677827750000084,64.23177000000007,64.7726220000001,65.30172525000013,65.8273705000001,66.35846150000012,66.85696600000014,67.37065975000009,67.88228675000006,68.40575600000008,68.93247575000007,69.45611650000014,69.99275075000007,70.53118000000005,71.04863900000012,71.58121925000009,72.12295800000008,72.65517250000012,73.1962875000001,73.7317027500001,74.25345125000008,74.77544325000011,75.37688875000006,75.93796400000008,76.46715500000008,76.99858000000008,77.53610775000013,78.07549750000011,78.61495550000008,79.16473625000009,79.70551550000008,80.24850425000008,80.76434200000011,81.3215862500001,81.85916025000007,82.40819625000009,82.92805800000012,83.45988225000013,83.98476575000014,84.49963900000012,85.01451300000011,85.54700475000008,86.09033000000005,86.64694675000011,87.18134000000013,87.72682175000013,88.26606275000007,88.83304450000013,89.3741337500001,89.92716375000012,90.47868600000011,91.01852725000013,91.58080750000009,92.1217990000001,92.6539780000001,93.17450700000006,93.7021410000001,94.23733700000007,94.77368900000009,95.3099295000001,95.8528825000001,96.39199800000006,96.9331842500001,97.47487475000005,98.01494775000013,98.55242425000013,99.10511800000008,99.6556052500001,100.18867250000012,100.73566575000007,101.31993500000011,101.87061825000015,102.42450475000012,102.96020700000011,103.50153975000009,104.05507650000008,104.62811100000013,105.1758780000001,105.73466050000013,106.29710250000012,106.82998925000008,107.37582825000008,107.93151325000012,108.47041525000009,109.00628525000009,109.54298050000004,110.0870182500001,110.64615675000009,111.20243350000007,111.75229825000008,112.33331275000015,112.88747150000015,113.43301200000008,114.00623625000011,114.56123475000011,115.09955775000012,115.65987550000011,116.20708625000012,116.7664912500001,117.32737650000006,117.86267025000011,118.3889972500001,118.9390682500001,119.4757425000001,120.02933900000014,120.57756575000012,121.11661250000013,121.6818852500001,122.23990025000008,122.78653625000008,123.33769725000006,123.8826107500001,124.44658050000014,124.99550275000009,125.54253775000011,126.10028650000012,126.6558095000001,127.20722275000017,127.75746775000012,128.3270715000001,128.8928922500001,129.43042325000013,129.9841477500001,130.53801025000013,131.0935530000001,131.64806875000016,132.20040625000007,132.75132000000013,133.27863625000015,133.8188687500001,134.36801200000008,134.93653450000008,135.49033900000012,136.02618750000008,136.5760322500001,137.1254697500001,137.6770270000001,138.23529525000006,138.79169025000013,139.3684240000001,139.92641575000005,140.49422525000014,141.0531130000001,141.62003950000008,142.17302875000013,142.74078075000006,143.3440517500001,143.9004982500001,144.4576052500001,145.0206667500001,145.58916425000012,146.1538642500001,146.7122700000001,147.27675075000016,147.8305170000001,148.39916675000012,148.96160175000006,149.51972100000012,150.0838830000001,150.65285275000008,151.2179382500001,151.7816347500001,152.36254775000015,152.9243882500001,153.48581100000007,154.04618525000006,154.63009200000008,155.2069742500001,155.7775972500001,156.34192750000017,156.90749225000008,157.4795557500001,158.05787800000004,158.64361225000007,159.2295962500001,159.7995712500001,160.36827425000007,160.93077850000012,161.49902800000012,162.05661625000008,162.61106350000006,163.1811172500001,163.74193300000007,164.3388012500001,164.9004210000001,165.45758650000013,166.02142300000008,166.5876572500001,167.1402450000002,167.7073302500001,168.2706202500001,168.8246757500001,169.38401850000008,169.9558350000001,170.52068375000007,171.0728827500001,171.63764950000012,172.1986670000001,172.78264725000014,173.3564052500001,173.91890675000008,174.48465625000014,175.0544357500001,175.6142992500001,176.1822447500001,176.76121050000012,177.34186675000007,177.90637025000012,178.4686675000001,179.0416035000001,179.60247825000008,180.17317200000008,180.7375455000001,181.3159032500001,181.87531975000007,182.43756900000008,183.00388775000008,183.58658825000015,184.16434450000014,184.74974125000008,185.3381277500001,185.91134825000012,186.47751300000013,187.0481897500001,187.6122585000001,188.1932285000001,188.77853025000013,189.35700350000008,189.94732350000007,190.52053300000017,191.09055825000013,191.6580555000001,192.2224337500001,192.79103850000013,193.3598372500001,193.9170375000001,194.4852012500001,195.0422592500001,195.6122085000001,196.19395525000013,196.77985925000004,197.35096400000012,197.9220580000001,198.5013937500001,199.07676600000008,199.64355450000005,200.21907450000015,200.79014925000016,201.3728347500001,201.95671375000012,202.5482002500001,203.1231570000001,203.70079550000008,204.28436925000005,204.87868350000014,205.44909325000012,206.02722325000008,206.6194732500001,207.19613550000014,207.79483575000012,208.36413750000006,208.9405665000001,209.5182745000001,210.08601875000014,210.64075225000016,211.20443775000018,211.77760625000013,212.34423250000015,212.9201955000001,213.47963975000008,214.0504947500001,214.6193737500001,215.19224900000017,215.75285200000008,216.3256407500001,216.90159000000008,217.47144725000007,218.04151550000006,218.60924025000017,219.18680425000016,219.76760700000014,220.33321225000014,220.9063380000001,221.47874225000015,222.0687225000001,222.65407950000014,223.2419210000001,223.79754925000006,224.36651650000013,224.92580225000015,225.51648900000015,226.09833300000014,226.67602100000008,227.2827812500001,227.87279250000012,228.4459110000001,229.03486750000016,229.6265462500001,230.19394825000003,230.76004750000007,231.3341445000001,231.90132725000012,232.51295425000018,233.10508950000013,233.67404425000012,234.24527675000013,234.80859500000014,235.37976650000004,235.93318575000012,236.5017022500001,237.08675075000014,237.67223600000005,238.22560950000016,238.78959100000012,239.36349100000012,239.92883325000008,240.49598275000017,241.08149500000007,241.65059175000016,242.24071300000014,242.8107112500001,243.36475900000013,243.93388075000013,244.53522275000014,245.11838675000007,245.70571925000007,246.34032875000017,246.90392400000013,247.46558075000007,248.03181900000018,248.59381600000012,249.1698655000001,249.7498910000001,250.3326877500001,250.90644275000008,251.4834922500001,252.06158200000013,252.6614345000001,253.2561165000001,253.83594300000013,254.41523475000008,254.98765125000014,255.55927675000012,256.12307000000015,256.71858550000013,257.28426850000017,257.85345750000016,258.4086805000001,258.96297275,259.53708950000015,260.10638125,260.6835037500001,261.27096025000003,261.86126400000006,262.4380395000001,263.0260420000001,263.6201412500001,264.21755050000013,264.81725775000007,265.3928232500001,265.9626302500001,266.53741375000004,267.1001927500001,267.66480875000013,268.2296330000001,268.81035350000013,269.41291875000013,269.9927897500001,270.55586175000013,271.1307535000002,271.6810145000002,272.2515517500001,272.8312415000001,273.40007225000005,273.96719750000005,274.54085575000005,275.1436350000001,275.7285007500001,276.399787,277.0162057500001,277.59287200000017,278.1782590000001,278.76772275000013,279.35980875000007,279.9229862500002,280.5109535000001,281.0837690000001,281.6601045000001,282.27396725000006,282.8743935000001,283.4492650000001,284.0262342500001,284.6050847500001,285.1701407500001,285.73400000000004,286.30854625000006,286.8967485000002,287.48882500000025,288.0561565000001,288.60836225000014,289.1905212500001,289.77107950000016,290.3471695000001,290.93352950000013,291.5122955000001,292.0741295000001,292.63691275000014,293.1902560000001,293.7721790000001,294.3763322500001,294.93810225000016,295.5048710000001,296.08655100000004,296.67052450000017,297.27332775,297.85304975000014,298.4457977500001,299.0183105000001,299.5903802500001,300.1681932500001,300.7684120000002,301.33484325000006,301.9083995000001,302.48646225000005,303.0719422500001,303.6516095000002,304.21876125000006,304.7771195000001,305.3597655000002,305.96425650000015,306.54011100000014,307.1103577500001,307.68819225000016,308.2817840000001,308.8591940000002,309.4555160000001,310.0253462500001,310.5829260000001,311.14033225000014,311.71755125000016,312.3519587500001,312.9345340000001,313.5009492500002,314.06682750000016,314.6549502500002,315.28514500000017,315.89496775000015,316.4802677500001,317.0616162500001,317.65359600000016,318.2262080000001,318.80863525000007,319.4048002500002,319.9998580000001,320.5835587500001,321.17659400000014,321.7942497500001,322.4039185000002,322.9702357500001,323.53862600000014,324.1051892500001,324.6821882500002,325.28147400000006,325.84549925000005,326.41787350000016,326.99549675000014,327.5833080000001,328.1585207500001,328.7397745000001,329.35327525000014,329.9371757500001,330.5030512500001,331.0689090000001,331.65219925000014,332.22695425000006,332.78562450000015,333.36803225000017,333.9348915000001,334.5204260000001,335.10278050000005,335.66917925,336.2616632500001,336.86543475000013,337.4716447500001,338.05493550000017,338.6392407500001,339.2595460000001,339.8534975000001,340.4335320000001,340.99868325000006,341.57770025,342.1674837500001,342.75804050000005,343.36716675000014,343.94540725,344.5051722500001,345.1010257500001,345.67242250000015,346.2704772500001,346.8520790000001,347.43887450000005,348.02406100000013,348.58611825000014,349.14260050000007,349.7037412500001,350.28004450000014,350.84843700000005,351.43307000000016,352.05260150000004,352.6523812500001,353.24108500000006,353.83876525000016,354.42862675000015,355.03612325000006,355.65275450000007,356.2291372500002,356.8051105000001,357.38444025000007,357.97845000000024,358.59519300000017,359.17304650000005,359.7390972500001,360.32886275000004,360.90511500000014,361.46868725000013,362.04993275000004,362.64874350000014,363.24131675000007,363.82929825000014,364.4293770000001,365.0199512500001,365.5951027500002,366.1883790000001,366.76498500000014,367.35122750000016,368.0111977500002,368.6684930000001,369.2916145000001,369.8725965000001,370.4844525000002,371.06819775000014,371.64133175000006,372.2229855000001,372.8006442500001,373.42326450000013,374.0274550000001,374.6263865000002,375.1999260000001,375.7772697500002,376.39756300000016,376.98895424999995,377.5774195000001,378.16808249999997,378.7367822500001,379.32798475000016,379.92747850000023,380.53513575000017,381.1315125,381.7050285,382.3004887500002,382.8798922500001,383.4469837500001,384.0239795000001,384.6220790000002,385.20645350000007,385.7916717500001,386.36498325000025,386.9684607500001,387.54268025000016,388.16545825000014,388.74491750000004,389.3642825000001,389.95634700000016,390.5302655000001,391.1289817500002,391.72074750000013,392.3637687500001,392.9547110000001,393.5403265000001,394.13270450000016,394.71011700000014,395.31427950000005,395.89152550000006,396.4870120000001,397.07237875,397.65955725000015,398.2728490000002,398.88320325000007,399.48442350000005,400.08491050000015,400.67142175000026,401.28434425000006,401.8835142500001,402.51802475000005,403.1363665000001,403.7169465000002,404.3299515000001,404.91870525000024,405.5253655000001,406.14537775,406.74729275000016,407.3633785000001,407.9695652500001,408.58498400000013,409.1732097500002,409.74870875000005,410.3513607500002,410.93897225,411.5647562500002,412.19216400000016,412.7802127500002,413.3887330000001,413.99808950000016,414.578402,415.16956050000016,415.76599425000023,416.3412692500002,416.9218450000002,417.54379075000014,418.1655485000001,418.74639425000004,419.35150300000004,419.9518387500002,420.5457795000001,421.1610202500002,421.73907075000017,422.3507987500001,422.95680550000014,423.5601630000001,424.1533645000001,424.76183575000016,425.37789350000014,425.98245325000005,426.61756100000014,427.2085432500001,427.8115960000001,428.42163175000013,429.02221775000015,429.62364875000014,430.22232500000007,430.8070592500001,431.40815600000025,431.99932875,432.5876040000001,433.19220650000017,433.7772567500001,434.39143700000005,435.0234597500001,435.6512180000001,436.2513645000002,436.85832050000016,437.4649555000002,438.05297175000015,438.6444925000002,439.2331192500001,439.8056125000001,440.4048920000002,440.9964365000002,441.5797367500001,442.16458675000024,442.75473450000015,443.3577690000002,443.97694975000013,444.59626550000013,445.2079747500002,445.83167875000015,446.45036875000005,447.0562962500001,447.6462730000002,448.2414577500002,448.8649735000001,449.51113025000024,450.1336047500002,450.73563075000004,451.34734875000015,451.93237050000016,452.5381390000001,453.15039300000007,453.7525592500001,454.36162600000023,454.9840505000001,455.6102855000001,456.2488730000001,456.8527542500001,457.4661647500002,458.0801557500002,458.6873085000003,459.3170470000001,460.00192100000015,460.6550260000001,461.28409100000016,461.90603075000024,462.53330350000016,463.1466837500001,463.74235625000017,464.3445885000001,464.9615247500002,465.6205960000001,466.27659200000016,466.8848135000002,467.51525600000014,468.15062650000016,468.78729975000005,469.41032650000017,470.0243487500002,470.63134025000016,471.2523355,471.8711375000001,472.4876792500001,473.09177850000015,473.7264260000002,474.35901275000026,474.96119375000006,475.58401700000013,476.2251860000001,476.8689115000001,477.4920397500001,478.0885427500001,478.67574000000025,479.28863925000013,479.9106282500002,480.5069232500001,481.1157822500001,481.7361900000001,482.37393625000004,482.9948305000001,483.6328990000002,484.23212900000016,484.83453875000015,485.4583232500002,486.06650750000006,486.7183570000001,487.36897600000003,487.99832374999994,488.6203735000001,489.2495882500001,489.8541950000002,490.46192975,491.1133652500001,491.7529770000002,492.39383750000013,492.99665949999996,493.59815375000017,494.2078047500002,494.82603175000014,495.4491757500001,496.0721542500002,496.6750642500001,497.295661,497.90748125000016,498.5401062500003,499.1553400000001,499.77874575000016,500.4263525000001,501.03557600000005,501.66296675000024,502.3085502500001,502.93083375000026,503.5432595000002,504.14231500000005,504.74016800000015,505.3788275,505.9903272500002,506.6081117500001,507.2323340000001,507.8389860000001,508.44853175000026,509.0720540000001,509.70184500000016,510.33128475,510.96813600000013,511.58396975000034,512.1991292500003,512.8139482500002,513.4387285000001,514.0872912500002,514.72705725,515.39894325,516.0240257500001,516.6674650000001,517.3451695000001,517.9858745,518.6086315000002,519.2543295000002,519.88960625,520.5157017500001,521.13225225,521.7390915000002,522.395038,523.0292040000002,523.6567545000001,524.3071540000003,524.9310382500004,525.5487145000001,526.1686122500003,526.78176925,527.435013,528.076397,528.6934352500002,529.3141530000001,529.9283705,530.546366,531.1521987500001,531.7830445000002,532.4478720000001,533.0873095000001,533.7212365000001,534.3910702500002,535.0320625000002,535.6615570000001,536.3148310000001,536.9444137500002,537.5849537500002,538.199348,538.8098665,539.4196245,540.0426727500001,540.6743737500001,541.3075352500001,541.9516540000002,542.5995375000001,543.2556225000002,543.9014545000001,544.5701105000003],\"y\":[100.42852124999995,100.73640674999993,101.23349349999995,101.73887324999995,102.23966424999993,102.75778199999993,103.24971124999995,103.74947024999992,104.04651724999998,104.14398045,104.24224489999999,104.34636569999999,104.44488249999999,104.54520134999999,104.6447017,104.74661119999999,104.84988514999999,104.9503719,105.05287989999998,105.15519905,105.25497444999999,105.35676114999998,105.45533559999998,105.56074474999998,105.66345514999998,105.76380829999998,105.8616448,105.96127264999998,106.05825064999998,106.15810769999999,106.25542004999998,106.35443509999999,106.45503754999999,106.55463024999999,106.65400199999999,106.7557028,106.85584779999999,106.9567039,107.05697179999999,107.16045684999999,107.26200245,107.36567354999998,107.4688169,107.56903424999999,107.66985569999999,107.76721909999999,107.86215155,107.96004305,108.06312669999998,108.16523609999999,108.26832414999998,108.37292939999999,108.47321899999999,108.57561154999999,108.67665519999998,108.77570379999999,108.87613559999997,108.98156155,109.086311,109.19083364999999,109.290337,109.38964155,109.49143064999998,109.59301864999999,109.69339074999999,109.7919781,109.89407605,109.98552944999999,110.0,110.0,110.0,110.0,110.0,110.0,110.0,110.0,110.0,110.0,110.0,110.0,110.0,110.0,110.0,110.0,110.0,110.0,110.0,110.0,110.0,110.0,110.0,110.0,110.0,110.0,110.0,110.0,110.0,110.0,110.0,110.0,110.0,110.0,110.0,110.0,110.0,110.0,110.0,110.0,110.0,110.0,110.0,110.0,110.0,110.0,110.0,110.0,110.0,110.0,110.0,110.0,110.0,110.0,110.0,110.0,110.0,110.0,110.0,110.0,110.0,110.0,110.0,110.0,110.0,110.0,110.0,110.0,110.0,110.0,110.0,110.0,110.0,110.0,110.0,110.0,110.0,110.0,110.0,110.0,110.0,110.0,110.0,110.0,110.0,110.0,110.0,110.0,110.0,110.0,110.0,110.0,110.0,110.0,110.0,110.0,110.0,110.0,110.0,110.0,110.0,110.0,110.0,110.0,110.0,110.0,110.0,110.0,110.0,110.0,110.0,110.0,110.0,110.0,110.0,110.0,110.0,110.0,110.0,110.0,110.0,110.0,110.0,110.0,110.0,110.0,110.0,110.0,110.0,110.0,110.0,110.0,110.0,110.0,110.0,110.0,110.0,110.0,110.0,110.0,110.0,110.0,110.0,110.0,110.0,110.0,110.0,110.0,110.0,110.0,110.0,110.0,110.0,110.0,110.0,110.0,110.0,110.0,110.0,110.0,110.0,110.0,110.0,110.0,110.0,110.0,110.0,110.0,110.0,110.0,110.0,110.0,110.0,110.0,110.0,110.0,110.0,110.0,110.0,110.0,110.0,110.0,110.0,110.0,110.0,110.0,110.0,110.0,110.0,110.0,110.0,110.0,110.0,110.0,110.0,110.0,110.0,110.0,110.0,110.0,110.0,110.0,110.0,110.0,110.0,110.0,110.0,110.0,110.0,110.0,110.0,110.0,110.0,110.0,110.0,110.0,110.0,110.0,110.0,110.0,110.0,110.0,110.0,110.0,110.0,110.0,110.0,110.0,110.0,110.0,110.0,110.0,110.0,110.0,110.0,110.0,110.0,110.0,110.0,110.0,110.0,110.0,110.0,110.0,110.0,110.0,110.0,110.0,110.0,110.0,110.0,110.0,110.0,110.0,110.0,110.0,110.0,110.0,110.0,110.0,110.0,110.0,110.0,110.0,110.0,110.0,110.0,110.0,110.0,110.0,110.0,110.0,110.0,110.0,110.0,110.0,110.0,110.0,110.0,110.0,110.0,110.0,110.0,110.0,110.0,110.0,110.0,110.0,110.0,110.0,110.0,110.0,110.0,110.0,110.0,110.0,110.0,110.0,110.0,110.0,110.0,110.0,110.0,110.0,110.0,110.0,110.0,110.0,110.0,110.0,110.0,110.0,110.0,110.0,110.0,110.0,110.0,110.0,110.0,110.0,110.0,110.0,110.0,110.0,110.0,110.0,110.0,110.0,110.0,110.0,110.0,110.0,110.0,110.0,110.0,110.0,110.0,110.0,110.0,110.0,110.0,110.0,110.0,110.0,110.0,110.0,110.0,110.0,110.0,110.0,104.0,104.0,104.0,104.0,104.0,104.0,104.0,104.0,104.0,104.0,104.0,104.0,104.0,104.0,104.0,104.0,104.0,104.0,104.0,104.0,104.0,104.0,104.0,104.0,104.0,104.0,104.0,104.0,104.0,104.0,104.0,104.0,104.0,104.0,104.0,104.0,104.0,104.0,104.0,104.0,104.0,104.0,104.0,104.0,104.0,104.0,104.0,104.0,104.0,104.0,104.0,104.0,104.0,104.0,104.0,104.0,104.0,104.0,104.0,104.0,104.0,104.0,104.0,104.0,104.0,104.0,104.0,104.0,104.0,104.0,104.0,104.0,104.0,104.0,104.0,104.0,104.0,104.0,104.0,104.0,104.0,104.0,104.0,104.0,104.0,104.0,104.0,104.0,104.0,104.0,104.0,104.0,104.0,104.0,104.0,104.0,104.0,104.0,104.0,104.0,104.0,104.0,104.0,104.0,104.0,104.0,104.0,104.0,104.0,104.0,104.0,104.0,104.0,104.0,104.0,104.0,104.0,104.0,104.0,104.0,104.0,104.0,104.0,104.0,104.0,104.0,104.0,104.0,104.0,104.0,104.0,104.0,104.0,104.0,104.0,104.0,104.0,104.0,104.0,104.0,104.0,104.0,104.0,104.0,104.0,104.0,104.0,104.0,104.0,104.0,104.0,104.0,104.0,104.0,104.0,104.0,104.0,104.0,104.0,104.0,104.0,104.0,104.0,104.0,104.0,104.0,104.0,104.0,104.0,104.0,104.0,104.0,104.0,104.0,104.0,104.0,104.0,104.0,104.0,104.0,104.0,104.0,104.0,104.0,104.0,104.0,104.0,104.0,104.0,104.0,104.0,104.0,104.0,104.0,104.0,104.0,104.0,104.0,104.0,104.0,104.0,104.0,104.0,104.0,104.0,104.0,104.0,104.0,104.0,104.0,104.0,104.0,104.0,104.0,104.0,104.0,104.0,104.0,104.0,104.0,104.0,104.0,104.0,104.0,104.0,104.0,104.0,104.0,104.0,104.0,104.0,104.0,104.0,104.0,104.0,104.0,104.0,104.0,104.0,104.0,104.0,104.0,104.0,104.0,104.0,104.0,104.0,104.0,104.0,104.0,104.0,104.0,104.0,104.0,104.0,104.0,104.0,104.0,104.0,104.0,104.0,104.0,104.0,104.0,104.0,104.0,104.0,104.0,104.0,104.0,104.0,104.0,104.0,104.0,104.0,104.0,104.0,104.0,104.0,104.0,104.0,104.0,104.0,104.0,104.0,104.0,104.0,104.0,104.0,104.0,104.0,104.0,104.0,104.0,104.0,104.0,104.0,104.0,104.0,104.0,104.0,104.0,104.0,104.0,104.0,104.0,104.0,104.0,104.0,104.0,104.0,104.0,104.0,104.0,104.0,104.0,104.0,104.0,104.0,104.0,104.0,104.0,104.0,104.0,104.0,104.0,104.0,104.0,104.0,104.0,104.0,104.0,104.0,104.0,104.0,104.0,104.0,104.0,104.0,104.0,104.0,104.0,104.0,104.0,104.0,104.0,104.0,104.0,104.0,104.0,110.0,110.0,110.0,110.0,110.0,110.0,110.0,110.0,110.0,110.0,110.0,110.0,110.0,110.0,110.0,110.0,110.0,110.0,110.0,110.0,110.0,110.0,110.0,110.0,110.0,110.0,110.0,110.0,110.0,110.0,110.0,110.0,110.0,110.0,110.0,110.0,110.0,110.0,110.0,110.0,110.0,110.0,110.0,110.0,110.0,110.0,110.0,110.0,110.0,110.0,110.0,110.0,110.0,110.0,110.0,110.0,110.0,110.0,110.0,110.0,110.0,110.0,110.0,110.0,110.0,110.0,110.0,110.0,110.0,110.0,110.0,110.0,110.0,110.0,110.0,110.0,110.0,110.0,110.0,110.0,110.0,110.0,110.0,110.0,110.0,110.0,110.0,110.0,110.0,110.0,110.0,110.0,110.0,110.0,110.0,110.0,110.0,110.0,110.0,110.0,110.0,110.0,110.0,110.0,110.0,110.0,110.0,110.0,110.0,110.0,110.0,110.0,110.0,110.0,110.0,110.0,110.0,110.0,110.0,110.0,110.0,110.0,110.0,110.0,110.0,110.0,110.0,110.0,110.0,110.0,110.0,110.0,110.0,110.0,110.0,110.0,110.0,110.0,110.0,110.0,110.0,110.0,110.0,110.0,110.0,110.0,110.0,110.0,110.0,110.0,110.0,110.0,110.0,110.0,110.0,110.0,110.0,110.0,110.0,110.0,110.0,110.0,110.0,110.0,110.0,110.0,110.0,110.0,110.0,110.0,110.0,110.0,110.0,110.0,110.0,110.0,110.0,110.0,110.0,110.0,110.0]},\"selected\":{\"id\":\"1052\",\"type\":\"Selection\"},\"selection_policy\":{\"id\":\"1053\",\"type\":\"UnionRenderers\"}},\"id\":\"1039\",\"type\":\"ColumnDataSource\"},{\"attributes\":{\"formatter\":{\"id\":\"1046\",\"type\":\"BasicTickFormatter\"},\"ticker\":{\"id\":\"1012\",\"type\":\"BasicTicker\"}},\"id\":\"1011\",\"type\":\"LinearAxis\"},{\"attributes\":{\"fill_alpha\":{\"value\":0.1},\"fill_color\":{\"value\":\"#1f77b4\"},\"line_alpha\":{\"value\":0.1},\"line_color\":{\"value\":\"#1f77b4\"},\"x\":{\"field\":\"x\"},\"y\":{\"field\":\"y\"}},\"id\":\"1036\",\"type\":\"Scatter\"},{\"attributes\":{\"fill_color\":{\"value\":\"#1f77b4\"},\"line_color\":{\"value\":\"#1f77b4\"},\"x\":{\"field\":\"x\"},\"y\":{\"field\":\"y\"}},\"id\":\"1035\",\"type\":\"Scatter\"},{\"attributes\":{},\"id\":\"1052\",\"type\":\"Selection\"},{\"attributes\":{},\"id\":\"1021\",\"type\":\"PanTool\"},{\"attributes\":{},\"id\":\"1051\",\"type\":\"UnionRenderers\"},{\"attributes\":{},\"id\":\"1053\",\"type\":\"UnionRenderers\"},{\"attributes\":{\"callback\":null},\"id\":\"1003\",\"type\":\"DataRange1d\"},{\"attributes\":{\"source\":{\"id\":\"1039\",\"type\":\"ColumnDataSource\"}},\"id\":\"1043\",\"type\":\"CDSView\"},{\"attributes\":{\"data_source\":{\"id\":\"1034\",\"type\":\"ColumnDataSource\"},\"glyph\":{\"id\":\"1035\",\"type\":\"Scatter\"},\"hover_glyph\":null,\"muted_glyph\":null,\"nonselection_glyph\":{\"id\":\"1036\",\"type\":\"Scatter\"},\"selection_glyph\":null,\"view\":{\"id\":\"1038\",\"type\":\"CDSView\"}},\"id\":\"1037\",\"type\":\"GlyphRenderer\"},{\"attributes\":{\"line_color\":\"gray\",\"x\":{\"field\":\"x\"},\"y\":{\"field\":\"y\"}},\"id\":\"1040\",\"type\":\"Line\"},{\"attributes\":{},\"id\":\"1022\",\"type\":\"WheelZoomTool\"},{\"attributes\":{\"bottom_units\":\"screen\",\"fill_alpha\":{\"value\":0.5},\"fill_color\":{\"value\":\"lightgrey\"},\"left_units\":\"screen\",\"level\":\"overlay\",\"line_alpha\":{\"value\":1.0},\"line_color\":{\"value\":\"black\"},\"line_dash\":[4,4],\"line_width\":{\"value\":2},\"render_mode\":\"css\",\"right_units\":\"screen\",\"top_units\":\"screen\"},\"id\":\"1054\",\"type\":\"BoxAnnotation\"},{\"attributes\":{\"callback\":null},\"id\":\"1005\",\"type\":\"DataRange1d\"},{\"attributes\":{\"data_source\":{\"id\":\"1039\",\"type\":\"ColumnDataSource\"},\"glyph\":{\"id\":\"1040\",\"type\":\"Line\"},\"hover_glyph\":null,\"muted_glyph\":null,\"nonselection_glyph\":{\"id\":\"1041\",\"type\":\"Line\"},\"selection_glyph\":null,\"view\":{\"id\":\"1043\",\"type\":\"CDSView\"}},\"id\":\"1042\",\"type\":\"GlyphRenderer\"},{\"attributes\":{\"formatter\":{\"id\":\"1048\",\"type\":\"BasicTickFormatter\"},\"ticker\":{\"id\":\"1017\",\"type\":\"BasicTicker\"}},\"id\":\"1016\",\"type\":\"LinearAxis\"},{\"attributes\":{\"overlay\":{\"id\":\"1054\",\"type\":\"BoxAnnotation\"}},\"id\":\"1023\",\"type\":\"BoxZoomTool\"},{\"attributes\":{},\"id\":\"1007\",\"type\":\"LinearScale\"},{\"attributes\":{\"callback\":null,\"data\":{\"x\":[0.24524424999998878,0.25326375000010015,0.7490165000000969,1.2546527500001017,1.7559472500001199,2.2743597500000847,2.764439250000066,3.265463250000123,3.751495000000065,4.239109250000107,4.731586750000086,5.25207925000008,5.743710750000075,6.245879500000075,6.743459750000087,7.254395000000112,7.769174250000098,8.272003250000079,8.78577400000008,9.295072750000061,9.79561450000006,10.303234250000095,10.797077750000089,11.324188500000059,11.837286250000096,12.338446750000083,12.827880000000084,13.325953250000092,13.811034250000068,14.309760000000102,14.796394250000095,15.291761250000041,15.795332750000085,16.29297325000011,16.789878750000067,17.298846500000092,17.79923725000011,18.30345850000008,18.805348500000093,19.322575250000114,19.8303855000001,20.349236250000107,20.864208250000107,21.36509400000009,21.869112500000103,22.354917000000107,22.829218250000107,23.320557500000042,23.83615650000009,24.346552500000083,24.862600750000112,25.384952750000135,25.886111250000095,26.398553500000116,26.902583250000077,27.398359000000113,27.90154950000008,28.42866100000007,28.952805750000106,29.4742380000001,29.97092925000008,30.46855650000011,30.97748850000007,31.484902250000108,31.986693500000097,32.47991850000009,32.99046350000011,33.507333500000115,34.02468575000011,34.527694000000125,35.02138450000005,35.51522750000006,36.018972500000096,36.53876625000011,37.0492072500001,37.586106750000084,38.09649950000008,38.6142810000001,39.132684500000074,39.654467750000094,40.1670755000001,40.68407100000012,41.2173160000001,41.73998850000011,42.25090500000012,42.77711475000012,43.29890175000011,43.810977000000086,44.31396500000006,44.84023125000009,45.369543250000085,45.8914695000001,46.40555850000011,46.93820625000008,47.475693500000084,48.027714750000115,48.55260050000011,49.07595475000009,49.60364000000007,50.12822725000007,50.67277825000012,51.19913500000011,51.70853800000007,52.22957125000009,52.737920000000166,53.254831250000066,53.76630075000012,54.30824525000012,54.839831250000074,55.34979350000011,55.85615975000011,56.373013000000086,56.90019400000009,57.42260450000009,57.92837175000009,58.43457550000012,58.96237500000008,59.49286250000009,60.02291325000012,60.540929250000076,61.05395675000009,61.578056000000096,62.0797932500001,62.6085520000001,63.14047650000008,63.677827750000084,64.23177000000007,64.7726220000001,65.30172525000013,65.8273705000001,66.35846150000012,66.85696600000014,67.37065975000009,67.88228675000006,68.40575600000008,68.93247575000007,69.45611650000014,69.99275075000007,70.53118000000005,71.04863900000012,71.58121925000009,72.12295800000008,72.65517250000012,73.1962875000001,73.7317027500001,74.25345125000008,74.77544325000011,75.37688875000006,75.93796400000008,76.46715500000008,76.99858000000008,77.53610775000013,78.07549750000011,78.61495550000008,79.16473625000009,79.70551550000008,80.24850425000008,80.76434200000011,81.3215862500001,81.85916025000007,82.40819625000009,82.92805800000012,83.45988225000013,83.98476575000014,84.49963900000012,85.01451300000011,85.54700475000008,86.09033000000005,86.64694675000011,87.18134000000013,87.72682175000013,88.26606275000007,88.83304450000013,89.3741337500001,89.92716375000012,90.47868600000011,91.01852725000013,91.58080750000009,92.1217990000001,92.6539780000001,93.17450700000006,93.7021410000001,94.23733700000007,94.77368900000009,95.3099295000001,95.8528825000001,96.39199800000006,96.9331842500001,97.47487475000005,98.01494775000013,98.55242425000013,99.10511800000008,99.6556052500001,100.18867250000012,100.73566575000007,101.31993500000011,101.87061825000015,102.42450475000012,102.96020700000011,103.50153975000009,104.05507650000008,104.62811100000013,105.1758780000001,105.73466050000013,106.29710250000012,106.82998925000008,107.37582825000008,107.93151325000012,108.47041525000009,109.00628525000009,109.54298050000004,110.0870182500001,110.64615675000009,111.20243350000007,111.75229825000008,112.33331275000015,112.88747150000015,113.43301200000008,114.00623625000011,114.56123475000011,115.09955775000012,115.65987550000011,116.20708625000012,116.7664912500001,117.32737650000006,117.86267025000011,118.3889972500001,118.9390682500001,119.4757425000001,120.02933900000014,120.57756575000012,121.11661250000013,121.6818852500001,122.23990025000008,122.78653625000008,123.33769725000006,123.8826107500001,124.44658050000014,124.99550275000009,125.54253775000011,126.10028650000012,126.6558095000001,127.20722275000017,127.75746775000012,128.3270715000001,128.8928922500001,129.43042325000013,129.9841477500001,130.53801025000013,131.0935530000001,131.64806875000016,132.20040625000007,132.75132000000013,133.27863625000015,133.8188687500001,134.36801200000008,134.93653450000008,135.49033900000012,136.02618750000008,136.5760322500001,137.1254697500001,137.6770270000001,138.23529525000006,138.79169025000013,139.3684240000001,139.92641575000005,140.49422525000014,141.0531130000001,141.62003950000008,142.17302875000013,142.74078075000006,143.3440517500001,143.9004982500001,144.4576052500001,145.0206667500001,145.58916425000012,146.1538642500001,146.7122700000001,147.27675075000016,147.8305170000001,148.39916675000012,148.96160175000006,149.51972100000012,150.0838830000001,150.65285275000008,151.2179382500001,151.7816347500001,152.36254775000015,152.9243882500001,153.48581100000007,154.04618525000006,154.63009200000008,155.2069742500001,155.7775972500001,156.34192750000017,156.90749225000008,157.4795557500001,158.05787800000004,158.64361225000007,159.2295962500001,159.7995712500001,160.36827425000007,160.93077850000012,161.49902800000012,162.05661625000008,162.61106350000006,163.1811172500001,163.74193300000007,164.3388012500001,164.9004210000001,165.45758650000013,166.02142300000008,166.5876572500001,167.1402450000002,167.7073302500001,168.2706202500001,168.8246757500001,169.38401850000008,169.9558350000001,170.52068375000007,171.0728827500001,171.63764950000012,172.1986670000001,172.78264725000014,173.3564052500001,173.91890675000008,174.48465625000014,175.0544357500001,175.6142992500001,176.1822447500001,176.76121050000012,177.34186675000007,177.90637025000012,178.4686675000001,179.0416035000001,179.60247825000008,180.17317200000008,180.7375455000001,181.3159032500001,181.87531975000007,182.43756900000008,183.00388775000008,183.58658825000015,184.16434450000014,184.74974125000008,185.3381277500001,185.91134825000012,186.47751300000013,187.0481897500001,187.6122585000001,188.1932285000001,188.77853025000013,189.35700350000008,189.94732350000007,190.52053300000017,191.09055825000013,191.6580555000001,192.2224337500001,192.79103850000013,193.3598372500001,193.9170375000001,194.4852012500001,195.0422592500001,195.6122085000001,196.19395525000013,196.77985925000004,197.35096400000012,197.9220580000001,198.5013937500001,199.07676600000008,199.64355450000005,200.21907450000015,200.79014925000016,201.3728347500001,201.95671375000012,202.5482002500001,203.1231570000001,203.70079550000008,204.28436925000005,204.87868350000014,205.44909325000012,206.02722325000008,206.6194732500001,207.19613550000014,207.79483575000012,208.36413750000006,208.9405665000001,209.5182745000001,210.08601875000014,210.64075225000016,211.20443775000018,211.77760625000013,212.34423250000015,212.9201955000001,213.47963975000008,214.0504947500001,214.6193737500001,215.19224900000017,215.75285200000008,216.3256407500001,216.90159000000008,217.47144725000007,218.04151550000006,218.60924025000017,219.18680425000016,219.76760700000014,220.33321225000014,220.9063380000001,221.47874225000015,222.0687225000001,222.65407950000014,223.2419210000001,223.79754925000006,224.36651650000013,224.92580225000015,225.51648900000015,226.09833300000014,226.67602100000008,227.2827812500001,227.87279250000012,228.4459110000001,229.03486750000016,229.6265462500001,230.19394825000003,230.76004750000007,231.3341445000001,231.90132725000012,232.51295425000018,233.10508950000013,233.67404425000012,234.24527675000013,234.80859500000014,235.37976650000004,235.93318575000012,236.5017022500001,237.08675075000014,237.67223600000005,238.22560950000016,238.78959100000012,239.36349100000012,239.92883325000008,240.49598275000017,241.08149500000007,241.65059175000016,242.24071300000014,242.8107112500001,243.36475900000013,243.93388075000013,244.53522275000014,245.11838675000007,245.70571925000007,246.34032875000017,246.90392400000013,247.46558075000007,248.03181900000018,248.59381600000012,249.1698655000001,249.7498910000001,250.3326877500001,250.90644275000008,251.4834922500001,252.06158200000013,252.6614345000001,253.2561165000001,253.83594300000013,254.41523475000008,254.98765125000014,255.55927675000012,256.12307000000015,256.71858550000013,257.28426850000017,257.85345750000016,258.4086805000001,258.96297275,259.53708950000015,260.10638125,260.6835037500001,261.27096025000003,261.86126400000006,262.4380395000001,263.0260420000001,263.6201412500001,264.21755050000013,264.81725775000007,265.3928232500001,265.9626302500001,266.53741375000004,267.1001927500001,267.66480875000013,268.2296330000001,268.81035350000013,269.41291875000013,269.9927897500001,270.55586175000013,271.1307535000002,271.6810145000002,272.2515517500001,272.8312415000001,273.40007225000005,273.96719750000005,274.54085575000005,275.1436350000001,275.7285007500001,276.399787,277.0162057500001,277.59287200000017,278.1782590000001,278.76772275000013,279.35980875000007,279.9229862500002,280.5109535000001,281.0837690000001,281.6601045000001,282.27396725000006,282.8743935000001,283.4492650000001,284.0262342500001,284.6050847500001,285.1701407500001,285.73400000000004,286.30854625000006,286.8967485000002,287.48882500000025,288.0561565000001,288.60836225000014,289.1905212500001,289.77107950000016,290.3471695000001,290.93352950000013,291.5122955000001,292.0741295000001,292.63691275000014,293.1902560000001,293.7721790000001,294.3763322500001,294.93810225000016,295.5048710000001,296.08655100000004,296.67052450000017,297.27332775,297.85304975000014,298.4457977500001,299.0183105000001,299.5903802500001,300.1681932500001,300.7684120000002,301.33484325000006,301.9083995000001,302.48646225000005,303.0719422500001,303.6516095000002,304.21876125000006,304.7771195000001,305.3597655000002,305.96425650000015,306.54011100000014,307.1103577500001,307.68819225000016,308.2817840000001,308.8591940000002,309.4555160000001,310.0253462500001,310.5829260000001,311.14033225000014,311.71755125000016,312.3519587500001,312.9345340000001,313.5009492500002,314.06682750000016,314.6549502500002,315.28514500000017,315.89496775000015,316.4802677500001,317.0616162500001,317.65359600000016,318.2262080000001,318.80863525000007,319.4048002500002,319.9998580000001,320.5835587500001,321.17659400000014,321.7942497500001,322.4039185000002,322.9702357500001,323.53862600000014,324.1051892500001,324.6821882500002,325.28147400000006,325.84549925000005,326.41787350000016,326.99549675000014,327.5833080000001,328.1585207500001,328.7397745000001,329.35327525000014,329.9371757500001,330.5030512500001,331.0689090000001,331.65219925000014,332.22695425000006,332.78562450000015,333.36803225000017,333.9348915000001,334.5204260000001,335.10278050000005,335.66917925,336.2616632500001,336.86543475000013,337.4716447500001,338.05493550000017,338.6392407500001,339.2595460000001,339.8534975000001,340.4335320000001,340.99868325000006,341.57770025,342.1674837500001,342.75804050000005,343.36716675000014,343.94540725,344.5051722500001,345.1010257500001,345.67242250000015,346.2704772500001,346.8520790000001,347.43887450000005,348.02406100000013,348.58611825000014,349.14260050000007,349.7037412500001,350.28004450000014,350.84843700000005,351.43307000000016,352.05260150000004,352.6523812500001,353.24108500000006,353.83876525000016,354.42862675000015,355.03612325000006,355.65275450000007,356.2291372500002,356.8051105000001,357.38444025000007,357.97845000000024,358.59519300000017,359.17304650000005,359.7390972500001,360.32886275000004,360.90511500000014,361.46868725000013,362.04993275000004,362.64874350000014,363.24131675000007,363.82929825000014,364.4293770000001,365.0199512500001,365.5951027500002,366.1883790000001,366.76498500000014,367.35122750000016,368.0111977500002,368.6684930000001,369.2916145000001,369.8725965000001,370.4844525000002,371.06819775000014,371.64133175000006,372.2229855000001,372.8006442500001,373.42326450000013,374.0274550000001,374.6263865000002,375.1999260000001,375.7772697500002,376.39756300000016,376.98895424999995,377.5774195000001,378.16808249999997,378.7367822500001,379.32798475000016,379.92747850000023,380.53513575000017,381.1315125,381.7050285,382.3004887500002,382.8798922500001,383.4469837500001,384.0239795000001,384.6220790000002,385.20645350000007,385.7916717500001,386.36498325000025,386.9684607500001,387.54268025000016,388.16545825000014,388.74491750000004,389.3642825000001,389.95634700000016,390.5302655000001,391.1289817500002,391.72074750000013,392.3637687500001,392.9547110000001,393.5403265000001,394.13270450000016,394.71011700000014,395.31427950000005,395.89152550000006,396.4870120000001,397.07237875,397.65955725000015,398.2728490000002,398.88320325000007,399.48442350000005,400.08491050000015,400.67142175000026,401.28434425000006,401.8835142500001,402.51802475000005,403.1363665000001,403.7169465000002,404.3299515000001,404.91870525000024,405.5253655000001,406.14537775,406.74729275000016,407.3633785000001,407.9695652500001,408.58498400000013,409.1732097500002,409.74870875000005,410.3513607500002,410.93897225,411.5647562500002,412.19216400000016,412.7802127500002,413.3887330000001,413.99808950000016,414.578402,415.16956050000016,415.76599425000023,416.3412692500002,416.9218450000002,417.54379075000014,418.1655485000001,418.74639425000004,419.35150300000004,419.9518387500002,420.5457795000001,421.1610202500002,421.73907075000017,422.3507987500001,422.95680550000014,423.5601630000001,424.1533645000001,424.76183575000016,425.37789350000014,425.98245325000005,426.61756100000014,427.2085432500001,427.8115960000001,428.42163175000013,429.02221775000015,429.62364875000014,430.22232500000007,430.8070592500001,431.40815600000025,431.99932875,432.5876040000001,433.19220650000017,433.7772567500001,434.39143700000005,435.0234597500001,435.6512180000001,436.2513645000002,436.85832050000016,437.4649555000002,438.05297175000015,438.6444925000002,439.2331192500001,439.8056125000001,440.4048920000002,440.9964365000002,441.5797367500001,442.16458675000024,442.75473450000015,443.3577690000002,443.97694975000013,444.59626550000013,445.2079747500002,445.83167875000015,446.45036875000005,447.0562962500001,447.6462730000002,448.2414577500002,448.8649735000001,449.51113025000024,450.1336047500002,450.73563075000004,451.34734875000015,451.93237050000016,452.5381390000001,453.15039300000007,453.7525592500001,454.36162600000023,454.9840505000001,455.6102855000001,456.2488730000001,456.8527542500001,457.4661647500002,458.0801557500002,458.6873085000003,459.3170470000001,460.00192100000015,460.6550260000001,461.28409100000016,461.90603075000024,462.53330350000016,463.1466837500001,463.74235625000017,464.3445885000001,464.9615247500002,465.6205960000001,466.27659200000016,466.8848135000002,467.51525600000014,468.15062650000016,468.78729975000005,469.41032650000017,470.0243487500002,470.63134025000016,471.2523355,471.8711375000001,472.4876792500001,473.09177850000015,473.7264260000002,474.35901275000026,474.96119375000006,475.58401700000013,476.2251860000001,476.8689115000001,477.4920397500001,478.0885427500001,478.67574000000025,479.28863925000013,479.9106282500002,480.5069232500001,481.1157822500001,481.7361900000001,482.37393625000004,482.9948305000001,483.6328990000002,484.23212900000016,484.83453875000015,485.4583232500002,486.06650750000006,486.7183570000001,487.36897600000003,487.99832374999994,488.6203735000001,489.2495882500001,489.8541950000002,490.46192975,491.1133652500001,491.7529770000002,492.39383750000013,492.99665949999996,493.59815375000017,494.2078047500002,494.82603175000014,495.4491757500001,496.0721542500002,496.6750642500001,497.295661,497.90748125000016,498.5401062500003,499.1553400000001,499.77874575000016,500.4263525000001,501.03557600000005,501.66296675000024,502.3085502500001,502.93083375000026,503.5432595000002,504.14231500000005,504.74016800000015,505.3788275,505.9903272500002,506.6081117500001,507.2323340000001,507.8389860000001,508.44853175000026,509.0720540000001,509.70184500000016,510.33128475,510.96813600000013,511.58396975000034,512.1991292500003,512.8139482500002,513.4387285000001,514.0872912500002,514.72705725,515.39894325,516.0240257500001,516.6674650000001,517.3451695000001,517.9858745,518.6086315000002,519.2543295000002,519.88960625,520.5157017500001,521.13225225,521.7390915000002,522.395038,523.0292040000002,523.6567545000001,524.3071540000003,524.9310382500004,525.5487145000001,526.1686122500003,526.78176925,527.435013,528.076397,528.6934352500002,529.3141530000001,529.9283705,530.546366,531.1521987500001,531.7830445000002,532.4478720000001,533.0873095000001,533.7212365000001,534.3910702500002,535.0320625000002,535.6615570000001,536.3148310000001,536.9444137500002,537.5849537500002,538.199348,538.8098665,539.4196245,540.0426727500001,540.6743737500001,541.3075352500001,541.9516540000002,542.5995375000001,543.2556225000002,543.9014545000001,544.5701105000003],\"y\":[104.253125,104.3375,104.43875,104.675,104.675,104.781875,104.7875,104.973125,105.125,105.125,105.125,105.125,105.125,105.125,105.125,105.125,105.125,105.035,105.0125,104.9225,104.7875,104.7875,104.675,104.675,104.675,104.675,104.65812500000001,104.5625,104.5625,104.32624999999999,104.225,104.18,104.0,104.0,103.55,103.4375,103.1675,102.7625,102.7625,102.2,102.2,101.9975,101.8625,101.8625,101.8625,101.8625,101.946875,101.975,101.94125,101.8625,101.8625,101.8625,101.8625,101.8625,101.8625,101.8625,101.8625,101.8625,101.384375,101.3,101.19875,101.075,101.08625,101.3,101.3,101.23249999999999,101.1875,101.215625,101.3,101.3,101.10875,101.075,101.16499999999999,101.3,101.316875,101.6375,101.6375,101.71625,101.75,101.615,101.4125,101.4125,100.7375,100.7375,100.50125,100.4,100.49,100.625,100.61375,100.4,100.4,100.315625,100.2875,100.338125,100.4,100.484375,100.7375,100.7375,100.95124999999999,100.9625,100.81625,100.7375,100.7375,100.7375,100.7375,101.1875,101.1875,100.968125,100.85,100.889375,100.9625,100.9625,101.4125,101.4125,101.778125,101.975,102.05375000000001,102.2,102.2225,102.65,102.65,102.72875,102.7625,102.84125,102.9875,103.0325,103.4375,103.4375,103.74125000000001,103.775,103.5725,103.4375,103.4375,103.4375,103.4375,103.62875,103.6625,103.78625000000001,103.8875,103.98875,104.225,104.2475,104.675,104.675,104.49499999999999,104.45,104.45,104.45,104.14625,103.775,103.724375,103.4375,103.4375,103.13374999999999,103.1,102.880625,102.7625,102.6275,102.425,102.38000000000001,102.2,102.2,102.41375,102.425,102.4925,102.5375,102.57124999999999,102.65,102.63874999999999,102.5375,102.5375,102.441875,102.425,102.18875,102.0875,102.14375,102.2,102.33500000000001,102.65,102.6725,103.1,103.1,103.46000000000001,103.55,103.55,103.55,103.44875,103.2125,103.26875,103.775,103.775,104.53999999999999,104.675,105.11375,105.35,105.10249999999999,104.9,104.82124999999999,104.675,104.64125,104.3375,104.3375,104.12375,104.1125,103.634375,103.55,103.6175,103.6625,103.93249999999999,104.3375,104.421875,104.9,104.9,105.125,105.125,105.02937499999999,105.0125,105.0125,105.0125,104.826875,104.675,104.59625,104.45,104.58500000000001,105.125,105.125,105.33874999999999,105.35,105.603125,105.6875,105.56375,105.4625,105.580625,105.8,105.8675,106.1375,106.1375,106.925,106.925,106.5425,106.475,106.18249999999999,106.025,106.1375,106.25,106.525625,107.0375,107.15,107.6,107.6,107.825,107.825,108.01625,108.05,108.05,108.05,108.15124999999999,108.275,108.5,109.175,109.191875,109.5125,109.5125,109.31,109.2875,109.8275,109.9625,110.11999999999999,110.1875,110.37312499999999,110.525,110.58125,110.6375,110.67687500000001,110.75,110.8625,111.3125,111.329375,111.65,111.65,111.543125,111.5375,111.35749999999999,111.3125,111.39125,111.425,111.54875000000001,111.65,111.700625,111.7625,111.565625,111.2,111.2,111.2,111.16625,110.975,110.975,110.975,110.975,111.3125,111.3125,111.7175,111.7625,111.85249999999999,111.875,111.509375,111.3125,111.18875,111.0875,110.8625,110.6375,110.755625,110.975,111.0425,111.3125,111.36875,111.875,111.875,111.768125,111.7625,111.0425,110.8625,110.5475,110.4125,110.63187500000001,110.75,110.91875,111.0875,110.9525,110.75,110.5475,110.075,110.103125,110.1875,110.17625,110.075,110.075,109.85,109.85,109.85,109.85,109.76,109.7375,109.97375000000001,110.075,110.62625,110.8625,111.5375,111.9875,112.1,112.2125,112.161875,112.1,111.91999999999999,111.65,111.72875,111.875,111.9875,112.4375,112.48249999999999,112.8875,112.8875,113.225,113.225,113.32624999999999,113.3375,112.95500000000001,112.8875,112.38125,112.2125,112.578125,112.775,113.14625,113.45,113.28125,113.1125,112.91,112.6625,112.7525,112.8875,113.084375,113.45,113.41625,113.3375,113.37125,113.45,113.405,113.225,113.19125,112.8875,112.8875,113.5625,113.5625,113.36,113.3375,112.8875,112.775,112.53875,112.4375,112.4375,112.4375,112.60625,112.775,113.0,113.3375,113.534375,113.9,113.871875,113.7875,113.804375,113.9,113.945,114.35,114.35,114.4625,114.4625,114.996875,115.025,115.22749999999999,115.25,114.963125,114.9125,115.29499999999999,115.3625,115.6775,115.8125,116.0825,116.2625,116.555,116.7125,116.96000000000001,117.1625,117.26374999999999,117.3875,117.45500000000001,117.6125,117.725,118.0625,118.0625,118.0625,118.0625,118.0625,118.0625,118.0625,118.0625,118.383125,118.4,118.58000000000001,118.625,118.709375,118.7375,118.83312500000001,118.85,119.08625,119.1875,119.31125,119.4125,119.58125,119.75,119.800625,119.8625,119.9075,119.975,119.975,119.975,119.975,119.975,119.9975,120.0875,120.10437499999999,120.2,120.19437500000001,120.0875,120.0875,120.0875,120.0875,119.72749999999999,119.6375,119.0075,118.85,118.535,118.4,118.16375,118.0625,117.7475,117.6125,117.6125,117.6125,117.66312500000001,117.725,117.764375,117.8375,117.91625,118.0625,118.090625,118.175,118.124375,117.8375,117.82624999999999,117.6125,117.6125,117.8375,117.8375,118.175,118.18625,118.2875,118.2425,117.8375,117.8375,117.275,117.275,116.740625,116.7125,116.51,116.4875,116.38625,116.375,116.375,116.375,116.459375,116.4875,116.414375,116.375,116.30187500000001,116.2625,116.13874999999999,116.0375,116.15,116.2625,116.2625,116.2625,116.16125000000001,115.925,115.925,115.925,115.89125,115.7,115.68875,115.475,115.46374999999999,115.25,115.25,115.3625,115.3625,115.255625,115.25,115.25,115.25,115.34,115.3625,115.20500000000001,115.1375,114.935,114.8,114.66499999999999,114.575,114.29375,114.0125,113.759375,113.45,113.34875000000001,113.225,113.25874999999999,113.3375,113.3375,113.3375,113.196875,112.775,112.724375,112.4375,112.41499999999999,112.325,112.2575,111.9875,111.869375,111.2,111.18875,111.0875,111.07624999999999,110.975,110.96374999999999,110.8625,110.8625,110.8625,110.8625,110.975,110.975,111.07624999999999,111.0875,111.0875,111.0875,111.171875,111.2,111.12125,111.0875,111.00874999999999,110.975,110.975,110.975,111.036875,111.0875,111.138125,111.2,111.2,111.2,111.2,111.2,111.2,111.2,111.2,111.2,111.23375,111.3125,111.3125,111.3125,111.27875,111.0875,111.036875,110.75,110.69375,110.1875,110.170625,109.85,109.85,109.5125,109.5125,109.191875,109.175,109.079375,109.0625,109.0625,109.0625,109.13562499999999,109.175,108.93875,108.8375,108.60125,108.5,108.35375,108.275,108.275,108.275,108.14,108.05,107.830625,107.7125,107.58874999999999,107.4875,107.375,107.2625,107.1725,107.0375,106.9025,106.7,106.565,106.3625,106.3625,106.3625,106.3625,106.3625,106.3625,106.3625,106.424375,106.475,106.3625,106.25,106.098125,105.9125,105.7775,105.575,105.575,105.575,105.625625,105.6875,105.6875,105.6875,105.636875,105.575,105.575,105.575,105.61437500000001,105.6875,105.73249999999999,105.8,105.76062499999999,105.6875,105.63125,105.4625,105.4625,105.4625,105.4625,105.4625,105.4625,105.4625,105.4625,105.4625,105.445625,105.35,105.36125000000001,105.4625,105.44,105.2375,105.186875,104.9,104.88874999999999,104.7875,104.7875,104.7875,104.793125,104.9,104.9,104.9,104.894375,104.7875,104.77624999999999,104.675,104.6525,104.225,104.1125,103.6625,103.5275,102.9875,102.94250000000001,102.7625,102.678125,102.425,102.35749999999999,102.2,102.12125,101.975,101.9075,101.75,101.64875,101.4125,101.2775,101.075,100.985,100.85,100.76,100.625,100.585625,100.5125,100.47875,100.4,100.355,100.2875,100.2425,100.175,100.13562499999999,100.0625,100.0625,100.0625,100.10749999999999,100.175,100.175,100.175,100.23125,100.2875,100.2875,100.2875,100.2875,100.2875,100.175,100.0625,100.0625,100.0625,100.000625,99.95,99.82624999999999,99.725,99.8375,99.95,100.1525,100.2875,100.83874999999999,101.075,101.75,101.975,102.28999999999999,102.425,102.4925,102.5375,102.605,102.65,103.145,103.55,103.611875,103.6625,103.865,104.0,104.0,104.0,104.27,104.3375,104.84375,105.0125,105.4175,105.4625,106.10375,106.1375,106.3625,106.3625,106.8125,106.8125,107.0375,107.0825,107.4875,107.6,107.9375,108.03875,108.275,108.35375,108.5,108.7475,108.95,108.95,108.95,108.95,108.95,108.95,108.95,108.56750000000001,108.5,108.725,108.71374999999999,108.6125,108.55625,108.3875,108.2975,108.1625,107.89250000000001,107.4875,107.09375,106.7,106.75625,106.8125,107.178125,107.375,107.69,107.825,108.01625,108.05,108.26374999999999,108.275,108.38187500000001,108.3875,108.725,108.725,108.725,108.775625,109.0625,109.034375,108.95,108.84875000000001,108.6125,108.494375,108.275,108.213125,108.1625,108.365,108.5,108.57875,108.6125,108.7025,108.725,109.045625,109.0625,109.5125,109.55749999999999,109.9625,109.99625,110.1875,110.2775,110.6375,110.5025,110.1875,109.990625,109.625,109.4,109.175,108.9275,108.725,108.725,108.725,108.725,108.725,108.99499999999999,109.0625,109.63625,109.7375,110.04125,110.075,110.5025,110.530625,110.6375,110.6375,110.6375,110.69375,110.8625,110.8625,110.8625,111.11,111.3125,111.6275,111.7625,112.049375,112.08874999999999,111.875,111.875,111.875,111.80749999999999,111.65,111.7175,111.875,111.97625,112.1,112.3025,112.4375,112.83125,113.0,113.253125,113.3375,112.91,112.8875,112.4375,112.40375,112.1,112.08312500000001,111.9875,112.02125,112.1,112.049375,111.9875,111.695,111.5375,111.26750000000001,111.2,111.093125,111.0875,111.5375,111.554375,111.875,111.824375,111.5375,111.30125,110.75,110.58125,110.4125,110.33375]},\"selected\":{\"id\":\"1050\",\"type\":\"Selection\"},\"selection_policy\":{\"id\":\"1051\",\"type\":\"UnionRenderers\"}},\"id\":\"1034\",\"type\":\"ColumnDataSource\"},{\"attributes\":{\"line_alpha\":0.1,\"line_color\":\"#1f77b4\",\"x\":{\"field\":\"x\"},\"y\":{\"field\":\"y\"}},\"id\":\"1041\",\"type\":\"Line\"},{\"attributes\":{},\"id\":\"1024\",\"type\":\"SaveTool\"},{\"attributes\":{},\"id\":\"1025\",\"type\":\"ResetTool\"},{\"attributes\":{},\"id\":\"1009\",\"type\":\"LinearScale\"},{\"attributes\":{},\"id\":\"1048\",\"type\":\"BasicTickFormatter\"}],\"root_ids\":[\"1002\"]},\"title\":\"Bokeh Application\",\"version\":\"1.3.4\"}};\n",
       "  var render_items = [{\"docid\":\"203c1a1e-c52c-4a05-bc33-14781b0bb361\",\"roots\":{\"1002\":\"1f797c89-e9a9-4369-8ae0-5957ed7e1a38\"}}];\n",
       "  root.Bokeh.embed.embed_items_notebook(docs_json, render_items);\n",
       "\n",
       "  }\n",
       "  if (root.Bokeh !== undefined) {\n",
       "    embed_document(root);\n",
       "  } else {\n",
       "    var attempts = 0;\n",
       "    var timer = setInterval(function(root) {\n",
       "      if (root.Bokeh !== undefined) {\n",
       "        embed_document(root);\n",
       "        clearInterval(timer);\n",
       "      }\n",
       "      attempts++;\n",
       "      if (attempts > 100) {\n",
       "        console.log(\"Bokeh: ERROR: Unable to run BokehJS code because BokehJS library is missing\");\n",
       "        clearInterval(timer);\n",
       "      }\n",
       "    }, 10, root)\n",
       "  }\n",
       "})(window);"
      ],
      "application/vnd.bokehjs_exec.v0+json": ""
     },
     "metadata": {
      "application/vnd.bokehjs_exec.v0+json": {
       "id": "1002"
      }
     },
     "output_type": "display_data"
    }
   ],
   "source": [
    "tempPlot = figure()\n",
    "\n",
    "xs = [x.time for x in l.data]\n",
    "ys = [x.motorTemp for x in l.data]\n",
    "y2 = [20*(x.pwm-1000) / (2000-1000) + 100 for x in l.data]\n",
    "\n",
    "tempPlot.scatter(xs, ys)\n",
    "tempPlot.line(xs, y2, line_color='gray')\n",
    "\n",
    "show(tempPlot)"
   ]
  },
  {
   "cell_type": "code",
   "execution_count": 5,
   "metadata": {},
   "outputs": [],
   "source": [
    "from scipy import stats"
   ]
  },
  {
   "cell_type": "code",
   "execution_count": 6,
   "metadata": {},
   "outputs": [],
   "source": [
    "segSize = 30\n",
    "numSegs = math.ceil(len(l.data) / segSize )"
   ]
  },
  {
   "cell_type": "code",
   "execution_count": 7,
   "metadata": {},
   "outputs": [
    {
     "data": {
      "text/plain": [
       "32"
      ]
     },
     "execution_count": 7,
     "metadata": {},
     "output_type": "execute_result"
    }
   ],
   "source": [
    "numSegs"
   ]
  },
  {
   "cell_type": "code",
   "execution_count": 8,
   "metadata": {},
   "outputs": [],
   "source": [
    "segmentsIndexes = [(segSize*rng, (segSize*rng)+segSize) for rng in range(0, numSegs)]"
   ]
  },
  {
   "cell_type": "code",
   "execution_count": 9,
   "metadata": {},
   "outputs": [],
   "source": [
    "segments = [l.data[s[0]: s[1]] for s in segmentsIndexes]"
   ]
  },
  {
   "cell_type": "code",
   "execution_count": 10,
   "metadata": {},
   "outputs": [],
   "source": [
    "slopes = [stats.linregress([(pt.time, pt.motorTemp) for pt in s]) for s in segments]"
   ]
  },
  {
   "cell_type": "code",
   "execution_count": 11,
   "metadata": {},
   "outputs": [
    {
     "data": {
      "text/html": [
       "\n",
       "\n",
       "\n",
       "\n",
       "\n",
       "\n",
       "  <div class=\"bk-root\" id=\"3b36877b-809c-45dc-9803-186149a1566e\" data-root-id=\"1121\"></div>\n"
      ]
     },
     "metadata": {},
     "output_type": "display_data"
    },
    {
     "data": {
      "application/javascript": [
       "(function(root) {\n",
       "  function embed_document(root) {\n",
       "    \n",
       "  var docs_json = {\"b1bfc2dc-26f6-4d2b-8b0d-52c86f81eac7\":{\"roots\":{\"references\":[{\"attributes\":{\"below\":[{\"id\":\"1130\",\"type\":\"LinearAxis\"}],\"center\":[{\"id\":\"1134\",\"type\":\"Grid\"},{\"id\":\"1139\",\"type\":\"Grid\"}],\"left\":[{\"id\":\"1135\",\"type\":\"LinearAxis\"}],\"renderers\":[{\"id\":\"1156\",\"type\":\"GlyphRenderer\"},{\"id\":\"1161\",\"type\":\"GlyphRenderer\"},{\"id\":\"1166\",\"type\":\"GlyphRenderer\"}],\"title\":{\"id\":\"1179\",\"type\":\"Title\"},\"toolbar\":{\"id\":\"1146\",\"type\":\"Toolbar\"},\"x_range\":{\"id\":\"1122\",\"type\":\"DataRange1d\"},\"x_scale\":{\"id\":\"1126\",\"type\":\"LinearScale\"},\"y_range\":{\"id\":\"1124\",\"type\":\"DataRange1d\"},\"y_scale\":{\"id\":\"1128\",\"type\":\"LinearScale\"}},\"id\":\"1121\",\"subtype\":\"Figure\",\"type\":\"Plot\"},{\"attributes\":{\"source\":{\"id\":\"1158\",\"type\":\"ColumnDataSource\"}},\"id\":\"1162\",\"type\":\"CDSView\"},{\"attributes\":{},\"id\":\"1136\",\"type\":\"BasicTicker\"},{\"attributes\":{\"callback\":null},\"id\":\"1124\",\"type\":\"DataRange1d\"},{\"attributes\":{\"active_drag\":\"auto\",\"active_inspect\":\"auto\",\"active_multi\":null,\"active_scroll\":\"auto\",\"active_tap\":\"auto\",\"tools\":[{\"id\":\"1140\",\"type\":\"PanTool\"},{\"id\":\"1141\",\"type\":\"WheelZoomTool\"},{\"id\":\"1142\",\"type\":\"BoxZoomTool\"},{\"id\":\"1143\",\"type\":\"SaveTool\"},{\"id\":\"1144\",\"type\":\"ResetTool\"},{\"id\":\"1145\",\"type\":\"HelpTool\"}]},\"id\":\"1146\",\"type\":\"Toolbar\"},{\"attributes\":{\"bottom_units\":\"screen\",\"fill_alpha\":{\"value\":0.5},\"fill_color\":{\"value\":\"lightgrey\"},\"left_units\":\"screen\",\"level\":\"overlay\",\"line_alpha\":{\"value\":1.0},\"line_color\":{\"value\":\"black\"},\"line_dash\":[4,4],\"line_width\":{\"value\":2},\"render_mode\":\"css\",\"right_units\":\"screen\",\"top_units\":\"screen\"},\"id\":\"1191\",\"type\":\"BoxAnnotation\"},{\"attributes\":{\"fill_alpha\":{\"value\":0.1},\"fill_color\":{\"value\":\"#1f77b4\"},\"line_alpha\":{\"value\":0.1},\"line_color\":{\"value\":\"#1f77b4\"},\"x\":{\"field\":\"x\"},\"y\":{\"field\":\"y\"}},\"id\":\"1165\",\"type\":\"Scatter\"},{\"attributes\":{\"callback\":null,\"data\":{\"x\":[0,1,2,3,4,5,6,7,8,9,10,11,12,13,14,15,16,17,18,19,20,21,22,23,24,25,26,27,28,29,30,31],\"y\":[0.004549095954520471,0.1681665269558009,0.042507998312216445,0.12241964183387972,0.11300777880677114,0.0574192936485041,0.048327244734315045,0.11533633195166246,0.2713250514348109,0.020998030144491257,0.046249419559936764,0.16998233996689124,0.02001982196517516,0.13977405189934608,0.22406798178649937,0.042149872514192256,0.008009929268620973,0.06827095033405221,0.18621973538134823,0.055360553239183784,0.13504709729855988,0.18453345314385963,0.047524523441254546,0.07780117048257403,0.19026774107748382,0.08237122935847459,0.32640577379801694,0.10254162041373706,0.050690335162132574,0.04351794416486108,0.06920218460354106,0.11349145434177706]},\"selected\":{\"id\":\"1189\",\"type\":\"Selection\"},\"selection_policy\":{\"id\":\"1190\",\"type\":\"UnionRenderers\"}},\"id\":\"1163\",\"type\":\"ColumnDataSource\"},{\"attributes\":{\"fill_color\":{\"value\":\"#1f77b4\"},\"line_color\":{\"value\":\"#1f77b4\"},\"x\":{\"field\":\"x\"},\"y\":{\"field\":\"y\"}},\"id\":\"1164\",\"type\":\"Scatter\"},{\"attributes\":{\"data_source\":{\"id\":\"1163\",\"type\":\"ColumnDataSource\"},\"glyph\":{\"id\":\"1164\",\"type\":\"Scatter\"},\"hover_glyph\":null,\"muted_glyph\":null,\"nonselection_glyph\":{\"id\":\"1165\",\"type\":\"Scatter\"},\"selection_glyph\":null,\"view\":{\"id\":\"1167\",\"type\":\"CDSView\"}},\"id\":\"1166\",\"type\":\"GlyphRenderer\"},{\"attributes\":{\"callback\":null,\"data\":{\"x\":[0,1,2,3,4,5,6,7,8,9,10,11,12,13,14,15,16,17,18,19,20,21,22,23,24,25,26,27,28,29,30,31],\"y\":[0.2277646279574944,0.10107828526343862,0.036322725811637244,0.033283656234475066,0.17037296786573666,0.11322482296445888,0.18768202760488434,0.2562364240281318,0.4040209228251654,0.5608447054927279,0.5592180240203385,0.545444804846928,0.6560007013237485,0.6856316297010628,0.8719402316316492,1.0,0.9084967320261468,0.8206948949475472,0.7201523431031636,0.5606498933403468,0.5294799489592166,0.37967914438502975,0.27919503618635866,0.23692079911945052,0.049579692781236334,0.0,0.24306712252710477,0.40345596758325897,0.42898610015292954,0.4893194237456526,0.6072684414053756,0.5675467561982298]},\"selected\":{\"id\":\"1185\",\"type\":\"Selection\"},\"selection_policy\":{\"id\":\"1186\",\"type\":\"UnionRenderers\"}},\"id\":\"1153\",\"type\":\"ColumnDataSource\"},{\"attributes\":{},\"id\":\"1186\",\"type\":\"UnionRenderers\"},{\"attributes\":{\"data_source\":{\"id\":\"1153\",\"type\":\"ColumnDataSource\"},\"glyph\":{\"id\":\"1154\",\"type\":\"Line\"},\"hover_glyph\":null,\"muted_glyph\":null,\"nonselection_glyph\":{\"id\":\"1155\",\"type\":\"Line\"},\"selection_glyph\":null,\"view\":{\"id\":\"1157\",\"type\":\"CDSView\"}},\"id\":\"1156\",\"type\":\"GlyphRenderer\"},{\"attributes\":{},\"id\":\"1140\",\"type\":\"PanTool\"},{\"attributes\":{\"line_alpha\":0.1,\"line_color\":\"#1f77b4\",\"x\":{\"field\":\"x\"},\"y\":{\"field\":\"y\"}},\"id\":\"1155\",\"type\":\"Line\"},{\"attributes\":{\"source\":{\"id\":\"1163\",\"type\":\"ColumnDataSource\"}},\"id\":\"1167\",\"type\":\"CDSView\"},{\"attributes\":{\"callback\":null,\"data\":{\"x\":[0,1,2,3,4,5,6,7,8,9,10,11,12,13,14,15,16,17,18,19,20,21,22,23,24,25,26,27,28,29,30,31],\"y\":[0.004549095954520471,0.1681665269558009,0.042507998312216445,0.12241964183387972,0.11300777880677114,0.0574192936485041,0.048327244734315045,0.11533633195166246,0.2713250514348109,0.020998030144491257,0.046249419559936764,0.16998233996689124,0.02001982196517516,0.13977405189934608,0.22406798178649937,0.042149872514192256,0.008009929268620973,0.06827095033405221,0.18621973538134823,0.055360553239183784,0.13504709729855988,0.18453345314385963,0.047524523441254546,0.07780117048257403,0.19026774107748382,0.08237122935847459,0.32640577379801694,0.10254162041373706,0.050690335162132574,0.04351794416486108,0.06920218460354106,0.11349145434177706]},\"selected\":{\"id\":\"1187\",\"type\":\"Selection\"},\"selection_policy\":{\"id\":\"1188\",\"type\":\"UnionRenderers\"}},\"id\":\"1158\",\"type\":\"ColumnDataSource\"},{\"attributes\":{},\"id\":\"1183\",\"type\":\"BasicTickFormatter\"},{\"attributes\":{},\"id\":\"1190\",\"type\":\"UnionRenderers\"},{\"attributes\":{\"callback\":null},\"id\":\"1122\",\"type\":\"DataRange1d\"},{\"attributes\":{\"text\":\"\"},\"id\":\"1179\",\"type\":\"Title\"},{\"attributes\":{},\"id\":\"1181\",\"type\":\"BasicTickFormatter\"},{\"attributes\":{\"source\":{\"id\":\"1153\",\"type\":\"ColumnDataSource\"}},\"id\":\"1157\",\"type\":\"CDSView\"},{\"attributes\":{},\"id\":\"1141\",\"type\":\"WheelZoomTool\"},{\"attributes\":{\"overlay\":{\"id\":\"1191\",\"type\":\"BoxAnnotation\"}},\"id\":\"1142\",\"type\":\"BoxZoomTool\"},{\"attributes\":{},\"id\":\"1126\",\"type\":\"LinearScale\"},{\"attributes\":{\"line_color\":\"#1f77b4\",\"x\":{\"field\":\"x\"},\"y\":{\"field\":\"y\"}},\"id\":\"1159\",\"type\":\"Line\"},{\"attributes\":{},\"id\":\"1189\",\"type\":\"Selection\"},{\"attributes\":{\"formatter\":{\"id\":\"1181\",\"type\":\"BasicTickFormatter\"},\"ticker\":{\"id\":\"1131\",\"type\":\"BasicTicker\"}},\"id\":\"1130\",\"type\":\"LinearAxis\"},{\"attributes\":{},\"id\":\"1143\",\"type\":\"SaveTool\"},{\"attributes\":{},\"id\":\"1128\",\"type\":\"LinearScale\"},{\"attributes\":{\"line_alpha\":0.1,\"line_color\":\"#1f77b4\",\"x\":{\"field\":\"x\"},\"y\":{\"field\":\"y\"}},\"id\":\"1160\",\"type\":\"Line\"},{\"attributes\":{},\"id\":\"1144\",\"type\":\"ResetTool\"},{\"attributes\":{},\"id\":\"1185\",\"type\":\"Selection\"},{\"attributes\":{\"ticker\":{\"id\":\"1131\",\"type\":\"BasicTicker\"}},\"id\":\"1134\",\"type\":\"Grid\"},{\"attributes\":{\"data_source\":{\"id\":\"1158\",\"type\":\"ColumnDataSource\"},\"glyph\":{\"id\":\"1159\",\"type\":\"Line\"},\"hover_glyph\":null,\"muted_glyph\":null,\"nonselection_glyph\":{\"id\":\"1160\",\"type\":\"Line\"},\"selection_glyph\":null,\"view\":{\"id\":\"1162\",\"type\":\"CDSView\"}},\"id\":\"1161\",\"type\":\"GlyphRenderer\"},{\"attributes\":{},\"id\":\"1145\",\"type\":\"HelpTool\"},{\"attributes\":{},\"id\":\"1131\",\"type\":\"BasicTicker\"},{\"attributes\":{\"formatter\":{\"id\":\"1183\",\"type\":\"BasicTickFormatter\"},\"ticker\":{\"id\":\"1136\",\"type\":\"BasicTicker\"}},\"id\":\"1135\",\"type\":\"LinearAxis\"},{\"attributes\":{},\"id\":\"1187\",\"type\":\"Selection\"},{\"attributes\":{},\"id\":\"1188\",\"type\":\"UnionRenderers\"},{\"attributes\":{\"dimension\":1,\"ticker\":{\"id\":\"1136\",\"type\":\"BasicTicker\"}},\"id\":\"1139\",\"type\":\"Grid\"},{\"attributes\":{\"line_color\":\"red\",\"x\":{\"field\":\"x\"},\"y\":{\"field\":\"y\"}},\"id\":\"1154\",\"type\":\"Line\"}],\"root_ids\":[\"1121\"]},\"title\":\"Bokeh Application\",\"version\":\"1.3.4\"}};\n",
       "  var render_items = [{\"docid\":\"b1bfc2dc-26f6-4d2b-8b0d-52c86f81eac7\",\"roots\":{\"1121\":\"3b36877b-809c-45dc-9803-186149a1566e\"}}];\n",
       "  root.Bokeh.embed.embed_items_notebook(docs_json, render_items);\n",
       "\n",
       "  }\n",
       "  if (root.Bokeh !== undefined) {\n",
       "    embed_document(root);\n",
       "  } else {\n",
       "    var attempts = 0;\n",
       "    var timer = setInterval(function(root) {\n",
       "      if (root.Bokeh !== undefined) {\n",
       "        embed_document(root);\n",
       "        clearInterval(timer);\n",
       "      }\n",
       "      attempts++;\n",
       "      if (attempts > 100) {\n",
       "        console.log(\"Bokeh: ERROR: Unable to run BokehJS code because BokehJS library is missing\");\n",
       "        clearInterval(timer);\n",
       "      }\n",
       "    }, 10, root)\n",
       "  }\n",
       "})(window);"
      ],
      "application/vnd.bokehjs_exec.v0+json": ""
     },
     "metadata": {
      "application/vnd.bokehjs_exec.v0+json": {
       "id": "1121"
      }
     },
     "output_type": "display_data"
    }
   ],
   "source": [
    "\n",
    "#show(tempPlot)\n",
    "\n",
    "plot = figure()\n",
    "\n",
    "xs = list(range(0, len(slopes)))\n",
    "ys = [sum([p.motorTemp for p in s])/len(s) for s in segments]\n",
    "\n",
    "# Scale Temp to slope\n",
    "smax = max(slopes)\n",
    "tmax, tmin = max(ys), min(ys)\n",
    "ys = [ ((y-tmin)/(tmax-tmin)) for y in ys]\n",
    "\n",
    "plot.line(xs, ys, line_color='red')\n",
    "\n",
    "#show(plot)\n",
    "#plot = figure()\n",
    "\n",
    "ys = [abs(s.slope) for s in slopes]\n",
    "\n",
    "plot.line(xs, ys)\n",
    "plot.scatter(xs, ys)\n",
    "show(plot)"
   ]
  },
  {
   "cell_type": "code",
   "execution_count": 12,
   "metadata": {},
   "outputs": [
    {
     "data": {
      "text/html": [
       "\n",
       "\n",
       "\n",
       "\n",
       "\n",
       "\n",
       "  <div class=\"bk-root\" id=\"04e39916-64cf-4cee-865e-89132d104318\" data-root-id=\"1270\"></div>\n"
      ]
     },
     "metadata": {},
     "output_type": "display_data"
    },
    {
     "data": {
      "application/javascript": [
       "(function(root) {\n",
       "  function embed_document(root) {\n",
       "    \n",
       "  var docs_json = {\"da28e6be-54e4-4226-ba7a-71750a9a85a3\":{\"roots\":{\"references\":[{\"attributes\":{\"below\":[{\"id\":\"1279\",\"type\":\"LinearAxis\"}],\"center\":[{\"id\":\"1283\",\"type\":\"Grid\"},{\"id\":\"1288\",\"type\":\"Grid\"}],\"left\":[{\"id\":\"1284\",\"type\":\"LinearAxis\"}],\"renderers\":[{\"id\":\"1305\",\"type\":\"GlyphRenderer\"}],\"title\":{\"id\":\"1331\",\"type\":\"Title\"},\"toolbar\":{\"id\":\"1295\",\"type\":\"Toolbar\"},\"x_range\":{\"id\":\"1271\",\"type\":\"DataRange1d\"},\"x_scale\":{\"id\":\"1275\",\"type\":\"LinearScale\"},\"y_range\":{\"id\":\"1273\",\"type\":\"DataRange1d\"},\"y_scale\":{\"id\":\"1277\",\"type\":\"LinearScale\"}},\"id\":\"1270\",\"subtype\":\"Figure\",\"type\":\"Plot\"},{\"attributes\":{},\"id\":\"1294\",\"type\":\"HelpTool\"},{\"attributes\":{},\"id\":\"1289\",\"type\":\"PanTool\"},{\"attributes\":{},\"id\":\"1280\",\"type\":\"BasicTicker\"},{\"attributes\":{\"callback\":null,\"data\":{\"x\":[0.24524424999998878,0.25326375000010015,0.7490165000000969,1.2546527500001017,1.7559472500001199,2.2743597500000847,2.764439250000066,3.265463250000123,3.751495000000065,4.239109250000107,4.731586750000086,5.25207925000008,5.743710750000075,6.245879500000075,6.743459750000087,7.254395000000112,7.769174250000098,8.272003250000079,8.78577400000008,9.295072750000061,9.79561450000006,10.303234250000095,10.797077750000089,11.324188500000059,11.837286250000096,12.338446750000083,12.827880000000084,13.325953250000092,13.811034250000068,14.309760000000102,14.796394250000095,15.291761250000041,15.795332750000085,16.29297325000011,16.789878750000067,17.298846500000092,17.79923725000011,18.30345850000008,18.805348500000093,19.322575250000114,19.8303855000001,20.349236250000107,20.864208250000107,21.36509400000009,21.869112500000103,22.354917000000107,22.829218250000107,23.320557500000042,23.83615650000009,24.346552500000083,24.862600750000112,25.384952750000135,25.886111250000095,26.398553500000116,26.902583250000077,27.398359000000113,27.90154950000008,28.42866100000007,28.952805750000106,29.4742380000001,29.97092925000008,30.46855650000011,30.97748850000007,31.484902250000108,31.986693500000097,32.47991850000009,32.99046350000011,33.507333500000115,34.02468575000011,34.527694000000125,35.02138450000005,35.51522750000006,36.018972500000096,36.53876625000011,37.0492072500001,37.586106750000084,38.09649950000008,38.6142810000001,39.132684500000074,39.654467750000094,40.1670755000001,40.68407100000012,41.2173160000001,41.73998850000011,42.25090500000012,42.77711475000012,43.29890175000011,43.810977000000086,44.31396500000006,44.84023125000009,45.369543250000085,45.8914695000001,46.40555850000011,46.93820625000008,47.475693500000084,48.027714750000115,48.55260050000011,49.07595475000009,49.60364000000007,50.12822725000007,50.67277825000012,51.19913500000011,51.70853800000007,52.22957125000009,52.737920000000166,53.254831250000066,53.76630075000012,54.30824525000012,54.839831250000074,55.34979350000011,55.85615975000011,56.373013000000086,56.90019400000009,57.42260450000009,57.92837175000009,58.43457550000012,58.96237500000008,59.49286250000009,60.02291325000012,60.540929250000076,61.05395675000009,61.578056000000096,62.0797932500001,62.6085520000001,63.14047650000008,63.677827750000084,64.23177000000007,64.7726220000001,65.30172525000013,65.8273705000001,66.35846150000012,66.85696600000014,67.37065975000009,67.88228675000006,68.40575600000008,68.93247575000007,69.45611650000014,69.99275075000007,70.53118000000005,71.04863900000012,71.58121925000009,72.12295800000008,72.65517250000012,73.1962875000001,73.7317027500001,74.25345125000008,74.77544325000011,75.37688875000006,75.93796400000008,76.46715500000008,76.99858000000008,77.53610775000013,78.07549750000011,78.61495550000008,79.16473625000009,79.70551550000008,80.24850425000008,80.76434200000011,81.3215862500001,81.85916025000007,82.40819625000009,82.92805800000012,83.45988225000013,83.98476575000014,84.49963900000012,85.01451300000011,85.54700475000008,86.09033000000005,86.64694675000011,87.18134000000013,87.72682175000013,88.26606275000007,88.83304450000013,89.3741337500001,89.92716375000012,90.47868600000011,91.01852725000013,91.58080750000009,92.1217990000001,92.6539780000001,93.17450700000006,93.7021410000001,94.23733700000007,94.77368900000009,95.3099295000001,95.8528825000001,96.39199800000006,96.9331842500001,97.47487475000005,98.01494775000013,98.55242425000013,99.10511800000008,99.6556052500001,100.18867250000012,100.73566575000007,101.31993500000011,101.87061825000015,102.42450475000012,102.96020700000011,103.50153975000009,104.05507650000008,104.62811100000013,105.1758780000001,105.73466050000013,106.29710250000012,106.82998925000008,107.37582825000008,107.93151325000012,108.47041525000009,109.00628525000009,109.54298050000004,110.0870182500001,110.64615675000009,111.20243350000007,111.75229825000008,112.33331275000015,112.88747150000015,113.43301200000008,114.00623625000011,114.56123475000011,115.09955775000012,115.65987550000011,116.20708625000012,116.7664912500001,117.32737650000006,117.86267025000011,118.3889972500001,118.9390682500001,119.4757425000001,120.02933900000014,120.57756575000012,121.11661250000013,121.6818852500001,122.23990025000008,122.78653625000008,123.33769725000006,123.8826107500001,124.44658050000014,124.99550275000009,125.54253775000011,126.10028650000012,126.6558095000001,127.20722275000017,127.75746775000012,128.3270715000001,128.8928922500001,129.43042325000013,129.9841477500001,130.53801025000013,131.0935530000001,131.64806875000016,132.20040625000007,132.75132000000013,133.27863625000015,133.8188687500001,134.36801200000008,134.93653450000008,135.49033900000012,136.02618750000008,136.5760322500001,137.1254697500001,137.6770270000001,138.23529525000006,138.79169025000013,139.3684240000001,139.92641575000005,140.49422525000014,141.0531130000001,141.62003950000008,142.17302875000013,142.74078075000006,143.3440517500001,143.9004982500001,144.4576052500001,145.0206667500001,145.58916425000012,146.1538642500001,146.7122700000001,147.27675075000016,147.8305170000001,148.39916675000012,148.96160175000006,149.51972100000012,150.0838830000001,150.65285275000008,151.2179382500001,151.7816347500001,152.36254775000015,152.9243882500001,153.48581100000007,154.04618525000006,154.63009200000008,155.2069742500001,155.7775972500001,156.34192750000017,156.90749225000008,157.4795557500001,158.05787800000004,158.64361225000007,159.2295962500001,159.7995712500001,160.36827425000007,160.93077850000012,161.49902800000012,162.05661625000008,162.61106350000006,163.1811172500001,163.74193300000007,164.3388012500001,164.9004210000001,165.45758650000013,166.02142300000008,166.5876572500001,167.1402450000002,167.7073302500001,168.2706202500001,168.8246757500001,169.38401850000008,169.9558350000001,170.52068375000007,171.0728827500001,171.63764950000012,172.1986670000001,172.78264725000014,173.3564052500001,173.91890675000008,174.48465625000014,175.0544357500001,175.6142992500001,176.1822447500001,176.76121050000012,177.34186675000007,177.90637025000012,178.4686675000001,179.0416035000001,179.60247825000008,180.17317200000008,180.7375455000001,181.3159032500001,181.87531975000007,182.43756900000008,183.00388775000008,183.58658825000015,184.16434450000014,184.74974125000008,185.3381277500001,185.91134825000012,186.47751300000013,187.0481897500001,187.6122585000001,188.1932285000001,188.77853025000013,189.35700350000008,189.94732350000007,190.52053300000017,191.09055825000013,191.6580555000001,192.2224337500001,192.79103850000013,193.3598372500001,193.9170375000001,194.4852012500001,195.0422592500001,195.6122085000001,196.19395525000013,196.77985925000004,197.35096400000012,197.9220580000001,198.5013937500001,199.07676600000008,199.64355450000005,200.21907450000015,200.79014925000016,201.3728347500001,201.95671375000012,202.5482002500001,203.1231570000001,203.70079550000008,204.28436925000005,204.87868350000014,205.44909325000012,206.02722325000008,206.6194732500001,207.19613550000014,207.79483575000012,208.36413750000006,208.9405665000001,209.5182745000001,210.08601875000014,210.64075225000016,211.20443775000018,211.77760625000013,212.34423250000015,212.9201955000001,213.47963975000008,214.0504947500001,214.6193737500001,215.19224900000017,215.75285200000008,216.3256407500001,216.90159000000008,217.47144725000007,218.04151550000006,218.60924025000017,219.18680425000016,219.76760700000014,220.33321225000014,220.9063380000001,221.47874225000015,222.0687225000001,222.65407950000014,223.2419210000001,223.79754925000006,224.36651650000013,224.92580225000015,225.51648900000015,226.09833300000014,226.67602100000008,227.2827812500001,227.87279250000012,228.4459110000001,229.03486750000016,229.6265462500001,230.19394825000003,230.76004750000007,231.3341445000001,231.90132725000012,232.51295425000018,233.10508950000013,233.67404425000012,234.24527675000013,234.80859500000014,235.37976650000004,235.93318575000012,236.5017022500001,237.08675075000014,237.67223600000005,238.22560950000016,238.78959100000012,239.36349100000012,239.92883325000008,240.49598275000017,241.08149500000007,241.65059175000016,242.24071300000014,242.8107112500001,243.36475900000013,243.93388075000013,244.53522275000014,245.11838675000007,245.70571925000007,246.34032875000017,246.90392400000013,247.46558075000007,248.03181900000018,248.59381600000012,249.1698655000001,249.7498910000001,250.3326877500001,250.90644275000008,251.4834922500001,252.06158200000013,252.6614345000001,253.2561165000001,253.83594300000013,254.41523475000008,254.98765125000014,255.55927675000012,256.12307000000015,256.71858550000013,257.28426850000017,257.85345750000016,258.4086805000001,258.96297275,259.53708950000015,260.10638125,260.6835037500001,261.27096025000003,261.86126400000006,262.4380395000001,263.0260420000001,263.6201412500001,264.21755050000013,264.81725775000007,265.3928232500001,265.9626302500001,266.53741375000004,267.1001927500001,267.66480875000013,268.2296330000001,268.81035350000013,269.41291875000013,269.9927897500001,270.55586175000013,271.1307535000002,271.6810145000002,272.2515517500001,272.8312415000001,273.40007225000005,273.96719750000005,274.54085575000005,275.1436350000001,275.7285007500001,276.399787,277.0162057500001,277.59287200000017,278.1782590000001,278.76772275000013,279.35980875000007,279.9229862500002,280.5109535000001,281.0837690000001,281.6601045000001,282.27396725000006,282.8743935000001,283.4492650000001,284.0262342500001,284.6050847500001,285.1701407500001,285.73400000000004,286.30854625000006,286.8967485000002,287.48882500000025,288.0561565000001,288.60836225000014,289.1905212500001,289.77107950000016,290.3471695000001,290.93352950000013,291.5122955000001,292.0741295000001,292.63691275000014,293.1902560000001,293.7721790000001,294.3763322500001,294.93810225000016,295.5048710000001,296.08655100000004,296.67052450000017,297.27332775,297.85304975000014,298.4457977500001,299.0183105000001,299.5903802500001,300.1681932500001,300.7684120000002,301.33484325000006,301.9083995000001,302.48646225000005,303.0719422500001,303.6516095000002,304.21876125000006,304.7771195000001,305.3597655000002,305.96425650000015,306.54011100000014,307.1103577500001,307.68819225000016,308.2817840000001,308.8591940000002,309.4555160000001,310.0253462500001,310.5829260000001,311.14033225000014,311.71755125000016,312.3519587500001,312.9345340000001,313.5009492500002,314.06682750000016,314.6549502500002,315.28514500000017,315.89496775000015,316.4802677500001,317.0616162500001,317.65359600000016,318.2262080000001,318.80863525000007,319.4048002500002,319.9998580000001,320.5835587500001,321.17659400000014,321.7942497500001,322.4039185000002,322.9702357500001,323.53862600000014,324.1051892500001,324.6821882500002,325.28147400000006,325.84549925000005,326.41787350000016,326.99549675000014,327.5833080000001,328.1585207500001,328.7397745000001,329.35327525000014,329.9371757500001,330.5030512500001,331.0689090000001,331.65219925000014,332.22695425000006,332.78562450000015,333.36803225000017,333.9348915000001,334.5204260000001,335.10278050000005,335.66917925,336.2616632500001,336.86543475000013,337.4716447500001,338.05493550000017,338.6392407500001,339.2595460000001,339.8534975000001,340.4335320000001,340.99868325000006,341.57770025,342.1674837500001,342.75804050000005,343.36716675000014,343.94540725,344.5051722500001,345.1010257500001,345.67242250000015,346.2704772500001,346.8520790000001,347.43887450000005,348.02406100000013,348.58611825000014,349.14260050000007,349.7037412500001,350.28004450000014,350.84843700000005,351.43307000000016,352.05260150000004,352.6523812500001,353.24108500000006,353.83876525000016,354.42862675000015,355.03612325000006,355.65275450000007,356.2291372500002,356.8051105000001,357.38444025000007,357.97845000000024,358.59519300000017,359.17304650000005,359.7390972500001,360.32886275000004,360.90511500000014,361.46868725000013,362.04993275000004,362.64874350000014,363.24131675000007,363.82929825000014,364.4293770000001,365.0199512500001,365.5951027500002,366.1883790000001,366.76498500000014,367.35122750000016,368.0111977500002,368.6684930000001,369.2916145000001,369.8725965000001,370.4844525000002,371.06819775000014,371.64133175000006,372.2229855000001,372.8006442500001,373.42326450000013,374.0274550000001,374.6263865000002,375.1999260000001,375.7772697500002,376.39756300000016,376.98895424999995,377.5774195000001,378.16808249999997,378.7367822500001,379.32798475000016,379.92747850000023,380.53513575000017,381.1315125,381.7050285,382.3004887500002,382.8798922500001,383.4469837500001,384.0239795000001,384.6220790000002,385.20645350000007,385.7916717500001,386.36498325000025,386.9684607500001,387.54268025000016,388.16545825000014,388.74491750000004,389.3642825000001,389.95634700000016,390.5302655000001,391.1289817500002,391.72074750000013,392.3637687500001,392.9547110000001,393.5403265000001,394.13270450000016,394.71011700000014,395.31427950000005,395.89152550000006,396.4870120000001,397.07237875,397.65955725000015,398.2728490000002,398.88320325000007,399.48442350000005,400.08491050000015,400.67142175000026,401.28434425000006,401.8835142500001,402.51802475000005,403.1363665000001,403.7169465000002,404.3299515000001,404.91870525000024,405.5253655000001,406.14537775,406.74729275000016,407.3633785000001,407.9695652500001,408.58498400000013,409.1732097500002,409.74870875000005,410.3513607500002,410.93897225,411.5647562500002,412.19216400000016,412.7802127500002,413.3887330000001,413.99808950000016,414.578402,415.16956050000016,415.76599425000023,416.3412692500002,416.9218450000002,417.54379075000014,418.1655485000001,418.74639425000004,419.35150300000004,419.9518387500002,420.5457795000001,421.1610202500002,421.73907075000017,422.3507987500001,422.95680550000014,423.5601630000001,424.1533645000001,424.76183575000016,425.37789350000014,425.98245325000005,426.61756100000014,427.2085432500001,427.8115960000001,428.42163175000013,429.02221775000015,429.62364875000014,430.22232500000007,430.8070592500001,431.40815600000025,431.99932875,432.5876040000001,433.19220650000017,433.7772567500001,434.39143700000005,435.0234597500001,435.6512180000001,436.2513645000002,436.85832050000016,437.4649555000002,438.05297175000015,438.6444925000002,439.2331192500001,439.8056125000001,440.4048920000002,440.9964365000002,441.5797367500001,442.16458675000024,442.75473450000015,443.3577690000002,443.97694975000013,444.59626550000013,445.2079747500002,445.83167875000015,446.45036875000005,447.0562962500001,447.6462730000002,448.2414577500002,448.8649735000001,449.51113025000024,450.1336047500002,450.73563075000004,451.34734875000015,451.93237050000016,452.5381390000001,453.15039300000007,453.7525592500001,454.36162600000023,454.9840505000001,455.6102855000001,456.2488730000001,456.8527542500001,457.4661647500002,458.0801557500002,458.6873085000003,459.3170470000001,460.00192100000015,460.6550260000001,461.28409100000016,461.90603075000024,462.53330350000016,463.1466837500001,463.74235625000017,464.3445885000001,464.9615247500002,465.6205960000001,466.27659200000016,466.8848135000002,467.51525600000014,468.15062650000016,468.78729975000005,469.41032650000017,470.0243487500002,470.63134025000016,471.2523355,471.8711375000001,472.4876792500001,473.09177850000015,473.7264260000002,474.35901275000026,474.96119375000006,475.58401700000013,476.2251860000001,476.8689115000001,477.4920397500001,478.0885427500001,478.67574000000025,479.28863925000013,479.9106282500002,480.5069232500001,481.1157822500001,481.7361900000001,482.37393625000004,482.9948305000001,483.6328990000002,484.23212900000016,484.83453875000015,485.4583232500002,486.06650750000006,486.7183570000001,487.36897600000003,487.99832374999994,488.6203735000001,489.2495882500001,489.8541950000002,490.46192975,491.1133652500001,491.7529770000002,492.39383750000013,492.99665949999996,493.59815375000017,494.2078047500002,494.82603175000014,495.4491757500001,496.0721542500002,496.6750642500001,497.295661,497.90748125000016,498.5401062500003,499.1553400000001,499.77874575000016,500.4263525000001,501.03557600000005,501.66296675000024,502.3085502500001,502.93083375000026,503.5432595000002,504.14231500000005,504.74016800000015,505.3788275,505.9903272500002,506.6081117500001,507.2323340000001,507.8389860000001,508.44853175000026,509.0720540000001,509.70184500000016,510.33128475,510.96813600000013,511.58396975000034,512.1991292500003,512.8139482500002,513.4387285000001,514.0872912500002,514.72705725,515.39894325,516.0240257500001,516.6674650000001,517.3451695000001,517.9858745,518.6086315000002,519.2543295000002,519.88960625,520.5157017500001,521.13225225,521.7390915000002,522.395038,523.0292040000002,523.6567545000001,524.3071540000003,524.9310382500004,525.5487145000001,526.1686122500003,526.78176925,527.435013,528.076397,528.6934352500002,529.3141530000001,529.9283705,530.546366,531.1521987500001,531.7830445000002,532.4478720000001,533.0873095000001,533.7212365000001,534.3910702500002,535.0320625000002,535.6615570000001,536.3148310000001,536.9444137500002,537.5849537500002,538.199348,538.8098665,539.4196245,540.0426727500001,540.6743737500001,541.3075352500001,541.9516540000002,542.5995375000001,543.2556225000002,543.9014545000001,544.5701105000003],\"y\":[1021.4260624999973,1036.8203374999966,1061.6746749999977,1086.943662499998,1111.9832124999969,1137.8890999999967,1162.4855624999975,1187.473512499996,1202.3258624999992,1207.1990224999997,1212.1122449999991,1217.3182849999994,1222.2441249999993,1227.2600674999992,1232.2350849999998,1237.3305599999997,1242.4942574999998,1247.5185949999996,1252.643994999999,1257.7599524999994,1262.7487224999993,1267.8380574999994,1272.766779999999,1278.037237499999,1283.172757499999,1288.1904149999991,1293.0822399999997,1298.063632499999,1302.912532499999,1307.9053849999996,1312.7710024999992,1317.7217549999996,1322.7518774999994,1327.731512499999,1332.7000999999996,1337.7851399999995,1342.7923899999994,1347.8351949999994,1352.8485899999994,1358.0228424999993,1363.1001224999998,1368.2836774999992,1373.4408449999994,1378.4517124999995,1383.4927849999992,1388.3609549999996,1393.1075775,1398.0021524999997,1403.1563349999992,1408.2618049999994,1413.4162074999992,1418.6464699999992,1423.6609499999995,1428.7805774999993,1433.8327599999993,1438.7851899999994,1443.8067799999988,1449.0780774999996,1454.3155499999996,1459.5416824999995,1464.5168499999995,1469.4820774999994,1474.5715324999994,1479.6509324999997,1484.6695374999993,1489.5989049999994,1494.7038024999995,1499.2764724999995,1500.0,1500.0,1500.0,1500.0,1500.0,1500.0,1500.0,1500.0,1500.0,1500.0,1500.0,1500.0,1500.0,1500.0,1500.0,1500.0,1500.0,1500.0,1500.0,1500.0,1500.0,1500.0,1500.0,1500.0,1500.0,1500.0,1500.0,1500.0,1500.0,1500.0,1500.0,1500.0,1500.0,1500.0,1500.0,1500.0,1500.0,1500.0,1500.0,1500.0,1500.0,1500.0,1500.0,1500.0,1500.0,1500.0,1500.0,1500.0,1500.0,1500.0,1500.0,1500.0,1500.0,1500.0,1500.0,1500.0,1500.0,1500.0,1500.0,1500.0,1500.0,1500.0,1500.0,1500.0,1500.0,1500.0,1500.0,1500.0,1500.0,1500.0,1500.0,1500.0,1500.0,1500.0,1500.0,1500.0,1500.0,1500.0,1500.0,1500.0,1500.0,1500.0,1500.0,1500.0,1500.0,1500.0,1500.0,1500.0,1500.0,1500.0,1500.0,1500.0,1500.0,1500.0,1500.0,1500.0,1500.0,1500.0,1500.0,1500.0,1500.0,1500.0,1500.0,1500.0,1500.0,1500.0,1500.0,1500.0,1500.0,1500.0,1500.0,1500.0,1500.0,1500.0,1500.0,1500.0,1500.0,1500.0,1500.0,1500.0,1500.0,1500.0,1500.0,1500.0,1500.0,1500.0,1500.0,1500.0,1500.0,1500.0,1500.0,1500.0,1500.0,1500.0,1500.0,1500.0,1500.0,1500.0,1500.0,1500.0,1500.0,1500.0,1500.0,1500.0,1500.0,1500.0,1500.0,1500.0,1500.0,1500.0,1500.0,1500.0,1500.0,1500.0,1500.0,1500.0,1500.0,1500.0,1500.0,1500.0,1500.0,1500.0,1500.0,1500.0,1500.0,1500.0,1500.0,1500.0,1500.0,1500.0,1500.0,1500.0,1500.0,1500.0,1500.0,1500.0,1500.0,1500.0,1500.0,1500.0,1500.0,1500.0,1500.0,1500.0,1500.0,1500.0,1500.0,1500.0,1500.0,1500.0,1500.0,1500.0,1500.0,1500.0,1500.0,1500.0,1500.0,1500.0,1500.0,1500.0,1500.0,1500.0,1500.0,1500.0,1500.0,1500.0,1500.0,1500.0,1500.0,1500.0,1500.0,1500.0,1500.0,1500.0,1500.0,1500.0,1500.0,1500.0,1500.0,1500.0,1500.0,1500.0,1500.0,1500.0,1500.0,1500.0,1500.0,1500.0,1500.0,1500.0,1500.0,1500.0,1500.0,1500.0,1500.0,1500.0,1500.0,1500.0,1500.0,1500.0,1500.0,1500.0,1500.0,1500.0,1500.0,1500.0,1500.0,1500.0,1500.0,1500.0,1500.0,1500.0,1500.0,1500.0,1500.0,1500.0,1500.0,1500.0,1500.0,1500.0,1500.0,1500.0,1500.0,1500.0,1500.0,1500.0,1500.0,1500.0,1500.0,1500.0,1500.0,1500.0,1500.0,1500.0,1500.0,1500.0,1500.0,1500.0,1500.0,1500.0,1500.0,1500.0,1500.0,1500.0,1500.0,1500.0,1500.0,1500.0,1500.0,1500.0,1500.0,1500.0,1500.0,1500.0,1500.0,1500.0,1500.0,1500.0,1500.0,1500.0,1500.0,1500.0,1500.0,1500.0,1500.0,1500.0,1500.0,1500.0,1500.0,1500.0,1500.0,1500.0,1500.0,1500.0,1500.0,1500.0,1500.0,1500.0,1500.0,1500.0,1500.0,1500.0,1500.0,1500.0,1500.0,1500.0,1500.0,1500.0,1500.0,1500.0,1500.0,1500.0,1500.0,1500.0,1500.0,1500.0,1500.0,1500.0,1500.0,1500.0,1500.0,1500.0,1500.0,1500.0,1500.0,1500.0,1500.0,1500.0,1500.0,1500.0,1200.0,1200.0,1200.0,1200.0,1200.0,1200.0,1200.0,1200.0,1200.0,1200.0,1200.0,1200.0,1200.0,1200.0,1200.0,1200.0,1200.0,1200.0,1200.0,1200.0,1200.0,1200.0,1200.0,1200.0,1200.0,1200.0,1200.0,1200.0,1200.0,1200.0,1200.0,1200.0,1200.0,1200.0,1200.0,1200.0,1200.0,1200.0,1200.0,1200.0,1200.0,1200.0,1200.0,1200.0,1200.0,1200.0,1200.0,1200.0,1200.0,1200.0,1200.0,1200.0,1200.0,1200.0,1200.0,1200.0,1200.0,1200.0,1200.0,1200.0,1200.0,1200.0,1200.0,1200.0,1200.0,1200.0,1200.0,1200.0,1200.0,1200.0,1200.0,1200.0,1200.0,1200.0,1200.0,1200.0,1200.0,1200.0,1200.0,1200.0,1200.0,1200.0,1200.0,1200.0,1200.0,1200.0,1200.0,1200.0,1200.0,1200.0,1200.0,1200.0,1200.0,1200.0,1200.0,1200.0,1200.0,1200.0,1200.0,1200.0,1200.0,1200.0,1200.0,1200.0,1200.0,1200.0,1200.0,1200.0,1200.0,1200.0,1200.0,1200.0,1200.0,1200.0,1200.0,1200.0,1200.0,1200.0,1200.0,1200.0,1200.0,1200.0,1200.0,1200.0,1200.0,1200.0,1200.0,1200.0,1200.0,1200.0,1200.0,1200.0,1200.0,1200.0,1200.0,1200.0,1200.0,1200.0,1200.0,1200.0,1200.0,1200.0,1200.0,1200.0,1200.0,1200.0,1200.0,1200.0,1200.0,1200.0,1200.0,1200.0,1200.0,1200.0,1200.0,1200.0,1200.0,1200.0,1200.0,1200.0,1200.0,1200.0,1200.0,1200.0,1200.0,1200.0,1200.0,1200.0,1200.0,1200.0,1200.0,1200.0,1200.0,1200.0,1200.0,1200.0,1200.0,1200.0,1200.0,1200.0,1200.0,1200.0,1200.0,1200.0,1200.0,1200.0,1200.0,1200.0,1200.0,1200.0,1200.0,1200.0,1200.0,1200.0,1200.0,1200.0,1200.0,1200.0,1200.0,1200.0,1200.0,1200.0,1200.0,1200.0,1200.0,1200.0,1200.0,1200.0,1200.0,1200.0,1200.0,1200.0,1200.0,1200.0,1200.0,1200.0,1200.0,1200.0,1200.0,1200.0,1200.0,1200.0,1200.0,1200.0,1200.0,1200.0,1200.0,1200.0,1200.0,1200.0,1200.0,1200.0,1200.0,1200.0,1200.0,1200.0,1200.0,1200.0,1200.0,1200.0,1200.0,1200.0,1200.0,1200.0,1200.0,1200.0,1200.0,1200.0,1200.0,1200.0,1200.0,1200.0,1200.0,1200.0,1200.0,1200.0,1200.0,1200.0,1200.0,1200.0,1200.0,1200.0,1200.0,1200.0,1200.0,1200.0,1200.0,1200.0,1200.0,1200.0,1200.0,1200.0,1200.0,1200.0,1200.0,1200.0,1200.0,1200.0,1200.0,1200.0,1200.0,1200.0,1200.0,1200.0,1200.0,1200.0,1200.0,1200.0,1200.0,1200.0,1200.0,1200.0,1200.0,1200.0,1200.0,1200.0,1200.0,1200.0,1200.0,1200.0,1200.0,1200.0,1200.0,1200.0,1200.0,1200.0,1200.0,1200.0,1200.0,1200.0,1200.0,1200.0,1200.0,1200.0,1200.0,1200.0,1200.0,1200.0,1200.0,1200.0,1200.0,1200.0,1200.0,1200.0,1200.0,1200.0,1200.0,1200.0,1200.0,1200.0,1200.0,1200.0,1200.0,1200.0,1200.0,1200.0,1200.0,1200.0,1200.0,1200.0,1200.0,1200.0,1200.0,1200.0,1200.0,1200.0,1200.0,1200.0,1200.0,1200.0,1500.0,1500.0,1500.0,1500.0,1500.0,1500.0,1500.0,1500.0,1500.0,1500.0,1500.0,1500.0,1500.0,1500.0,1500.0,1500.0,1500.0,1500.0,1500.0,1500.0,1500.0,1500.0,1500.0,1500.0,1500.0,1500.0,1500.0,1500.0,1500.0,1500.0,1500.0,1500.0,1500.0,1500.0,1500.0,1500.0,1500.0,1500.0,1500.0,1500.0,1500.0,1500.0,1500.0,1500.0,1500.0,1500.0,1500.0,1500.0,1500.0,1500.0,1500.0,1500.0,1500.0,1500.0,1500.0,1500.0,1500.0,1500.0,1500.0,1500.0,1500.0,1500.0,1500.0,1500.0,1500.0,1500.0,1500.0,1500.0,1500.0,1500.0,1500.0,1500.0,1500.0,1500.0,1500.0,1500.0,1500.0,1500.0,1500.0,1500.0,1500.0,1500.0,1500.0,1500.0,1500.0,1500.0,1500.0,1500.0,1500.0,1500.0,1500.0,1500.0,1500.0,1500.0,1500.0,1500.0,1500.0,1500.0,1500.0,1500.0,1500.0,1500.0,1500.0,1500.0,1500.0,1500.0,1500.0,1500.0,1500.0,1500.0,1500.0,1500.0,1500.0,1500.0,1500.0,1500.0,1500.0,1500.0,1500.0,1500.0,1500.0,1500.0,1500.0,1500.0,1500.0,1500.0,1500.0,1500.0,1500.0,1500.0,1500.0,1500.0,1500.0,1500.0,1500.0,1500.0,1500.0,1500.0,1500.0,1500.0,1500.0,1500.0,1500.0,1500.0,1500.0,1500.0,1500.0,1500.0,1500.0,1500.0,1500.0,1500.0,1500.0,1500.0,1500.0,1500.0,1500.0,1500.0,1500.0,1500.0,1500.0,1500.0,1500.0,1500.0,1500.0,1500.0,1500.0,1500.0,1500.0,1500.0,1500.0,1500.0,1500.0,1500.0,1500.0,1500.0,1500.0,1500.0,1500.0,1500.0,1500.0]},\"selected\":{\"id\":\"1337\",\"type\":\"Selection\"},\"selection_policy\":{\"id\":\"1338\",\"type\":\"UnionRenderers\"}},\"id\":\"1302\",\"type\":\"ColumnDataSource\"},{\"attributes\":{\"line_color\":\"#1f77b4\",\"x\":{\"field\":\"x\"},\"y\":{\"field\":\"y\"}},\"id\":\"1303\",\"type\":\"Line\"},{\"attributes\":{},\"id\":\"1335\",\"type\":\"BasicTickFormatter\"},{\"attributes\":{\"bottom_units\":\"screen\",\"fill_alpha\":{\"value\":0.5},\"fill_color\":{\"value\":\"lightgrey\"},\"left_units\":\"screen\",\"level\":\"overlay\",\"line_alpha\":{\"value\":1.0},\"line_color\":{\"value\":\"black\"},\"line_dash\":[4,4],\"line_width\":{\"value\":2},\"render_mode\":\"css\",\"right_units\":\"screen\",\"top_units\":\"screen\"},\"id\":\"1339\",\"type\":\"BoxAnnotation\"},{\"attributes\":{},\"id\":\"1338\",\"type\":\"UnionRenderers\"},{\"attributes\":{},\"id\":\"1337\",\"type\":\"Selection\"},{\"attributes\":{\"formatter\":{\"id\":\"1335\",\"type\":\"BasicTickFormatter\"},\"ticker\":{\"id\":\"1285\",\"type\":\"BasicTicker\"}},\"id\":\"1284\",\"type\":\"LinearAxis\"},{\"attributes\":{},\"id\":\"1333\",\"type\":\"BasicTickFormatter\"},{\"attributes\":{\"source\":{\"id\":\"1302\",\"type\":\"ColumnDataSource\"}},\"id\":\"1306\",\"type\":\"CDSView\"},{\"attributes\":{\"text\":\"\"},\"id\":\"1331\",\"type\":\"Title\"},{\"attributes\":{\"ticker\":{\"id\":\"1280\",\"type\":\"BasicTicker\"}},\"id\":\"1283\",\"type\":\"Grid\"},{\"attributes\":{},\"id\":\"1290\",\"type\":\"WheelZoomTool\"},{\"attributes\":{},\"id\":\"1277\",\"type\":\"LinearScale\"},{\"attributes\":{\"data_source\":{\"id\":\"1302\",\"type\":\"ColumnDataSource\"},\"glyph\":{\"id\":\"1303\",\"type\":\"Line\"},\"hover_glyph\":null,\"muted_glyph\":null,\"nonselection_glyph\":{\"id\":\"1304\",\"type\":\"Line\"},\"selection_glyph\":null,\"view\":{\"id\":\"1306\",\"type\":\"CDSView\"}},\"id\":\"1305\",\"type\":\"GlyphRenderer\"},{\"attributes\":{\"formatter\":{\"id\":\"1333\",\"type\":\"BasicTickFormatter\"},\"ticker\":{\"id\":\"1280\",\"type\":\"BasicTicker\"}},\"id\":\"1279\",\"type\":\"LinearAxis\"},{\"attributes\":{},\"id\":\"1292\",\"type\":\"SaveTool\"},{\"attributes\":{},\"id\":\"1293\",\"type\":\"ResetTool\"},{\"attributes\":{\"callback\":null},\"id\":\"1273\",\"type\":\"DataRange1d\"},{\"attributes\":{\"dimension\":1,\"ticker\":{\"id\":\"1285\",\"type\":\"BasicTicker\"}},\"id\":\"1288\",\"type\":\"Grid\"},{\"attributes\":{},\"id\":\"1285\",\"type\":\"BasicTicker\"},{\"attributes\":{\"callback\":null},\"id\":\"1271\",\"type\":\"DataRange1d\"},{\"attributes\":{\"line_alpha\":0.1,\"line_color\":\"#1f77b4\",\"x\":{\"field\":\"x\"},\"y\":{\"field\":\"y\"}},\"id\":\"1304\",\"type\":\"Line\"},{\"attributes\":{},\"id\":\"1275\",\"type\":\"LinearScale\"},{\"attributes\":{\"active_drag\":\"auto\",\"active_inspect\":\"auto\",\"active_multi\":null,\"active_scroll\":\"auto\",\"active_tap\":\"auto\",\"tools\":[{\"id\":\"1289\",\"type\":\"PanTool\"},{\"id\":\"1290\",\"type\":\"WheelZoomTool\"},{\"id\":\"1291\",\"type\":\"BoxZoomTool\"},{\"id\":\"1292\",\"type\":\"SaveTool\"},{\"id\":\"1293\",\"type\":\"ResetTool\"},{\"id\":\"1294\",\"type\":\"HelpTool\"}]},\"id\":\"1295\",\"type\":\"Toolbar\"},{\"attributes\":{\"overlay\":{\"id\":\"1339\",\"type\":\"BoxAnnotation\"}},\"id\":\"1291\",\"type\":\"BoxZoomTool\"}],\"root_ids\":[\"1270\"]},\"title\":\"Bokeh Application\",\"version\":\"1.3.4\"}};\n",
       "  var render_items = [{\"docid\":\"da28e6be-54e4-4226-ba7a-71750a9a85a3\",\"roots\":{\"1270\":\"04e39916-64cf-4cee-865e-89132d104318\"}}];\n",
       "  root.Bokeh.embed.embed_items_notebook(docs_json, render_items);\n",
       "\n",
       "  }\n",
       "  if (root.Bokeh !== undefined) {\n",
       "    embed_document(root);\n",
       "  } else {\n",
       "    var attempts = 0;\n",
       "    var timer = setInterval(function(root) {\n",
       "      if (root.Bokeh !== undefined) {\n",
       "        embed_document(root);\n",
       "        clearInterval(timer);\n",
       "      }\n",
       "      attempts++;\n",
       "      if (attempts > 100) {\n",
       "        console.log(\"Bokeh: ERROR: Unable to run BokehJS code because BokehJS library is missing\");\n",
       "        clearInterval(timer);\n",
       "      }\n",
       "    }, 10, root)\n",
       "  }\n",
       "})(window);"
      ],
      "application/vnd.bokehjs_exec.v0+json": ""
     },
     "metadata": {
      "application/vnd.bokehjs_exec.v0+json": {
       "id": "1270"
      }
     },
     "output_type": "display_data"
    }
   ],
   "source": [
    "plot = figure()\n",
    "plot.line([x.time for x in l.data], [y.pwm for y in l.data])\n",
    "show(plot)"
   ]
  },
  {
   "cell_type": "code",
   "execution_count": null,
   "metadata": {},
   "outputs": [],
   "source": []
  },
  {
   "cell_type": "code",
   "execution_count": null,
   "metadata": {},
   "outputs": [],
   "source": []
  }
 ],
 "metadata": {
  "kernelspec": {
   "display_name": "Python 3",
   "language": "python",
   "name": "python3"
  },
  "language_info": {
   "codemirror_mode": {
    "name": "ipython",
    "version": 3
   },
   "file_extension": ".py",
   "mimetype": "text/x-python",
   "name": "python",
   "nbconvert_exporter": "python",
   "pygments_lexer": "ipython3",
   "version": "3.7.4"
  }
 },
 "nbformat": 4,
 "nbformat_minor": 4
}
