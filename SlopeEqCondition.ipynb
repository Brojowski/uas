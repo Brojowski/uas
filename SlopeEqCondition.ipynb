{
 "cells": [
  {
   "cell_type": "code",
   "execution_count": 1,
   "metadata": {},
   "outputs": [
    {
     "data": {
      "text/html": [
       "\n",
       "    <div class=\"bk-root\">\n",
       "        <a href=\"https://bokeh.pydata.org\" target=\"_blank\" class=\"bk-logo bk-logo-small bk-logo-notebook\"></a>\n",
       "        <span id=\"1001\">Loading BokehJS ...</span>\n",
       "    </div>"
      ]
     },
     "metadata": {},
     "output_type": "display_data"
    },
    {
     "data": {
      "application/javascript": [
       "\n",
       "(function(root) {\n",
       "  function now() {\n",
       "    return new Date();\n",
       "  }\n",
       "\n",
       "  var force = true;\n",
       "\n",
       "  if (typeof root._bokeh_onload_callbacks === \"undefined\" || force === true) {\n",
       "    root._bokeh_onload_callbacks = [];\n",
       "    root._bokeh_is_loading = undefined;\n",
       "  }\n",
       "\n",
       "  var JS_MIME_TYPE = 'application/javascript';\n",
       "  var HTML_MIME_TYPE = 'text/html';\n",
       "  var EXEC_MIME_TYPE = 'application/vnd.bokehjs_exec.v0+json';\n",
       "  var CLASS_NAME = 'output_bokeh rendered_html';\n",
       "\n",
       "  /**\n",
       "   * Render data to the DOM node\n",
       "   */\n",
       "  function render(props, node) {\n",
       "    var script = document.createElement(\"script\");\n",
       "    node.appendChild(script);\n",
       "  }\n",
       "\n",
       "  /**\n",
       "   * Handle when an output is cleared or removed\n",
       "   */\n",
       "  function handleClearOutput(event, handle) {\n",
       "    var cell = handle.cell;\n",
       "\n",
       "    var id = cell.output_area._bokeh_element_id;\n",
       "    var server_id = cell.output_area._bokeh_server_id;\n",
       "    // Clean up Bokeh references\n",
       "    if (id != null && id in Bokeh.index) {\n",
       "      Bokeh.index[id].model.document.clear();\n",
       "      delete Bokeh.index[id];\n",
       "    }\n",
       "\n",
       "    if (server_id !== undefined) {\n",
       "      // Clean up Bokeh references\n",
       "      var cmd = \"from bokeh.io.state import curstate; print(curstate().uuid_to_server['\" + server_id + \"'].get_sessions()[0].document.roots[0]._id)\";\n",
       "      cell.notebook.kernel.execute(cmd, {\n",
       "        iopub: {\n",
       "          output: function(msg) {\n",
       "            var id = msg.content.text.trim();\n",
       "            if (id in Bokeh.index) {\n",
       "              Bokeh.index[id].model.document.clear();\n",
       "              delete Bokeh.index[id];\n",
       "            }\n",
       "          }\n",
       "        }\n",
       "      });\n",
       "      // Destroy server and session\n",
       "      var cmd = \"import bokeh.io.notebook as ion; ion.destroy_server('\" + server_id + \"')\";\n",
       "      cell.notebook.kernel.execute(cmd);\n",
       "    }\n",
       "  }\n",
       "\n",
       "  /**\n",
       "   * Handle when a new output is added\n",
       "   */\n",
       "  function handleAddOutput(event, handle) {\n",
       "    var output_area = handle.output_area;\n",
       "    var output = handle.output;\n",
       "\n",
       "    // limit handleAddOutput to display_data with EXEC_MIME_TYPE content only\n",
       "    if ((output.output_type != \"display_data\") || (!output.data.hasOwnProperty(EXEC_MIME_TYPE))) {\n",
       "      return\n",
       "    }\n",
       "\n",
       "    var toinsert = output_area.element.find(\".\" + CLASS_NAME.split(' ')[0]);\n",
       "\n",
       "    if (output.metadata[EXEC_MIME_TYPE][\"id\"] !== undefined) {\n",
       "      toinsert[toinsert.length - 1].firstChild.textContent = output.data[JS_MIME_TYPE];\n",
       "      // store reference to embed id on output_area\n",
       "      output_area._bokeh_element_id = output.metadata[EXEC_MIME_TYPE][\"id\"];\n",
       "    }\n",
       "    if (output.metadata[EXEC_MIME_TYPE][\"server_id\"] !== undefined) {\n",
       "      var bk_div = document.createElement(\"div\");\n",
       "      bk_div.innerHTML = output.data[HTML_MIME_TYPE];\n",
       "      var script_attrs = bk_div.children[0].attributes;\n",
       "      for (var i = 0; i < script_attrs.length; i++) {\n",
       "        toinsert[toinsert.length - 1].firstChild.setAttribute(script_attrs[i].name, script_attrs[i].value);\n",
       "      }\n",
       "      // store reference to server id on output_area\n",
       "      output_area._bokeh_server_id = output.metadata[EXEC_MIME_TYPE][\"server_id\"];\n",
       "    }\n",
       "  }\n",
       "\n",
       "  function register_renderer(events, OutputArea) {\n",
       "\n",
       "    function append_mime(data, metadata, element) {\n",
       "      // create a DOM node to render to\n",
       "      var toinsert = this.create_output_subarea(\n",
       "        metadata,\n",
       "        CLASS_NAME,\n",
       "        EXEC_MIME_TYPE\n",
       "      );\n",
       "      this.keyboard_manager.register_events(toinsert);\n",
       "      // Render to node\n",
       "      var props = {data: data, metadata: metadata[EXEC_MIME_TYPE]};\n",
       "      render(props, toinsert[toinsert.length - 1]);\n",
       "      element.append(toinsert);\n",
       "      return toinsert\n",
       "    }\n",
       "\n",
       "    /* Handle when an output is cleared or removed */\n",
       "    events.on('clear_output.CodeCell', handleClearOutput);\n",
       "    events.on('delete.Cell', handleClearOutput);\n",
       "\n",
       "    /* Handle when a new output is added */\n",
       "    events.on('output_added.OutputArea', handleAddOutput);\n",
       "\n",
       "    /**\n",
       "     * Register the mime type and append_mime function with output_area\n",
       "     */\n",
       "    OutputArea.prototype.register_mime_type(EXEC_MIME_TYPE, append_mime, {\n",
       "      /* Is output safe? */\n",
       "      safe: true,\n",
       "      /* Index of renderer in `output_area.display_order` */\n",
       "      index: 0\n",
       "    });\n",
       "  }\n",
       "\n",
       "  // register the mime type if in Jupyter Notebook environment and previously unregistered\n",
       "  if (root.Jupyter !== undefined) {\n",
       "    var events = require('base/js/events');\n",
       "    var OutputArea = require('notebook/js/outputarea').OutputArea;\n",
       "\n",
       "    if (OutputArea.prototype.mime_types().indexOf(EXEC_MIME_TYPE) == -1) {\n",
       "      register_renderer(events, OutputArea);\n",
       "    }\n",
       "  }\n",
       "\n",
       "  \n",
       "  if (typeof (root._bokeh_timeout) === \"undefined\" || force === true) {\n",
       "    root._bokeh_timeout = Date.now() + 5000;\n",
       "    root._bokeh_failed_load = false;\n",
       "  }\n",
       "\n",
       "  var NB_LOAD_WARNING = {'data': {'text/html':\n",
       "     \"<div style='background-color: #fdd'>\\n\"+\n",
       "     \"<p>\\n\"+\n",
       "     \"BokehJS does not appear to have successfully loaded. If loading BokehJS from CDN, this \\n\"+\n",
       "     \"may be due to a slow or bad network connection. Possible fixes:\\n\"+\n",
       "     \"</p>\\n\"+\n",
       "     \"<ul>\\n\"+\n",
       "     \"<li>re-rerun `output_notebook()` to attempt to load from CDN again, or</li>\\n\"+\n",
       "     \"<li>use INLINE resources instead, as so:</li>\\n\"+\n",
       "     \"</ul>\\n\"+\n",
       "     \"<code>\\n\"+\n",
       "     \"from bokeh.resources import INLINE\\n\"+\n",
       "     \"output_notebook(resources=INLINE)\\n\"+\n",
       "     \"</code>\\n\"+\n",
       "     \"</div>\"}};\n",
       "\n",
       "  function display_loaded() {\n",
       "    var el = document.getElementById(\"1001\");\n",
       "    if (el != null) {\n",
       "      el.textContent = \"BokehJS is loading...\";\n",
       "    }\n",
       "    if (root.Bokeh !== undefined) {\n",
       "      if (el != null) {\n",
       "        el.textContent = \"BokehJS \" + root.Bokeh.version + \" successfully loaded.\";\n",
       "      }\n",
       "    } else if (Date.now() < root._bokeh_timeout) {\n",
       "      setTimeout(display_loaded, 100)\n",
       "    }\n",
       "  }\n",
       "\n",
       "\n",
       "  function run_callbacks() {\n",
       "    try {\n",
       "      root._bokeh_onload_callbacks.forEach(function(callback) {\n",
       "        if (callback != null)\n",
       "          callback();\n",
       "      });\n",
       "    } finally {\n",
       "      delete root._bokeh_onload_callbacks\n",
       "    }\n",
       "    console.debug(\"Bokeh: all callbacks have finished\");\n",
       "  }\n",
       "\n",
       "  function load_libs(css_urls, js_urls, callback) {\n",
       "    if (css_urls == null) css_urls = [];\n",
       "    if (js_urls == null) js_urls = [];\n",
       "\n",
       "    root._bokeh_onload_callbacks.push(callback);\n",
       "    if (root._bokeh_is_loading > 0) {\n",
       "      console.debug(\"Bokeh: BokehJS is being loaded, scheduling callback at\", now());\n",
       "      return null;\n",
       "    }\n",
       "    if (js_urls == null || js_urls.length === 0) {\n",
       "      run_callbacks();\n",
       "      return null;\n",
       "    }\n",
       "    console.debug(\"Bokeh: BokehJS not loaded, scheduling load and callback at\", now());\n",
       "    root._bokeh_is_loading = css_urls.length + js_urls.length;\n",
       "\n",
       "    function on_load() {\n",
       "      root._bokeh_is_loading--;\n",
       "      if (root._bokeh_is_loading === 0) {\n",
       "        console.debug(\"Bokeh: all BokehJS libraries/stylesheets loaded\");\n",
       "        run_callbacks()\n",
       "      }\n",
       "    }\n",
       "\n",
       "    function on_error() {\n",
       "      console.error(\"failed to load \" + url);\n",
       "    }\n",
       "\n",
       "    for (var i = 0; i < css_urls.length; i++) {\n",
       "      var url = css_urls[i];\n",
       "      const element = document.createElement(\"link\");\n",
       "      element.onload = on_load;\n",
       "      element.onerror = on_error;\n",
       "      element.rel = \"stylesheet\";\n",
       "      element.type = \"text/css\";\n",
       "      element.href = url;\n",
       "      console.debug(\"Bokeh: injecting link tag for BokehJS stylesheet: \", url);\n",
       "      document.body.appendChild(element);\n",
       "    }\n",
       "\n",
       "    for (var i = 0; i < js_urls.length; i++) {\n",
       "      var url = js_urls[i];\n",
       "      var element = document.createElement('script');\n",
       "      element.onload = on_load;\n",
       "      element.onerror = on_error;\n",
       "      element.async = false;\n",
       "      element.src = url;\n",
       "      console.debug(\"Bokeh: injecting script tag for BokehJS library: \", url);\n",
       "      document.head.appendChild(element);\n",
       "    }\n",
       "  };var element = document.getElementById(\"1001\");\n",
       "  if (element == null) {\n",
       "    console.error(\"Bokeh: ERROR: autoload.js configured with elementid '1001' but no matching script tag was found. \")\n",
       "    return false;\n",
       "  }\n",
       "\n",
       "  function inject_raw_css(css) {\n",
       "    const element = document.createElement(\"style\");\n",
       "    element.appendChild(document.createTextNode(css));\n",
       "    document.body.appendChild(element);\n",
       "  }\n",
       "\n",
       "  var js_urls = [\"https://cdn.pydata.org/bokeh/release/bokeh-1.3.4.min.js\", \"https://cdn.pydata.org/bokeh/release/bokeh-widgets-1.3.4.min.js\", \"https://cdn.pydata.org/bokeh/release/bokeh-tables-1.3.4.min.js\", \"https://cdn.pydata.org/bokeh/release/bokeh-gl-1.3.4.min.js\"];\n",
       "  var css_urls = [];\n",
       "\n",
       "  var inline_js = [\n",
       "    function(Bokeh) {\n",
       "      Bokeh.set_log_level(\"info\");\n",
       "    },\n",
       "    \n",
       "    function(Bokeh) {\n",
       "      \n",
       "    },\n",
       "    function(Bokeh) {} // ensure no trailing comma for IE\n",
       "  ];\n",
       "\n",
       "  function run_inline_js() {\n",
       "    \n",
       "    if ((root.Bokeh !== undefined) || (force === true)) {\n",
       "      for (var i = 0; i < inline_js.length; i++) {\n",
       "        inline_js[i].call(root, root.Bokeh);\n",
       "      }if (force === true) {\n",
       "        display_loaded();\n",
       "      }} else if (Date.now() < root._bokeh_timeout) {\n",
       "      setTimeout(run_inline_js, 100);\n",
       "    } else if (!root._bokeh_failed_load) {\n",
       "      console.log(\"Bokeh: BokehJS failed to load within specified timeout.\");\n",
       "      root._bokeh_failed_load = true;\n",
       "    } else if (force !== true) {\n",
       "      var cell = $(document.getElementById(\"1001\")).parents('.cell').data().cell;\n",
       "      cell.output_area.append_execute_result(NB_LOAD_WARNING)\n",
       "    }\n",
       "\n",
       "  }\n",
       "\n",
       "  if (root._bokeh_is_loading === 0) {\n",
       "    console.debug(\"Bokeh: BokehJS loaded, going straight to plotting\");\n",
       "    run_inline_js();\n",
       "  } else {\n",
       "    load_libs(css_urls, js_urls, function() {\n",
       "      console.debug(\"Bokeh: BokehJS plotting callback run at\", now());\n",
       "      run_inline_js();\n",
       "    });\n",
       "  }\n",
       "}(window));"
      ],
      "application/vnd.bokehjs_load.v0+json": "\n(function(root) {\n  function now() {\n    return new Date();\n  }\n\n  var force = true;\n\n  if (typeof root._bokeh_onload_callbacks === \"undefined\" || force === true) {\n    root._bokeh_onload_callbacks = [];\n    root._bokeh_is_loading = undefined;\n  }\n\n  \n\n  \n  if (typeof (root._bokeh_timeout) === \"undefined\" || force === true) {\n    root._bokeh_timeout = Date.now() + 5000;\n    root._bokeh_failed_load = false;\n  }\n\n  var NB_LOAD_WARNING = {'data': {'text/html':\n     \"<div style='background-color: #fdd'>\\n\"+\n     \"<p>\\n\"+\n     \"BokehJS does not appear to have successfully loaded. If loading BokehJS from CDN, this \\n\"+\n     \"may be due to a slow or bad network connection. Possible fixes:\\n\"+\n     \"</p>\\n\"+\n     \"<ul>\\n\"+\n     \"<li>re-rerun `output_notebook()` to attempt to load from CDN again, or</li>\\n\"+\n     \"<li>use INLINE resources instead, as so:</li>\\n\"+\n     \"</ul>\\n\"+\n     \"<code>\\n\"+\n     \"from bokeh.resources import INLINE\\n\"+\n     \"output_notebook(resources=INLINE)\\n\"+\n     \"</code>\\n\"+\n     \"</div>\"}};\n\n  function display_loaded() {\n    var el = document.getElementById(\"1001\");\n    if (el != null) {\n      el.textContent = \"BokehJS is loading...\";\n    }\n    if (root.Bokeh !== undefined) {\n      if (el != null) {\n        el.textContent = \"BokehJS \" + root.Bokeh.version + \" successfully loaded.\";\n      }\n    } else if (Date.now() < root._bokeh_timeout) {\n      setTimeout(display_loaded, 100)\n    }\n  }\n\n\n  function run_callbacks() {\n    try {\n      root._bokeh_onload_callbacks.forEach(function(callback) {\n        if (callback != null)\n          callback();\n      });\n    } finally {\n      delete root._bokeh_onload_callbacks\n    }\n    console.debug(\"Bokeh: all callbacks have finished\");\n  }\n\n  function load_libs(css_urls, js_urls, callback) {\n    if (css_urls == null) css_urls = [];\n    if (js_urls == null) js_urls = [];\n\n    root._bokeh_onload_callbacks.push(callback);\n    if (root._bokeh_is_loading > 0) {\n      console.debug(\"Bokeh: BokehJS is being loaded, scheduling callback at\", now());\n      return null;\n    }\n    if (js_urls == null || js_urls.length === 0) {\n      run_callbacks();\n      return null;\n    }\n    console.debug(\"Bokeh: BokehJS not loaded, scheduling load and callback at\", now());\n    root._bokeh_is_loading = css_urls.length + js_urls.length;\n\n    function on_load() {\n      root._bokeh_is_loading--;\n      if (root._bokeh_is_loading === 0) {\n        console.debug(\"Bokeh: all BokehJS libraries/stylesheets loaded\");\n        run_callbacks()\n      }\n    }\n\n    function on_error() {\n      console.error(\"failed to load \" + url);\n    }\n\n    for (var i = 0; i < css_urls.length; i++) {\n      var url = css_urls[i];\n      const element = document.createElement(\"link\");\n      element.onload = on_load;\n      element.onerror = on_error;\n      element.rel = \"stylesheet\";\n      element.type = \"text/css\";\n      element.href = url;\n      console.debug(\"Bokeh: injecting link tag for BokehJS stylesheet: \", url);\n      document.body.appendChild(element);\n    }\n\n    for (var i = 0; i < js_urls.length; i++) {\n      var url = js_urls[i];\n      var element = document.createElement('script');\n      element.onload = on_load;\n      element.onerror = on_error;\n      element.async = false;\n      element.src = url;\n      console.debug(\"Bokeh: injecting script tag for BokehJS library: \", url);\n      document.head.appendChild(element);\n    }\n  };var element = document.getElementById(\"1001\");\n  if (element == null) {\n    console.error(\"Bokeh: ERROR: autoload.js configured with elementid '1001' but no matching script tag was found. \")\n    return false;\n  }\n\n  function inject_raw_css(css) {\n    const element = document.createElement(\"style\");\n    element.appendChild(document.createTextNode(css));\n    document.body.appendChild(element);\n  }\n\n  var js_urls = [\"https://cdn.pydata.org/bokeh/release/bokeh-1.3.4.min.js\", \"https://cdn.pydata.org/bokeh/release/bokeh-widgets-1.3.4.min.js\", \"https://cdn.pydata.org/bokeh/release/bokeh-tables-1.3.4.min.js\", \"https://cdn.pydata.org/bokeh/release/bokeh-gl-1.3.4.min.js\"];\n  var css_urls = [];\n\n  var inline_js = [\n    function(Bokeh) {\n      Bokeh.set_log_level(\"info\");\n    },\n    \n    function(Bokeh) {\n      \n    },\n    function(Bokeh) {} // ensure no trailing comma for IE\n  ];\n\n  function run_inline_js() {\n    \n    if ((root.Bokeh !== undefined) || (force === true)) {\n      for (var i = 0; i < inline_js.length; i++) {\n        inline_js[i].call(root, root.Bokeh);\n      }if (force === true) {\n        display_loaded();\n      }} else if (Date.now() < root._bokeh_timeout) {\n      setTimeout(run_inline_js, 100);\n    } else if (!root._bokeh_failed_load) {\n      console.log(\"Bokeh: BokehJS failed to load within specified timeout.\");\n      root._bokeh_failed_load = true;\n    } else if (force !== true) {\n      var cell = $(document.getElementById(\"1001\")).parents('.cell').data().cell;\n      cell.output_area.append_execute_result(NB_LOAD_WARNING)\n    }\n\n  }\n\n  if (root._bokeh_is_loading === 0) {\n    console.debug(\"Bokeh: BokehJS loaded, going straight to plotting\");\n    run_inline_js();\n  } else {\n    load_libs(css_urls, js_urls, function() {\n      console.debug(\"Bokeh: BokehJS plotting callback run at\", now());\n      run_inline_js();\n    });\n  }\n}(window));"
     },
     "metadata": {},
     "output_type": "display_data"
    }
   ],
   "source": [
    "import math\n",
    "from analysis_tools import *\n",
    "import bokeh\n",
    "from bokeh.plotting import *\n",
    "output_notebook()\n",
    "import matplotlib.pyplot as plt"
   ]
  },
  {
   "cell_type": "code",
   "execution_count": 2,
   "metadata": {},
   "outputs": [],
   "source": [
    "runs = runsFromFolder('data_and_control')"
   ]
  },
  {
   "cell_type": "code",
   "execution_count": 3,
   "metadata": {},
   "outputs": [
    {
     "data": {
      "text/html": [
       "\n",
       "\n",
       "\n",
       "\n",
       "\n",
       "\n",
       "  <div class=\"bk-root\" id=\"83d430ac-ef67-4fef-af36-0797d52dbbc0\" data-root-id=\"1002\"></div>\n"
      ]
     },
     "metadata": {},
     "output_type": "display_data"
    },
    {
     "data": {
      "application/javascript": [
       "(function(root) {\n",
       "  function embed_document(root) {\n",
       "    \n",
       "  var docs_json = {\"a314e55f-8617-4557-9ddc-6ee32df433b6\":{\"roots\":{\"references\":[{\"attributes\":{\"below\":[{\"id\":\"1013\",\"type\":\"LinearAxis\"}],\"center\":[{\"id\":\"1017\",\"type\":\"Grid\"},{\"id\":\"1022\",\"type\":\"Grid\"}],\"left\":[{\"id\":\"1018\",\"type\":\"LinearAxis\"}],\"renderers\":[{\"id\":\"1039\",\"type\":\"GlyphRenderer\"}],\"title\":{\"id\":\"1003\",\"type\":\"Title\"},\"toolbar\":{\"id\":\"1029\",\"type\":\"Toolbar\"},\"x_range\":{\"id\":\"1005\",\"type\":\"DataRange1d\"},\"x_scale\":{\"id\":\"1009\",\"type\":\"LinearScale\"},\"y_range\":{\"id\":\"1007\",\"type\":\"DataRange1d\"},\"y_scale\":{\"id\":\"1011\",\"type\":\"LinearScale\"}},\"id\":\"1002\",\"subtype\":\"Figure\",\"type\":\"Plot\"},{\"attributes\":{},\"id\":\"1026\",\"type\":\"SaveTool\"},{\"attributes\":{},\"id\":\"1027\",\"type\":\"ResetTool\"},{\"attributes\":{\"formatter\":{\"id\":\"1045\",\"type\":\"BasicTickFormatter\"},\"ticker\":{\"id\":\"1019\",\"type\":\"BasicTicker\"}},\"id\":\"1018\",\"type\":\"LinearAxis\"},{\"attributes\":{\"ticker\":{\"id\":\"1014\",\"type\":\"BasicTicker\"}},\"id\":\"1017\",\"type\":\"Grid\"},{\"attributes\":{},\"id\":\"1028\",\"type\":\"HelpTool\"},{\"attributes\":{\"callback\":null},\"id\":\"1005\",\"type\":\"DataRange1d\"},{\"attributes\":{},\"id\":\"1014\",\"type\":\"BasicTicker\"},{\"attributes\":{\"bottom_units\":\"screen\",\"fill_alpha\":{\"value\":0.5},\"fill_color\":{\"value\":\"lightgrey\"},\"left_units\":\"screen\",\"level\":\"overlay\",\"line_alpha\":{\"value\":1.0},\"line_color\":{\"value\":\"black\"},\"line_dash\":[4,4],\"line_width\":{\"value\":2},\"render_mode\":\"css\",\"right_units\":\"screen\",\"top_units\":\"screen\"},\"id\":\"1046\",\"type\":\"BoxAnnotation\"},{\"attributes\":{\"dimension\":1,\"ticker\":{\"id\":\"1019\",\"type\":\"BasicTicker\"}},\"id\":\"1022\",\"type\":\"Grid\"},{\"attributes\":{\"active_drag\":\"auto\",\"active_inspect\":\"auto\",\"active_multi\":null,\"active_scroll\":\"auto\",\"active_tap\":\"auto\",\"tools\":[{\"id\":\"1023\",\"type\":\"PanTool\"},{\"id\":\"1024\",\"type\":\"WheelZoomTool\"},{\"id\":\"1025\",\"type\":\"BoxZoomTool\"},{\"id\":\"1026\",\"type\":\"SaveTool\"},{\"id\":\"1027\",\"type\":\"ResetTool\"},{\"id\":\"1028\",\"type\":\"HelpTool\"}]},\"id\":\"1029\",\"type\":\"Toolbar\"},{\"attributes\":{},\"id\":\"1047\",\"type\":\"Selection\"},{\"attributes\":{},\"id\":\"1019\",\"type\":\"BasicTicker\"},{\"attributes\":{},\"id\":\"1048\",\"type\":\"UnionRenderers\"},{\"attributes\":{\"callback\":null,\"data\":{\"x\":[0.23918724999990082,0.24583875000004193,0.7364647500000661,1.2315387499999955,1.7305217500000374,2.231852000000002,2.7327645000000365,3.2803375000000115,3.7747995000000345,4.2789192500000235,4.778459500000033,5.294358500000055,5.817491750000009,6.346949750000016,6.862549500000034,7.371328500000028,7.882480500000004,8.441247750000063,8.951079750000009,9.442051750000008,9.933915250000032,10.436663749999983,10.950881000000026,11.478566250000032,11.97766950000003,12.473442750000034,12.96650975000006,13.449674749999994,13.95645525,14.506807000000009,15.030952250000055,15.518138250000053,16.021636250000004,16.520428500000023,17.025145750000036,17.542938750000005,18.04710800000001,18.59608950000006,19.18795625000002,19.709848000000044,20.243358500000028,20.785080750000056,21.333532500000025,21.850240750000033,22.36673900000002,22.873719000000044,23.375761750000052,23.89025450000005,24.427788250000056,24.95525600000004,25.463957250000004,25.984571250000023,26.50939925000004,27.014389249999983,27.56888675000004,28.150328250000094,28.690056750000064,29.220196250000015,29.71545575000003,30.247345500000016,30.76842525000003,31.280519000000066,31.790830500000034,32.303444500000026,32.857294750000065,33.38196225000005,33.903408000000034,34.478214,35.036990000000024,35.598460500000066,36.13689675000003,36.649217500000034,37.16575950000002,37.773876500000014,38.316435500000004,38.82668250000003,39.34704900000002,39.86927900000003,40.40318775000002,40.92736700000005,41.43794700000008,41.95621125000001,42.498203000000046,43.02027900000005,43.52668650000005,44.02842100000005,44.543360500000006,45.09075025000002,45.60922250000003,46.122427500000036,46.62525600000001,47.137391250000015,47.66750150000003,48.19636150000002,48.71943925000001,49.25765325000006,49.80348150000002,50.34943050000002,50.87493100000003,51.39221950000003,51.894893750000016,52.394215750000036,52.91781400000004,53.44503775000002,53.97216675000002,54.504555250000024,55.019927500000016,55.55839425000005,56.09223575000006,56.613926000000006,57.17363950000006,57.74294225000004,58.27128575000004,58.78543775000003,59.30916150000003,59.83575950000005,60.351613750000034,60.86646525000003,61.39328725000006,61.923136000000056,62.44911650000004,63.00135350000007,63.54786175000002,64.09208625000004,64.60895375000001,65.14000600000003,65.66853549999999,66.20726375000001,66.73767400000004,67.28373875000005,67.86920700000003,68.40434700000004,68.96161450000002,69.48746850000006,70.00433600000005,70.55405200000003,71.09850000000006,71.62570225000005,72.16794125000006,72.71180375000003,73.25841125000002,73.77344475000005,74.29749950000006,74.85079625000002,75.39635700000002,75.95639450000002,76.53954775000003,77.08477550000002,77.66311425,78.20086125000003,78.72534700000004,79.27132575000005,79.81437550000005,80.35219950000003,80.89321400000004,81.44280850000003,82.00309725000002,82.55151025000005,83.12720700000003,83.66622225000006,84.23259700000006,84.78864375000006,85.33690100000005,85.90615250000005,86.44364175000004,86.99204750000004,87.55187750000002,88.10812600000004,88.66443050000005,89.21093825000003,89.75728100000002,90.32813400000002,90.87727575000008,91.43715350000004,91.99160375000001,92.55578375000006,93.12630125,93.67391725000006,94.22578800000001,94.80192525000004,95.36444125000003,95.927861,96.48819350000007,97.04826225000004,97.6193395,98.17439525000006,98.71721300000004,99.29128225000002,99.83647575000002,100.43037075000007,101.00467275000005,101.55879175000004,102.12148649999999,102.67701025000004,103.23953500000005,103.79346150000006,104.35486225000004,104.91062775000007,105.45877100000003,106.022864,106.58920775000001,107.14689025000004,107.70391450000002,108.26145650000001,108.82822600000009,109.38954250000006,109.94719425000002,110.50856575,111.06500825,111.64337675000002,112.21239300000005,112.77106075000003,113.33275050000005,113.90076375000005,114.47381075000001,115.03760525000004,115.63564249999999,116.23905425000005,116.81220500000003,117.3898995,117.94305525000009,118.53322725000002,119.1101155,119.68713600000005,120.25759275000003,120.82493825000006,121.38524625000002,121.94297325000007,122.50517125000003,123.05905075000003,123.62380675000006,124.18108625000002,124.75261075000003,125.32210825000004,125.87745125000001,126.44894825000006,127.02120149999999,127.58273600000004,128.15148775000006,128.71176350000007,129.27847200000005,129.84285275000002,130.4066947500001,130.97019925,131.53181,132.08450325000007,132.64365450000008,133.21929175000005,133.78079000000005,134.35068074999998,134.95619875000006,135.53338900000003,136.10684725000002,136.67100275,137.23640200000003,137.79914424999998,138.37700375,138.93694225000004,139.49449925000005,140.06108024999997,140.61962375000002,141.17126149999999,141.74481125000003,142.3043685,142.87495275000006,143.43848175000005,144.010352,144.57451550000002,145.13763775000004,145.69824400000002,146.26256550000002,146.8282145,147.39647625000003,147.99001275000006,148.59973375,149.18468075000007,149.76359375,150.34769850000004,150.91779000000002,151.49245400000004,152.06327000000005,152.63692675000007,153.21818425000006,153.79642175,154.36140325000005,154.92346750000002,155.50387400000005,156.06808650000002,156.63225725000004,157.2035805,157.76940775,158.40364950000009,158.98655775000003,159.5679595000001,160.13442575000005,160.73153300000007,161.30258750000002,161.87161250000003,162.43703000000005,163.00250025000005,163.57002700000004,164.13754600000001,164.70874175,165.27475100000004,165.84409225000007,166.41967375000007,166.98779650000003,167.551753,168.11543700000004,168.70476125000005,169.27424725,169.88801100000003,170.46792000000002,171.04070875000008,171.60673850000003,172.26933525,172.88419375000007,173.51157275000006,174.07490800000005,174.65903475000002,175.24109525,175.81419875,176.394383,177.01567825,177.60246675000002,178.20310800000007,178.7687045,179.3307805000001,179.89688325000003,180.46317825000003,181.03279450000005,181.59842525000005,182.18211075000002,182.75704675000003,183.32245200000003,183.88940525000004,184.45982075000006,185.03020875000007,185.59768125,186.16608350000007,186.73687025000004,187.31384025000006,187.88670750000003,188.47389800000002,189.10929050000001,189.69943750000007,190.30651175000003,190.87264675000006,191.46231500000005,192.03265325000007,192.61320450000002,193.1869027500001,193.75481900000003,194.35081975000008,195.0430465,195.74079200000006,196.33436200000003,196.9197780000001,197.49500050000006,198.10228000000006,198.68399625000004,199.29517850000005,199.8748967500001,200.43775350000007,201.04169725000003,201.62295875,202.20509925000005,202.77620125,203.40238075000002,204.00308800000005,204.59047175000003,205.19533825000008,205.76361525000002,206.34662600000007,206.9522962500001,207.57899875000007,208.2155135,208.8236725000001,209.41268225000005,210.00164400000003,210.59600225000003,211.16992700000006,211.77782500000004,212.36243925000002,212.93529950000007,213.51861750000006,214.13359774999998,214.71179275000003,215.32157175000012,215.97642500000006,216.56340725000004,217.13778925000005,217.69825100000008,218.30488999999997,218.8751905,219.47076375000006,220.0460077500001,220.634355,221.23935600000004,221.84802675,222.46321400000005,223.06396325000009,223.6617925,224.2874585000001,224.8928677500001,225.5031865,226.10964375000003,226.68990425000007,227.3195785000001,227.94105725,228.5307690000001,229.20043550000005,229.8662440000001,230.45277474999997,231.04643975000005,231.64453275000005,232.21917750000003,232.80448499999997,233.41777075,234.00786850000003,234.57356925000005,235.16482450000004,235.7745052500001,236.37747625000006,236.9814602500001,237.57244400000008,238.169252,238.78800050000004,239.38621125000003,239.98397875000006,240.58911050000006,241.18909800000006,241.81206350000002,242.42603150000008,243.02746625000003,243.68179074999998,244.28619650000005,244.9083997500001,245.53766200000004,246.15128325000006,246.75125000000008,247.34778050000006,247.95706249999998,248.579012,249.18294325000002,249.82720800000007,250.46687075000006,251.0689397500001,251.7256955000001,252.35762850000006,252.94287950000003,253.53940500000013,254.15962975000002,254.76991025,255.38440825000006,256.01460750000007,256.62436800000006,257.24217925000005,257.839057,258.48115375000015,259.10698825000003,259.73499,260.3442840000001,260.93996450000003,261.5422610000001,262.2290735000001,262.832877,263.45015875000007,264.0725780000001,264.6767035,265.31158575000006,265.9217017500001,266.51692075,267.14059025,267.73745125,268.39831525,269.07794350000006,269.72821250000004,270.3940585,271.01748025000006,271.67138775,272.33637625000006,272.96481424999996,273.55936225000005,274.19020075,274.807727,275.42296400000004,276.0626327500001,276.70465850000005,277.32079300000004,277.98737400000005,278.67177675000005,279.363645,279.99857575000004,280.61242575,281.2421415000001,281.87966550000016,282.49363800000003,283.11325125000013,283.73612999999995,284.3493240000001,284.97181650000005,285.6381635000001,286.2534785000001,286.92540350000013,287.61141250000003,288.24324800000005,288.8661650000001,289.47784900000016,290.1322732500001,290.82736025,291.43209750000005,292.0717450000001,292.6889495,293.30115950000004,293.94077575,294.6130105000001,295.32520975000006,296.0243672500001,296.6700105,297.32047675,297.9379705,298.61589549999997,299.27472275,299.9370747500001,300.5463465000001,301.19724225,301.8829405,302.5419325,303.1628130000001,303.8156067500001,304.453441,305.0973682500001,305.74049350000007,306.37877575000005,307.01364725,307.68096325000005,308.32907575,308.99998100000005,309.65650625,310.2800882500002,310.926133,311.58420625,312.24191075,312.94913025000005,313.634412,314.32010550000007,314.9556377500001,315.5624477500001,316.2195725000001,316.84746950000005,317.4673605,318.1213202500001,318.80939800000016,319.4653072500001,320.1342495,320.9200460000002,321.76975675000006,322.46965525,323.1128270000001,323.77200400000004,324.4151070000001,325.07590949999997,325.72237400000006,326.3775952500001,327.02710400000007,327.6452675,328.26526475000014,328.9709370000001,329.6391557500001,330.344064,331.05056125000004,331.73498875000007,332.4198742500001,333.11029125,333.7543647500001,334.41614825,335.076297,335.7280095,336.42215825000005,337.07116775000014,337.71470100000005,338.3549122500001,339.0069145000001,339.68094875,340.34117475000005,340.9842080000001,341.63279725,342.2919925000001,342.976587,343.63944625000005,344.2835760000001,344.90787500000005,345.5697965000001,346.24442425000007,346.8806525000001,347.51081075000013,348.1934335,348.8542197500001,349.55387724999997,350.2628540000001,350.9297470000001,351.62111125000007,352.26607925,352.9042445000001,353.5503990000001,354.2604855000001,354.9286497500001,355.56732300000004,356.2686532500001,356.9064125,357.5707632500001,358.2246545000001,358.8403575000001,359.51754850000003,360.18894475000013,360.84631350000006,361.54435075000004,362.2114545,362.84314450000005,363.48314275,364.1425015000001,364.7984770000001,365.4193345000001,366.0637935000001,366.758894,367.42690175000007,368.0982452500001,368.75940550000007,369.40547475000005,370.05809224999996,370.72520900000006,371.4316350000001,372.1222155,372.79757325,373.4840325000001,374.1897277500001,374.8704900000001,375.57627325,376.2732302500001,376.9958095000001,377.72829150000007,378.44118299999997,379.15504125000007,379.84904200000005,380.58813275000006,381.33099675000005,382.0548042500001,382.7853410000001,383.4778492500001,384.1388662500002,384.83793950000006,385.5449375,386.2403042500001,386.95731925000007,387.66708550000004,388.3587080000001,389.0590220000001,389.79082175,390.481189,391.181426,391.89527975000004,392.61663300000004,393.3386060000001,394.0371395,394.7560725000001,395.46221725,396.16422700000004,396.8554657500001,397.56955625000006,398.2266932500001,398.93773200000004,399.62288750000005,400.3607537500001,401.07758099999995,401.76392675000005,402.4858097500001,403.18855625000003,403.88426674999994,404.6157645,405.3173015000001,406.0277502500001,406.7442985000001,407.44942275,408.1628915000001,408.87162025,409.56745900000004,410.2747055000001,410.92938775000005,411.6657557500001,412.3879150000001,413.09822625000004,413.80971225,414.49401350000016,415.18688025,415.883811,416.58598825000007,417.30350775000005,417.99792074999993,418.75516375000007,419.5069300000001,420.31427300000007,421.041239,421.75940125000017,422.50132625000003,423.25330425000004,424.01860500000004,424.73253850000003,425.5201855,426.29465975000005,427.0063302500001,427.7047757500001,428.44477075000003,429.1376150000002,429.87080525,430.5815812500001,431.41110175000006,432.19629650000013,432.9378625000002,433.68074775,434.44490099999996,435.2094155000001,435.9874227500001,436.7759430000001,437.55074075000005,438.2854840000001,439.00655700000004,439.73122524999997,440.4258522500001,441.109966,441.81433375000006,442.5310482500001,443.25423149999995,443.97300175,444.6856377500001,445.40619575,446.1360410000001,446.89800675000004,447.668274,448.3898027500001,449.1063747500001,449.86839875000004,450.6507530000002,451.3962399999999,452.1313997500001,452.88938375000015,453.64148725000007,454.36137800000006,455.1034402500001,455.83171350000003,456.5895295,457.30379875000006,458.03139825000017,458.7512522500001,459.45222250000006,460.23628900000006,461.02054225,461.7528967500001,462.49641450000007,463.1886230000001,463.9261082500001,464.6840582499999,465.47555300000005,466.27273325000016,467.0635475000001,467.9213090000001,468.77792924999994,469.6022725000001,470.33911075000003,471.1174975,471.88914725000006,472.5961015000001,473.34187175,474.10131599999994,474.85973300000006,475.66064350000005,476.45806400000004,477.3049287500001,478.08118675000003,478.88931475,479.65952749999997,480.4805685,481.2494335,481.98029275,482.7029062499999,483.41045550000007,484.16696749999994,484.93713375000004,485.7361740000001,486.4987185,487.2793600000001,488.00510325000005,488.75959600000004,489.48316775,490.29804399999995,491.041325,491.7942340000001,492.56194425,493.3197010000002,494.0818035000001,494.833533,495.5929990000001,496.3376057500001,497.12387150000006,497.91682425,498.81323125000006,499.63440900000006,500.43188575000005,501.1389640000001,501.9072252500001,502.71732725000004,503.54719625000024,504.30923525000014,505.060747,505.8130335000002,506.54746374999996,507.29244075000014,508.06440425,508.8287585,509.56629975000016,510.33587,511.07113525000005,511.83219499999996,512.5862227499999,513.34209175,514.0866235000001,514.82275,515.60427375,516.35201825,517.136174,517.94911575,518.6969130000002,519.4262725,520.2413867500001,521.0705125,521.8589187499999,522.6894047500002,523.4836600000001,524.2357760000002,524.9798145,525.7369094999999,526.5129207500001,527.325197,528.1432052499999,528.9666580000002,529.7304427500001,530.4677912500002,531.2176425,531.9386780000002,532.65691,533.4209767500001,534.1596792500002,534.94149925,535.7176380000001,536.5141850000002,537.2990942500003,538.1377910000001,538.9770147500001,539.7742825000003,540.574938,541.4005030000002,542.1763577500001,542.9795022500001,543.8063992500001,544.6475175000002,545.4763467500001,546.3246000000001,547.1047395,547.8801967500002,548.7678900000002,549.5828777499999,550.3847972500001,551.1409165,551.9321369999999,552.7280912500001,553.4750280000001,554.2414047499999,555.02449325,555.8404552500001,556.6703560000003,557.4532777500001,558.2490027500002,559.0497832500001,559.87635825,560.7069612500002,561.51112525,562.3124205000001,563.0807085,563.887933,564.71214325,565.4899800000001,566.2723465000001,567.0793950000001,567.87515525,568.6761752500001,569.4456035,570.27522025,571.0606212499999,571.8569712499999,572.6383364999999,573.422855,574.21145375,575.059778,575.8635035000001,576.6782740000001,577.4538345000001,578.2937462500001,579.084718,579.86212775,580.5958790000002,581.3731172500002,582.1850395000001,583.03552775,583.8499672500001,584.6504520000001,585.4507052500002,586.2752952500001,587.0628420000002,587.876709,588.6889832500001,589.5308947500001,590.3214692500003,591.1124834999999,591.9016550000001,592.687417,593.5164945,594.35840825,595.1815027499999,595.9686417500001,596.7936332500001,597.53428125,598.3116640000001,599.14158175,600.0014147500002,600.8354077500001,601.6396412500001,602.4412235,603.2487365,604.0162110000001,604.82220325,605.607301,606.3889952500002,607.1821514999999,607.9904445000002,608.8180542500002,609.6137415000001,610.3887687500002,611.1888325000001,611.976672,612.76163225,613.5918182500002,614.38271475,615.15515875,615.9678495,616.7454600000001,617.5420154999999,618.3809315000001,619.1876279999999,619.9560367500001,620.7399885000002,621.5274545000001,622.3036085000001,623.0862222500001,623.8936657500002,624.6942375,625.4681252500001,626.3017995000001,627.1130174999998,627.92814075,628.7538522500001,629.5697775,630.4583437500002,631.331414,632.10238075,632.8965235000001,633.7217012500001,634.6094310000002,635.505821,636.3746872500001,637.1696235000002,637.9532645000002,638.7546172500001,639.55184925,640.3440655,641.1189767500002,641.91049525,642.70310025,643.5028450000001,644.2874477500001,645.1900137500002,646.1442392499999,647.0210057500001,647.9221572500002,648.8002627500001,649.7390525000001,650.683409,651.6033692500001,652.416892,653.2063125,654.0446835000002,654.8460485,655.6618532500001,656.45272125,657.2714890000001,658.0548192500002,658.8696822500002,659.66490825,660.4617845,661.2717987500002,662.1024317499999,663.03879475,663.9944572500001,664.9494457500002,665.86879875,666.8328435000001,667.7615777500001,668.6928202500002,669.6019552500002,670.5451962500001,671.5321732499999,672.51414075,673.3652362500001,674.14994325,674.9513247500001,675.75654925,676.5737375,677.422435,678.283397,679.0924465,679.90992725,680.730413,681.5735725,682.36378425,683.1759917500001,683.9637422500001,684.8043365000001,685.63657775,686.48225775,687.2920145,688.092425,688.9087075,689.7148894999999,690.5296945000001,691.3496560000002,692.1388040000002,692.9388405000001,693.7587872500001,694.5778957500002,695.40572275,696.2432975,697.11082475,697.942985,698.768554,699.5698905000002,700.4175465000001,701.2268582500001,702.0368420000002,702.8950845000003,703.7406175000001,704.5325062500002,705.3512112500001,706.1668627500003,706.9905032500001,707.8688092499999,708.7703315000001,709.60174675,710.4949840000002,711.4382045],\"y\":[94.8875,94.8875,94.8875,94.8875,94.870625,94.55,94.55,94.31375,94.2125,94.145,93.9875,93.9875,93.68375,93.65,93.4475,93.3125,93.25625,93.0875,93.0875,92.766875,92.75,92.58125,92.4125,92.37875,92.1875,92.1875,91.95124999999999,91.85,91.79375,91.625,91.625,91.518125,91.5125,91.34375,91.175,91.14125,90.8375,90.8375,90.62375,90.6125,90.45500000000001,90.3875,90.33687499999999,90.275,90.258125,90.1625,90.1625,90.078125,90.05,89.999375,89.9375,89.91499999999999,89.7125,89.7125,89.7125,89.7125,89.639375,89.6,89.56625,89.4875,89.4875,89.4875,89.4875,89.41999999999999,89.375,89.414375,89.4875,89.47062500000001,89.375,89.369375,89.2625,89.2625,89.18937500000001,89.15,89.15,89.15,89.121875,89.0375,89.0375,88.925,88.925,88.85749999999999,88.8125,88.8125,88.8125,88.8125,88.8125,88.8125,88.73937500000001,88.7,88.7,88.7,88.7,88.806875,88.8125,88.8125,88.8125,88.86875,88.925,88.925,88.925,88.925,89.009375,89.0375,89.0375,89.0375,89.0375,89.0375,89.0375,89.0375,89.0375,89.121875,89.15,89.15,89.15,89.15,89.15,89.15,89.15,89.15,89.09375,89.0375,89.07124999999999,89.15,89.155625,89.2625,89.2625,89.2625,89.2625,89.2625,89.2625,89.2175,89.15,89.15,89.15,89.15,89.15,89.15,89.15,89.15,89.15,89.15,89.16125000000001,89.2625,89.2625,89.36375,89.375,89.375,89.375,89.44812499999999,89.4875,89.4875,89.4875,89.4875,89.4875,89.4875,89.6,89.6,89.79125,89.825,89.74625,89.7125,89.76875,89.825,89.825,89.825,89.825,89.825,89.825,89.825,89.825,89.825,89.825,89.825,89.825,89.886875,89.9375,89.9375,89.9375,89.9375,89.9375,89.954375,90.05,90.05,90.05,90.05,90.05,90.05,90.12875,90.1625,90.089375,90.05,89.99375,89.9375,89.9375,89.9375,89.9375,89.9375,89.94875,90.1625,90.1625,90.05562499999999,90.05,89.96000000000001,89.9375,90.01062499999999,90.05,90.05,90.05,90.095,90.1625,90.1625,90.1625,90.19624999999999,90.3875,90.3875,90.3875,90.393125,90.5,90.5,90.5,90.5,90.40437499999999,90.3875,90.2975,90.275,90.275,90.275,90.33125,90.3875,90.3875,90.3875,90.3875,90.3875,90.3875,90.3875,90.3875,90.5,90.5,90.5,90.5,90.59,90.6125,90.539375,90.5,90.44375,90.3875,90.348125,90.275,90.303125,90.3875,90.3875,90.3875,90.39875,90.5,90.5,90.71374999999999,90.725,90.629375,90.6125,90.53375,90.5,90.5,90.5,90.5,90.5,90.5,90.5,90.5,90.5,90.52250000000001,90.725,90.725,90.831875,90.8375,90.725,90.725,90.725,90.725,90.725,90.725,90.725,90.725,90.725,90.725,90.725,90.725,90.77,90.8375,90.8375,90.8375,90.87125,90.95,91.00625,91.175,91.191875,91.2875,91.293125,91.4,91.4,91.29875000000001,91.2875,91.1975,91.175,91.175,91.175,91.113125,91.0625,91.0625,91.0625,91.02875,90.95,90.91625,90.8375,90.820625,90.725,90.764375,90.8375,90.8375,90.8375,90.8375,90.8375,90.8375,90.8375,90.820625,90.725,90.725,90.725,90.725,90.725,90.725,90.820625,90.8375,90.921875,90.95,90.95,90.95,91.07375,91.175,91.175,91.175,91.175,91.175,91.146875,91.0625,91.09625,91.175,91.203125,91.2875,91.2875,91.2875,91.29875000000001,91.4,91.4,91.4,91.4,91.4,91.43937500000001,91.5125,91.445,91.2875,91.2875,91.2875,91.31,91.4,91.4,91.4,91.4,91.4,91.41687499999999,91.5125,91.5125,91.5125,91.50687500000001,91.4,91.4,91.4,91.4,91.4,91.41687499999999,91.5125,91.50125,91.4,91.38874999999999,91.2875,91.281875,91.175,91.175,91.175,91.175,91.175,91.169375,91.0625,91.0625,91.175,91.175,91.38874999999999,91.4,91.50125,91.5125,91.619375,91.625,91.625,91.625,91.625,91.619375,91.5125,91.5125,91.5125,91.5125,91.5125,91.5125,91.5125,91.54625,91.625,91.65875,91.7375,91.76,91.85,91.85,91.85,91.85,91.85,91.8725,91.9625,91.9625,91.9625,91.9625,91.9625,91.9625,91.9625,91.9625,91.9625,91.9625,91.9625,91.9625,91.9625,92.013125,92.075,92.01875,91.9625,92.01875,92.075,92.075,92.075,92.23249999999999,92.3,92.3,92.3,92.204375,92.1875,92.1875,92.1875,92.40124999999999,92.4125,92.525,92.525,92.525,92.519375,92.4125,92.4125,92.4125,92.4125,92.4125,92.4125,92.4125,92.4575,92.525,92.525,92.525,92.58687499999999,92.6375,92.699375,92.75,92.82312499999999,92.8625,92.76125,92.75,92.75,92.733125,92.6375,92.6375,92.6375,92.5925,92.525,92.575625,92.6375,92.6375,92.6375,92.78375,92.8625,92.755625,92.75,92.75,92.75,92.75,92.75,92.75,92.79499999999999,92.8625,92.91312500000001,92.975,92.901875,92.8625,92.8625,92.8625,92.64875,92.63187500000001,92.525,92.5475,92.6375,92.6375,92.6375,92.5925,92.525,92.525,92.525,92.70500000000001,92.75,92.8625,92.8625,92.8625,92.81750000000001,92.75,92.68249999999999,92.6375,92.71625,92.75,92.85125,92.8625,92.8625,92.84,92.75,92.70500000000001,92.6375,92.6375,92.6375,92.6375,92.6375,92.6375,92.6375,92.744375,92.766875,92.8625,92.8625,92.8625,92.94125,92.975,92.975,92.975,92.975,92.975,92.975,92.94125,92.8625,92.91875,92.975,92.975,93.03125,93.0875,93.160625,93.2,93.28999999999999,93.3125,93.3125,93.3125,93.3125,93.340625,93.425,93.425,93.425,93.32375,93.3125,93.3125,93.3125,93.3125,93.3125,93.3125,93.396875,93.425,93.425,93.441875,93.5375,93.5375,93.5375,93.5375,93.5375,93.5375,93.5375,93.63874999999999,93.66125000000001,93.7625,93.74,93.65,93.599375,93.5375,93.5375,93.5375,93.4475,93.425,93.425,93.425,93.425,93.425,93.425,93.509375,93.5375,93.65,93.65,93.65,93.610625,93.5375,93.47562500000001,93.425,93.34625,93.3125,93.3125,93.329375,93.425,93.464375,93.5375,93.59375,93.65,93.65,93.65,93.745625,93.75687500000001,93.65,93.621875,93.5375,93.486875,93.425,93.340625,93.3125,93.2,93.228125,93.3125,93.374375,93.425,93.425,93.4025,93.3125,93.43625,93.5375,93.5375,93.5375,93.5375,93.5375,93.5375,93.5375,93.56,93.65,93.52624999999999,93.425,93.52624999999999,93.5375,93.5375,93.59375,93.65,93.65,93.66125000000001,93.7625,93.7625,93.7625,93.7625,93.79625,93.9875,93.9875,93.9875,93.9875,93.9875,93.875,93.875,93.875,93.875,93.875,94.1,94.1,94.1,94.02125,93.9875,93.9875,94.0325,94.1,94.1,94.1,93.9875,93.95375,93.875,93.875,93.875,93.768125,93.790625,93.875,93.80749999999999,93.7625,93.66125000000001,93.6275,93.5375,93.5375,93.5375,93.7625,93.81875,93.875,93.97062500000001,94.015625,94.1,94.17875000000001,94.2125,94.2125,94.27437499999999,94.325,94.325,94.3025,94.2125,94.28,94.308125,94.2125,94.2125,94.2125,94.4375,94.38125,94.325,94.325,94.325,94.325,94.325,94.325,94.325,94.38125,94.4375,94.4375,94.454375,94.55,94.611875,94.6625,94.6625,94.701875,94.775,94.690625,94.6625,94.6625,94.589375,94.55,94.4375,94.4375,94.4375,94.5275,94.55,94.55,94.55,94.55,94.55,94.55,94.55,94.55,94.55,94.55,94.476875,94.4375,94.325,94.325,94.325,94.325,94.325,94.330625,94.4375,94.4375,94.4375,94.4375,94.36999999999999,94.325,94.325,94.325,94.325,94.420625,94.4375,94.4375,94.4375,94.38125,94.325,94.325,94.325,94.325,94.22937499999999,94.235,94.325,94.325,94.34187499999999,94.4375,94.51062499999999,94.55,94.55,94.595,94.6625,94.769375,94.82,94.8875,94.79187499999999,94.775,94.775,94.60625,94.56125,94.6625,94.6625,94.6625,94.6625,94.56125,94.578125,94.6625,94.746875,94.81437500000001,94.8875,94.97749999999999,94.97749999999999,94.8875,94.8875,94.8875,94.775,94.775,94.775,94.56125,94.589375,94.6625,94.6625,94.64,94.55,94.55,94.55,94.55,94.62312499999999,94.656875,94.55,94.55,94.55,94.55,94.55,94.55,94.55,94.6175,94.6625,94.6625,94.73,94.78625000000001,94.8875,94.81437500000001,94.775,94.55,94.44875,94.325,94.22937499999999,94.2125,94.2125,94.296875,94.38125,94.55,94.465625,94.4375,94.4375,94.544375,94.49375,94.4375,94.4375,94.4375,94.420625,94.325,94.240625,94.2125,94.2125,94.116875,94.1,94.1,94.1,94.055,93.9875,93.77375,93.80187500000001,93.875,93.97625,93.9875,93.9875,93.880625,93.875,93.875,93.7625,93.7625,93.75125,93.65,93.723125,93.785,93.875,93.95375,93.9875,93.9875,93.9875,93.965,93.875,93.785,93.79625,93.875,93.785,93.7625,93.7625,93.858125,93.875,93.875,93.875,93.99875,94.1,94.2125,94.2125,94.2125,94.2125,94.145,94.08874999999999,93.9875,93.9875,93.95375,93.7625,93.7625,93.7625,93.7625,93.7625,93.7625,93.7625,93.66687499999999,93.65,93.65,93.65,93.785,93.875,94.1,94.1,94.0775,93.9875,94.071875,94.06625,93.9875,93.9875,93.9875,93.9875,93.79625,93.7625,93.7625,93.66125000000001,93.56,93.425,93.531875,93.486875,93.425,93.5375,93.5375,93.5375,93.65,93.59375,93.5375,93.425,93.425,93.425,93.5375,93.605,93.65,93.65,93.65,93.655625,93.7625,93.68937500000001,93.61625000000001,93.425,93.425,93.39125,93.3125,93.5375,93.599375,93.65,93.65,93.57124999999999,93.5375,93.5375,93.5375,93.5375,93.5375,93.5375,93.599375,93.65,93.65,93.588125,93.5375,93.3125,93.23375,93.2,93.2,93.2,93.2,93.2,93.2,93.2,93.2,93.2,93.2,93.2,93.2,93.21125,93.3125,93.38562499999999,93.425,93.425,93.59375,93.65,93.65,93.543125,93.45875,93.36875,93.3125,93.3125,93.2,93.2,93.14937499999999,93.11,93.2,93.3125,93.3125,93.3125,93.3125,93.3125,93.351875,93.425,93.425,93.425,93.41375,93.2,93.12125,93.11,93.2,93.2,93.160625,93.0875,92.980625,92.975,92.975,93.0875,93.0875,93.0875,93.0875,93.160625,93.21687499999999,93.3125,93.3125,93.273125,93.2,93.425,93.425,93.41375,93.3125,93.3125,93.25625,93.0875,92.89625,92.91875,92.975,92.8625,92.93,92.975,92.975,92.975,92.975,92.975,92.975]},\"selected\":{\"id\":\"1047\",\"type\":\"Selection\"},\"selection_policy\":{\"id\":\"1048\",\"type\":\"UnionRenderers\"}},\"id\":\"1036\",\"type\":\"ColumnDataSource\"},{\"attributes\":{},\"id\":\"1009\",\"type\":\"LinearScale\"},{\"attributes\":{\"line_alpha\":0.1,\"line_color\":\"#1f77b4\",\"x\":{\"field\":\"x\"},\"y\":{\"field\":\"y\"}},\"id\":\"1038\",\"type\":\"Line\"},{\"attributes\":{\"source\":{\"id\":\"1036\",\"type\":\"ColumnDataSource\"}},\"id\":\"1040\",\"type\":\"CDSView\"},{\"attributes\":{\"data_source\":{\"id\":\"1036\",\"type\":\"ColumnDataSource\"},\"glyph\":{\"id\":\"1037\",\"type\":\"Line\"},\"hover_glyph\":null,\"muted_glyph\":null,\"nonselection_glyph\":{\"id\":\"1038\",\"type\":\"Line\"},\"selection_glyph\":null,\"view\":{\"id\":\"1040\",\"type\":\"CDSView\"}},\"id\":\"1039\",\"type\":\"GlyphRenderer\"},{\"attributes\":{\"callback\":null},\"id\":\"1007\",\"type\":\"DataRange1d\"},{\"attributes\":{\"text\":\"Run\"},\"id\":\"1003\",\"type\":\"Title\"},{\"attributes\":{},\"id\":\"1023\",\"type\":\"PanTool\"},{\"attributes\":{},\"id\":\"1043\",\"type\":\"BasicTickFormatter\"},{\"attributes\":{\"line_color\":\"#1f77b4\",\"x\":{\"field\":\"x\"},\"y\":{\"field\":\"y\"}},\"id\":\"1037\",\"type\":\"Line\"},{\"attributes\":{},\"id\":\"1045\",\"type\":\"BasicTickFormatter\"},{\"attributes\":{\"formatter\":{\"id\":\"1043\",\"type\":\"BasicTickFormatter\"},\"ticker\":{\"id\":\"1014\",\"type\":\"BasicTicker\"}},\"id\":\"1013\",\"type\":\"LinearAxis\"},{\"attributes\":{},\"id\":\"1024\",\"type\":\"WheelZoomTool\"},{\"attributes\":{},\"id\":\"1011\",\"type\":\"LinearScale\"},{\"attributes\":{\"overlay\":{\"id\":\"1046\",\"type\":\"BoxAnnotation\"}},\"id\":\"1025\",\"type\":\"BoxZoomTool\"}],\"root_ids\":[\"1002\"]},\"title\":\"Bokeh Application\",\"version\":\"1.3.4\"}};\n",
       "  var render_items = [{\"docid\":\"a314e55f-8617-4557-9ddc-6ee32df433b6\",\"roots\":{\"1002\":\"83d430ac-ef67-4fef-af36-0797d52dbbc0\"}}];\n",
       "  root.Bokeh.embed.embed_items_notebook(docs_json, render_items);\n",
       "\n",
       "  }\n",
       "  if (root.Bokeh !== undefined) {\n",
       "    embed_document(root);\n",
       "  } else {\n",
       "    var attempts = 0;\n",
       "    var timer = setInterval(function(root) {\n",
       "      if (root.Bokeh !== undefined) {\n",
       "        embed_document(root);\n",
       "        clearInterval(timer);\n",
       "      }\n",
       "      attempts++;\n",
       "      if (attempts > 100) {\n",
       "        console.log(\"Bokeh: ERROR: Unable to run BokehJS code because BokehJS library is missing\");\n",
       "        clearInterval(timer);\n",
       "      }\n",
       "    }, 10, root)\n",
       "  }\n",
       "})(window);"
      ],
      "application/vnd.bokehjs_exec.v0+json": ""
     },
     "metadata": {
      "application/vnd.bokehjs_exec.v0+json": {
       "id": "1002"
      }
     },
     "output_type": "display_data"
    }
   ],
   "source": [
    "test = runs[3]\n",
    "plot = figure(title=\"Run\")\n",
    "plot.line([t.time for t in test.data], [t.motorTemp for t in test.data])\n",
    "show(plot)"
   ]
  },
  {
   "cell_type": "code",
   "execution_count": 4,
   "metadata": {},
   "outputs": [
    {
     "data": {
      "text/plain": [
       "[]"
      ]
     },
     "execution_count": 4,
     "metadata": {},
     "output_type": "execute_result"
    }
   ],
   "source": [
    "findSpikes(test)"
   ]
  },
  {
   "cell_type": "code",
   "execution_count": 5,
   "metadata": {},
   "outputs": [],
   "source": [
    "keys = list(filter(lambda x: not '_' in x, dir(test.data[0])))"
   ]
  },
  {
   "cell_type": "code",
   "execution_count": 6,
   "metadata": {},
   "outputs": [],
   "source": [
    "eqTime = 60\n",
    "\n",
    "def equilibriumSection(run, cutoffIndex):\n",
    "    i = cutoffIndex\n",
    "    cutoffTime = run.data[i].time\n",
    "    while i > 0 and (cutoffTime - eqTime) < run.data[i].time:\n",
    "        i -= 1\n",
    "\n",
    "    return run.data[i:cutoffIndex]"
   ]
  },
  {
   "cell_type": "code",
   "execution_count": 7,
   "metadata": {},
   "outputs": [
    {
     "ename": "IndexError",
     "evalue": "list index out of range",
     "output_type": "error",
     "traceback": [
      "\u001b[1;31m---------------------------------------------------------------------------\u001b[0m",
      "\u001b[1;31mIndexError\u001b[0m                                Traceback (most recent call last)",
      "\u001b[1;32m<ipython-input-7-6a5cf5bd880d>\u001b[0m in \u001b[0;36m<module>\u001b[1;34m\u001b[0m\n\u001b[1;32m----> 1\u001b[1;33m \u001b[0meqData\u001b[0m \u001b[1;33m=\u001b[0m \u001b[0mequilibriumSection\u001b[0m\u001b[1;33m(\u001b[0m\u001b[0mtest\u001b[0m\u001b[1;33m,\u001b[0m \u001b[0mfindSpikes\u001b[0m\u001b[1;33m(\u001b[0m\u001b[0mtest\u001b[0m\u001b[1;33m)\u001b[0m\u001b[1;33m[\u001b[0m\u001b[1;36m0\u001b[0m\u001b[1;33m]\u001b[0m\u001b[1;33m)\u001b[0m\u001b[1;33m\u001b[0m\u001b[1;33m\u001b[0m\u001b[0m\n\u001b[0m\u001b[0;32m      2\u001b[0m \u001b[1;33m\u001b[0m\u001b[0m\n\u001b[0;32m      3\u001b[0m \u001b[1;31m# TODO: get and plot equilibrium section for all spikes\u001b[0m\u001b[1;33m\u001b[0m\u001b[1;33m\u001b[0m\u001b[1;33m\u001b[0m\u001b[0m\n",
      "\u001b[1;31mIndexError\u001b[0m: list index out of range"
     ]
    }
   ],
   "source": [
    "eqData = equilibriumSection(test, findSpikes(test)[0])\n",
    "\n",
    "# TODO: get and plot equilibrium section for all spikes"
   ]
  },
  {
   "cell_type": "code",
   "execution_count": null,
   "metadata": {
    "scrolled": true
   },
   "outputs": [],
   "source": [
    "for key in keys:\n",
    "    p = figure(title=key)\n",
    "    p.line([t.time for t in eqData], [getattr(t, key) for t in eqData])\n",
    "    show(p)"
   ]
  },
  {
   "cell_type": "code",
   "execution_count": null,
   "metadata": {
    "scrolled": true
   },
   "outputs": [],
   "source": [
    "#tmpD = test.data[i-100:i]\n",
    "#for key in keys:\n",
    "#    p = figure(title=key)\n",
    "#    p.line([t.time for t in tmpD], [getattr(t, key) for t in tmpD])\n",
    "#    show(p)"
   ]
  },
  {
   "cell_type": "code",
   "execution_count": null,
   "metadata": {
    "scrolled": true
   },
   "outputs": [],
   "source": [
    "import seaborn as sns"
   ]
  },
  {
   "cell_type": "code",
   "execution_count": null,
   "metadata": {},
   "outputs": [],
   "source": [
    "sns.boxplot([t.motorTemp for t in eqData])"
   ]
  },
  {
   "cell_type": "code",
   "execution_count": null,
   "metadata": {},
   "outputs": [],
   "source": [
    "from scipy import stats"
   ]
  },
  {
   "cell_type": "code",
   "execution_count": null,
   "metadata": {},
   "outputs": [],
   "source": [
    "times = [t.time for t in eqData]\n",
    "temps = [t.motorTemp for t in eqData]\n",
    "stats.linregress(times, temps)"
   ]
  },
  {
   "cell_type": "code",
   "execution_count": null,
   "metadata": {},
   "outputs": [],
   "source": [
    "import numpy"
   ]
  },
  {
   "cell_type": "code",
   "execution_count": null,
   "metadata": {},
   "outputs": [],
   "source": [
    "numpy.mean([t.motorTemp for t in eqData])"
   ]
  },
  {
   "cell_type": "code",
   "execution_count": null,
   "metadata": {},
   "outputs": [],
   "source": [
    "numpy.std([t.motorTemp for t in eqData])"
   ]
  },
  {
   "cell_type": "code",
   "execution_count": null,
   "metadata": {},
   "outputs": [],
   "source": [
    "\n",
    "\n",
    "    "
   ]
  },
  {
   "cell_type": "code",
   "execution_count": null,
   "metadata": {},
   "outputs": [],
   "source": []
  },
  {
   "cell_type": "code",
   "execution_count": null,
   "metadata": {},
   "outputs": [],
   "source": []
  },
  {
   "cell_type": "code",
   "execution_count": null,
   "metadata": {},
   "outputs": [],
   "source": [
    "eqTests = list(filter(lambda x: 'EqTest' in x.file, runs))\n",
    "[x.file for x in eqTests]"
   ]
  },
  {
   "cell_type": "code",
   "execution_count": null,
   "metadata": {},
   "outputs": [],
   "source": [
    "\n",
    "n = len(eqData)\n",
    "n_2 = math.floor(n / 2)\n",
    "\n",
    "mBar = 0\n",
    "for i in range(0, n_2):\n",
    "    x_i = eqData[i]\n",
    "    x_ni = eqData[n_2 + i]\n",
    "    m_i = (x_ni.motorTemp - x_i.motorTemp) / (x_ni.time - x_i.time)\n",
    "    mBar += m_i\n",
    "    \n",
    "abs(mBar)"
   ]
  },
  {
   "cell_type": "code",
   "execution_count": null,
   "metadata": {},
   "outputs": [],
   "source": [
    "def highlightSegment(run, hlStartTime, hlEndTime):\n",
    "    hlStartIndex = -1\n",
    "    hlEndIndex = -1\n",
    "\n",
    "    i = 0\n",
    "    while hlStartIndex < 0:\n",
    "        if (test.data[i].time >= hlStartTime):\n",
    "            hlStartIndex = i\n",
    "        i += 1\n",
    "    while hlEndIndex < 0:\n",
    "        if (test.data[i].time >= hlEndTime):\n",
    "            hlEndIndex = i\n",
    "        i += 1\n",
    "\n",
    "    plot = figure()\n",
    "\n",
    "    plot.line([t.time for t in run.data], [t.motorTemp for t in run.data])\n",
    "    hlData = run.data[hlStartIndex:hlEndIndex]\n",
    "    plot.scatter([t.time for t in hlData], [t.motorTemp for t in hlData], line_color='orange')\n",
    "\n",
    "    show(plot)"
   ]
  },
  {
   "cell_type": "code",
   "execution_count": null,
   "metadata": {},
   "outputs": [],
   "source": [
    "hlTimes = (eqData[0].time, eqData[-1].time)\n",
    "\n",
    "highlightSegment(test, hlTimes[0], hlTimes[1])"
   ]
  },
  {
   "cell_type": "code",
   "execution_count": null,
   "metadata": {},
   "outputs": [],
   "source": [
    "class SlopeCutoff:\n",
    "    def __init__(self):\n",
    "        self.eqSize = 60 * 2\n",
    "        self.sampleQueue = [(0.0, 0.0) for x in range(0, self.eqSize-1)]\n",
    "        self.mQueue = [0 for x in range(0, math.floor((self.eqSize/2) - 1))]\n",
    "        self.mSum = 0\n",
    "        self.seen = 0\n",
    "        self.mThresh = 1/self.eqSize\n",
    "\n",
    "        self.record_mSum = list()\n",
    "\n",
    "    def cutoffWindow(self, currentSample):\n",
    "        self.seen += 1\n",
    "    \n",
    "        self.sampleQueue.pop(0)\n",
    "        self.sampleQueue.append( (currentSample.time, currentSample.motorTemp) )\n",
    "        self.mSum -= self.mQueue.pop(0)\n",
    "                \n",
    "        halfPt = self.sampleQueue[int((self.eqSize/2)-1)]\n",
    "        yDelta = currentSample.motorTemp - halfPt[1]\n",
    "        xDelta = currentSample.time - halfPt[0]\n",
    "        m = yDelta / xDelta\n",
    "        self.mQueue.append(m)\n",
    "        self.mSum += m\n",
    "    \n",
    "        self.record_mSum.append( (currentSample.time, currentSample.motorTemp, self.mSum, m) )\n",
    "    \n",
    "        # If the queue is shorter than 60 seconds, keep running the motor.\n",
    "        if self.seen < self.eqSize:\n",
    "            return False\n",
    "        else:\n",
    "            return (abs(self.mSum) < self.mThresh) and (max([x[1] for x in self.sampleQueue]) - min([x[1] for x in self.sampleQueue])) < 1"
   ]
  },
  {
   "cell_type": "code",
   "execution_count": null,
   "metadata": {
    "scrolled": true
   },
   "outputs": [],
   "source": [
    "#i = 0\n",
    "#sc = SlopeCutoff()\n",
    "#while i < len(test.data) and not sc.cutoffWindow(test.data[i]):\n",
    "#    i += 1\n",
    "#    \n",
    "#i"
   ]
  },
  {
   "cell_type": "code",
   "execution_count": null,
   "metadata": {},
   "outputs": [],
   "source": [
    "#plot1 = figure()\n",
    "#plot1.line([x.time for x in test.data], [x.motorTemp for x in test.data])\n",
    "#show(plot1)\n",
    "\n",
    "#plot2 = figure(x_range=plot1.x_range)\n",
    "#plot2.line([x[0] for x in sc.record_mSum], [x[1] for x in sc.record_mSum])\n",
    "#show(plot2)"
   ]
  },
  {
   "cell_type": "code",
   "execution_count": null,
   "metadata": {},
   "outputs": [],
   "source": [
    "#highlightSegment(test, sc.sampleQueue[0][0], sc.sampleQueue[-1:][0][0])"
   ]
  },
  {
   "cell_type": "code",
   "execution_count": null,
   "metadata": {},
   "outputs": [],
   "source": [
    "runsWithEqSpike = filter(lambda r: len(r.data) > 120 and max(r.data, key=lambda o: o.pwm).pwm > 1400, eqTests)"
   ]
  },
  {
   "cell_type": "code",
   "execution_count": null,
   "metadata": {},
   "outputs": [],
   "source": [
    "def findNewEqInRun(run):\n",
    "    i = 0\n",
    "    sc = SlopeCutoff()\n",
    "    while i < len(run.data) and not sc.cutoffWindow(run.data[i]):\n",
    "        i += 1\n",
    "\n",
    "    highlightSegment(run, sc.sampleQueue[0][0], sc.sampleQueue[-1:][0][0])\n",
    "    \n",
    "    #plot = figure()\n",
    "    #plot.scatter([x[0] for x in sc.record_mSum], [x[1] for x in sc.record_mSum])\n",
    "    #show(plot)\n",
    "    \n",
    "    return sc"
   ]
  },
  {
   "cell_type": "code",
   "execution_count": null,
   "metadata": {},
   "outputs": [],
   "source": [
    "errs = list()\n",
    "evaluation = list()\n",
    "for run in runsWithEqSpike:\n",
    "    print()\n",
    "    print(run.file)\n",
    "    try:\n",
    "        sc = findNewEqInRun(run)\n",
    "        temps = [x[1] for x in sc.sampleQueue]\n",
    "        print('min temp: ' + str(min(temps)))\n",
    "        print('max temp: ' + str(max(temps)))\n",
    "        print('temp range: ' + str(max(temps) - min(temps)))\n",
    "        print('samples: ' + str(len(sc.sampleQueue)))\n",
    "        \n",
    "        m_actual = stats.linregress([x[0] for x in sc.sampleQueue], [x[1] for x in sc.sampleQueue])\n",
    "        \n",
    "        evaluation.append(sc, m_actual)\n",
    "        \n",
    "    except:\n",
    "        errs.append(run.file)"
   ]
  },
  {
   "cell_type": "code",
   "execution_count": null,
   "metadata": {
    "scrolled": true
   },
   "outputs": [],
   "source": [
    "import seaborn as sns"
   ]
  },
  {
   "cell_type": "code",
   "execution_count": null,
   "metadata": {},
   "outputs": [],
   "source": []
  },
  {
   "cell_type": "markdown",
   "metadata": {},
   "source": [
    "# Eq Proof Files"
   ]
  },
  {
   "cell_type": "code",
   "execution_count": null,
   "metadata": {},
   "outputs": [],
   "source": [
    "proofRuns = runsFromFolder('eq_proof')"
   ]
  },
  {
   "cell_type": "code",
   "execution_count": null,
   "metadata": {
    "scrolled": true
   },
   "outputs": [],
   "source": [
    "errs = list()\n",
    "evaluation = list()\n",
    "for run in proofRuns:\n",
    "    print()\n",
    "    print(run.file)\n",
    "    try:\n",
    "        sc = findNewEqInRun(run)\n",
    "        temps = [x[1] for x in sc.sampleQueue]\n",
    "        print('min temp: ' + str(min(temps)))\n",
    "        print('max temp: ' + str(max(temps)))\n",
    "        print('temp range: ' + str(max(temps) - min(temps)))\n",
    "        print('samples: ' + str(len(sc.sampleQueue)))\n",
    "        \n",
    "        m_actual = stats.linregress([x[0] for x in sc.sampleQueue], [x[1] for x in sc.sampleQueue])\n",
    "        \n",
    "        evaluation.append(sc, m_actual)\n",
    "        \n",
    "    except:\n",
    "        errs.append(run.file)"
   ]
  },
  {
   "cell_type": "code",
   "execution_count": null,
   "metadata": {},
   "outputs": [],
   "source": []
  },
  {
   "cell_type": "code",
   "execution_count": null,
   "metadata": {},
   "outputs": [],
   "source": []
  },
  {
   "cell_type": "code",
   "execution_count": null,
   "metadata": {},
   "outputs": [],
   "source": []
  },
  {
   "cell_type": "code",
   "execution_count": null,
   "metadata": {},
   "outputs": [],
   "source": []
  },
  {
   "cell_type": "code",
   "execution_count": null,
   "metadata": {
    "scrolled": true
   },
   "outputs": [],
   "source": []
  },
  {
   "cell_type": "code",
   "execution_count": null,
   "metadata": {},
   "outputs": [],
   "source": []
  },
  {
   "cell_type": "code",
   "execution_count": null,
   "metadata": {},
   "outputs": [],
   "source": []
  },
  {
   "cell_type": "markdown",
   "metadata": {},
   "source": [
    "## Toy Example of Slope Approximation"
   ]
  },
  {
   "cell_type": "code",
   "execution_count": null,
   "metadata": {},
   "outputs": [],
   "source": [
    "xtoy = [0,6,12,18,24,30,36,42,48,54]\n",
    "ytoy = [79.6, 79.3,80.3, 79.7, 79.2, 79.5, 79.7, 79.9, 79.5, 79.6]"
   ]
  },
  {
   "cell_type": "code",
   "execution_count": null,
   "metadata": {},
   "outputs": [],
   "source": [
    "toyAvg = sum(ytoy) / len(ytoy)"
   ]
  },
  {
   "cell_type": "code",
   "execution_count": null,
   "metadata": {},
   "outputs": [],
   "source": [
    "toyReg = stats.linregress(xtoy, ytoy)"
   ]
  },
  {
   "cell_type": "code",
   "execution_count": null,
   "metadata": {},
   "outputs": [],
   "source": [
    "plot = figure(title='Time vs Temperature', x_axis_label='Time (s)', y_axis_label='Temperature (°F)', x_range=[-3,60])\n",
    "plot.scatter(xtoy, ytoy, size=7)\n",
    "plot.line(xtoy, ytoy, line_width=3)\n",
    "show(plot)"
   ]
  },
  {
   "cell_type": "code",
   "execution_count": null,
   "metadata": {},
   "outputs": [],
   "source": [
    "cs = ['red', 'orange', 'green', 'blue', 'purple', 'grey']\n",
    "pts = list(zip(xtoy, ytoy))\n",
    "\n",
    "def line(p1, p2):\n",
    "    return [p1, p2], (p2[1] - p1[1]) / (p2[0] - p1[0])\n",
    "\n",
    "t = [ line(pts[0], pts[4]),\n",
    "line(pts[1], pts[5]),\n",
    "line(pts[2], pts[6]),\n",
    "line(pts[3], pts[7]),\n",
    "line(pts[4], pts[8]),\n",
    "line(pts[5], pts[9]) ]\n",
    "\n",
    "mbar = 0\n",
    "for i in range(0, len(t)):\n",
    "    l,m = t[i]\n",
    "    plot.line([x[0] for x in l], [x[1] for x in l], line_color=cs[i], line_dash='dotted', line_width=2)\n",
    "    mbar += m\n",
    "\n",
    "show(plot)"
   ]
  },
  {
   "cell_type": "code",
   "execution_count": null,
   "metadata": {},
   "outputs": [],
   "source": [
    "toyReg.slope, mbar"
   ]
  },
  {
   "cell_type": "code",
   "execution_count": null,
   "metadata": {},
   "outputs": [],
   "source": [
    "toyPlt = [(x, toyAvg+((x-30)*mbar)) for x in range(0, 60)]\n",
    "xToyPlt = [x[0] for x in toyPlt]\n",
    "yToyPlt = [x[1] for x in toyPlt]\n",
    "plot.line(xToyPlt, yToyPlt, line_dash='dashed', line_color='red', line_width=3)\n",
    "show(plot)"
   ]
  },
  {
   "cell_type": "code",
   "execution_count": null,
   "metadata": {},
   "outputs": [],
   "source": [
    "toyRegPlt = [(x, toyReg.intercept+(x*toyReg.slope)) for x in range(0, 60)]\n",
    "xToyReg = [x[0] for x in toyRegPlt]\n",
    "yToyReg = [x[1] for x in toyRegPlt]\n",
    "plot.line(xToyReg, yToyReg, line_dash='dashed', line_color='black', line_width=5)\n",
    "show(plot)"
   ]
  },
  {
   "cell_type": "code",
   "execution_count": null,
   "metadata": {},
   "outputs": [],
   "source": [
    "max(yToyPlt) - min(yToyPlt)"
   ]
  },
  {
   "cell_type": "code",
   "execution_count": null,
   "metadata": {},
   "outputs": [],
   "source": [
    "mTest = 0\n",
    "for i in range(0, len(xtoy)):\n",
    "    for j in range(i+1, len(xtoy)):\n",
    "        mTest += (ytoy[j] - ytoy[i]) / (xtoy[j] - ytoy[i])\n",
    "\n",
    "mTest"
   ]
  },
  {
   "cell_type": "code",
   "execution_count": null,
   "metadata": {},
   "outputs": [],
   "source": [
    "print('\\n'.join([str(x[1]) for x in t]))"
   ]
  },
  {
   "cell_type": "code",
   "execution_count": null,
   "metadata": {},
   "outputs": [],
   "source": [
    "sum([x[1] for x in t])"
   ]
  },
  {
   "cell_type": "code",
   "execution_count": null,
   "metadata": {},
   "outputs": [],
   "source": []
  },
  {
   "cell_type": "code",
   "execution_count": null,
   "metadata": {},
   "outputs": [],
   "source": []
  },
  {
   "cell_type": "code",
   "execution_count": null,
   "metadata": {},
   "outputs": [],
   "source": []
  },
  {
   "cell_type": "code",
   "execution_count": null,
   "metadata": {},
   "outputs": [],
   "source": []
  },
  {
   "cell_type": "code",
   "execution_count": null,
   "metadata": {},
   "outputs": [],
   "source": []
  },
  {
   "cell_type": "code",
   "execution_count": null,
   "metadata": {},
   "outputs": [],
   "source": []
  },
  {
   "cell_type": "code",
   "execution_count": null,
   "metadata": {},
   "outputs": [],
   "source": []
  },
  {
   "cell_type": "code",
   "execution_count": null,
   "metadata": {},
   "outputs": [],
   "source": []
  },
  {
   "cell_type": "code",
   "execution_count": null,
   "metadata": {},
   "outputs": [],
   "source": []
  },
  {
   "cell_type": "code",
   "execution_count": null,
   "metadata": {},
   "outputs": [],
   "source": []
  },
  {
   "cell_type": "code",
   "execution_count": null,
   "metadata": {},
   "outputs": [],
   "source": []
  },
  {
   "cell_type": "code",
   "execution_count": null,
   "metadata": {},
   "outputs": [],
   "source": []
  },
  {
   "cell_type": "code",
   "execution_count": null,
   "metadata": {},
   "outputs": [],
   "source": []
  },
  {
   "cell_type": "code",
   "execution_count": null,
   "metadata": {},
   "outputs": [],
   "source": []
  },
  {
   "cell_type": "code",
   "execution_count": null,
   "metadata": {},
   "outputs": [],
   "source": []
  },
  {
   "cell_type": "code",
   "execution_count": null,
   "metadata": {},
   "outputs": [],
   "source": []
  },
  {
   "cell_type": "code",
   "execution_count": null,
   "metadata": {},
   "outputs": [],
   "source": []
  },
  {
   "cell_type": "code",
   "execution_count": null,
   "metadata": {},
   "outputs": [],
   "source": []
  },
  {
   "cell_type": "code",
   "execution_count": null,
   "metadata": {},
   "outputs": [],
   "source": []
  },
  {
   "cell_type": "code",
   "execution_count": null,
   "metadata": {},
   "outputs": [],
   "source": []
  },
  {
   "cell_type": "code",
   "execution_count": null,
   "metadata": {},
   "outputs": [],
   "source": []
  },
  {
   "cell_type": "code",
   "execution_count": null,
   "metadata": {},
   "outputs": [],
   "source": []
  },
  {
   "cell_type": "code",
   "execution_count": null,
   "metadata": {},
   "outputs": [],
   "source": []
  },
  {
   "cell_type": "code",
   "execution_count": null,
   "metadata": {},
   "outputs": [],
   "source": []
  },
  {
   "cell_type": "code",
   "execution_count": null,
   "metadata": {},
   "outputs": [],
   "source": []
  }
 ],
 "metadata": {
  "kernelspec": {
   "display_name": "Python 3",
   "language": "python",
   "name": "python3"
  },
  "language_info": {
   "codemirror_mode": {
    "name": "ipython",
    "version": 3
   },
   "file_extension": ".py",
   "mimetype": "text/x-python",
   "name": "python",
   "nbconvert_exporter": "python",
   "pygments_lexer": "ipython3",
   "version": "3.7.4"
  }
 },
 "nbformat": 4,
 "nbformat_minor": 4
}
